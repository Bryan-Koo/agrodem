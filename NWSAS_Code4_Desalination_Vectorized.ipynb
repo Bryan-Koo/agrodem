{
 "cells": [
  {
   "cell_type": "code",
   "execution_count": 1,
   "metadata": {
    "collapsed": true
   },
   "outputs": [],
   "source": [
    "#import the required Python packages\n",
    "\n",
    "import pandas as pd\n",
    "import datetime   \n",
    "#import pyeto\n",
    "import numpy as np\n",
    "import ast       \n",
    "from ast import literal_eval  \n",
    "from pandas import DataFrame\n",
    "\n",
    "#from pyeto import fao\n",
    "from datetime import datetime\n",
    "%matplotlib inline     "
   ]
  },
  {
   "cell_type": "code",
   "execution_count": 2,
   "metadata": {
    "collapsed": true
   },
   "outputs": [],
   "source": [
    "#Note: You might need to add a column for tds level:\n",
    "\n",
    "df=pd.read_excel('Pilot20190124_Part3.xlsx') \n"
   ]
  },
  {
   "cell_type": "code",
   "execution_count": 3,
   "metadata": {
    "collapsed": true
   },
   "outputs": [],
   "source": [
    "df.columns = map(str.lower, df.columns)"
   ]
  },
  {
   "cell_type": "code",
   "execution_count": 4,
   "metadata": {},
   "outputs": [
    {
     "data": {
      "text/plain": [
       "0        3000\n",
       "1        3000\n",
       "2        3000\n",
       "3        3000\n",
       "4        3000\n",
       "5        3000\n",
       "6        3000\n",
       "7        3000\n",
       "8        3000\n",
       "9        3000\n",
       "10       3000\n",
       "11       3000\n",
       "12       3000\n",
       "13       3000\n",
       "14       3000\n",
       "15       3000\n",
       "16       3000\n",
       "17       3000\n",
       "18       3000\n",
       "19       3000\n",
       "20       3000\n",
       "21       3000\n",
       "22       3000\n",
       "23       3000\n",
       "24       3000\n",
       "25       3000\n",
       "26       3000\n",
       "27       3000\n",
       "28       3000\n",
       "29       3000\n",
       "         ... \n",
       "29916    2000\n",
       "29917    2000\n",
       "29918    2000\n",
       "29919    2000\n",
       "29920    2000\n",
       "29921    2000\n",
       "29922    2000\n",
       "29923    2000\n",
       "29924    2000\n",
       "29925    2000\n",
       "29926    2000\n",
       "29927    2000\n",
       "29928    2000\n",
       "29929    2000\n",
       "29930    2000\n",
       "29931    2000\n",
       "29932    2000\n",
       "29933    2000\n",
       "29934    2000\n",
       "29935    2000\n",
       "29936    2000\n",
       "29937    2000\n",
       "29938    2000\n",
       "29939    2000\n",
       "29940    2000\n",
       "29941    2000\n",
       "29942    2000\n",
       "29943    2000\n",
       "29944    2000\n",
       "29945    2000\n",
       "Name: tds, Length: 29946, dtype: int64"
      ]
     },
     "execution_count": 4,
     "metadata": {},
     "output_type": "execute_result"
    }
   ],
   "source": [
    "df['tds']"
   ]
  },
  {
   "cell_type": "code",
   "execution_count": 5,
   "metadata": {
    "collapsed": true
   },
   "outputs": [],
   "source": [
    "#Set the default values\n",
    "for i in range (1,13):\n",
    "    df['osmotic_pressure'.format(i)] = 0\n",
    "    df['Edesal_GWh_{}'.format(i)] = 0 "
   ]
  },
  {
   "cell_type": "code",
   "execution_count": 6,
   "metadata": {
    "collapsed": true
   },
   "outputs": [],
   "source": [
    "#Define inputs:\n",
    "\n",
    "osm_coeff = 0.95 #osmotic coefficient =1 \n",
    "molar_mass = 58.44 # molar mass of NaCl = 58.44 mg/mol\n",
    "dissociation = 2 #NaCL dissociation is to 2 ions Na and Cl\n",
    "concentration = df['tds'] \n",
    "gas_const = 0.083145  #universal gas constant (R) = 0.083145\n",
    "wtemp = 25 + 273 #water temperature in Kalven (Tc+273): 25 degree is an assumption\n",
    "\n",
    "\n",
    "#solute_concentration = dissociation * concentration / molar_mass\n",
    "\n",
    "#osmotic_pressure = osm_coeff * solute_concentration * gas_const * temp\n",
    " \n",
    "\n",
    "\n",
    "#if (df['tds'] > 2000):\n",
    "#    return df['osmotic_pressure'] = osm_coeff * (dissociation *df['tds']/molar_mass) *  gas_const * wtemp\n",
    "#else:\n",
    "#    return df['osmotic_pressure'] = 0\n",
    "\n",
    "df['osmotic_pressure'] = osm_coeff * (dissociation *df.tds[df['tds']>2000]/molar_mass) *  gas_const * wtemp\n",
    "\n",
    "df['osmotic_pressure'] = df['osmotic_pressure'].fillna(0)\n",
    "\n",
    "#df.tds[df['tds']>2000]: This set the criteria that for tds>2000 desalination required"
   ]
  },
  {
   "cell_type": "code",
   "execution_count": null,
   "metadata": {
    "collapsed": true
   },
   "outputs": [],
   "source": [
    "\n"
   ]
  },
  {
   "cell_type": "code",
   "execution_count": 7,
   "metadata": {
    "collapsed": true
   },
   "outputs": [],
   "source": [
    "#Energy intensity in Kwh/m3\n",
    "\n",
    "df['Einten_KWh/m3'] = df['osmotic_pressure']/36"
   ]
  },
  {
   "cell_type": "code",
   "execution_count": 8,
   "metadata": {},
   "outputs": [
    {
     "name": "stdout",
     "output_type": "stream",
     "text": [
      "Wall time: 28 ms\n"
     ]
    }
   ],
   "source": [
    "%%time\n",
    "\n",
    "for i in range(1,13):\n",
    "    Edesal_GWh = 'Edesal_GWh_{}'.format(i)\n",
    "    SSWD = 'sswd_{}'.format(i)\n",
    "    \n",
    "    \n",
    "    df[Edesal_GWh] = (df['Einten_KWh/m3'] * df[SSWD]) /1000000\n",
    "    \n",
    "    "
   ]
  },
  {
   "cell_type": "code",
   "execution_count": 9,
   "metadata": {},
   "outputs": [
    {
     "name": "stdout",
     "output_type": "stream",
     "text": [
      "                     area_m2  osmotic_pressure\n",
      "prov                                          \n",
      "Adrar           2.411980e+08      1.765135e+07\n",
      "Jabal Algharbi  8.506696e+07      1.123509e+07\n",
      "Tozeur          1.265473e+08      5.377087e+06\n"
     ]
    }
   ],
   "source": [
    "#Filter data by provenence: \n",
    "df2=df.groupby('prov', as_index=True).sum()\n",
    "sswd = df.filter(like='sswd_').sum()\n",
    "Edesal = df.filter(like='Edesal_GWh_').sum()\n",
    "\n",
    "final = df2.filter(['area_m2','sswd_','osmotic_pressure','Edesal_GWh_','country'])\n",
    "print(final)"
   ]
  },
  {
   "cell_type": "code",
   "execution_count": null,
   "metadata": {
    "collapsed": true
   },
   "outputs": [],
   "source": []
  },
  {
   "cell_type": "code",
   "execution_count": 10,
   "metadata": {
    "collapsed": true
   },
   "outputs": [],
   "source": [
    "#Create a Pandas Excel writer using XlsxWriter as the engine.\n",
    "writer = pd.ExcelWriter('Pilot2019024_Part4.xlsx', engine='xlsxwriter')\n",
    "writer.book.use_zip64()\n",
    "\n",
    "# Convert the dataframe to an XlsxWriter Excel object.\n",
    "df.to_excel(writer, sheet_name='All')\n",
    "df2.to_excel(writer, sheet_name='Prov')\n",
    "#sswd.to_excel(writer, sheet_name='SSWD in m3')\n",
    "#Edesal.to_excel(writer, sheet_name='Edesal in KWh')\n",
    "\n",
    "# Close the Pandas Excel writer and output the Excel file.\n",
    "writer.save()"
   ]
  },
  {
   "cell_type": "code",
   "execution_count": 63,
   "metadata": {
    "collapsed": true
   },
   "outputs": [],
   "source": []
  },
  {
   "cell_type": "code",
   "execution_count": 1,
   "metadata": {},
   "outputs": [
    {
     "data": {
      "text/plain": [
       "'3.5.3 |Anaconda 4.4.0 (64-bit)| (default, May 15 2017, 10:43:23) [MSC v.1900 64 bit (AMD64)]'"
      ]
     },
     "execution_count": 1,
     "metadata": {},
     "output_type": "execute_result"
    }
   ],
   "source": [
    "import sys\n",
    "sys.version"
   ]
  },
  {
   "cell_type": "code",
   "execution_count": null,
   "metadata": {
    "collapsed": true
   },
   "outputs": [],
   "source": []
  }
 ],
 "metadata": {
  "anaconda-cloud": {},
  "kernelspec": {
   "display_name": "Python [default]",
   "language": "python",
   "name": "python3"
  },
  "language_info": {
   "codemirror_mode": {
    "name": "ipython",
    "version": 3
   },
   "file_extension": ".py",
   "mimetype": "text/x-python",
   "name": "python",
   "nbconvert_exporter": "python",
   "pygments_lexer": "ipython3",
   "version": "3.5.3"
  }
 },
 "nbformat": 4,
 "nbformat_minor": 2
}
