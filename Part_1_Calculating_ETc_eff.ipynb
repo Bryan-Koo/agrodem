{
 "cells": [
  {
   "cell_type": "markdown",
   "metadata": {},
   "source": [
    "# Part 1: Calculating ETo, kc, ETc and effective rainfall\n",
    "\n",
    "This part of the model estimates monthly variation of:\n",
    "\n",
    "* Reference evapotranspiration (ETo)\n",
    "* Crop coefficient (kc)\n",
    "* Crop evaporotransiration (ETc)\n",
    "* Effective rainfall (eff)\n",
    "\n",
    "the crop evapotranspiration under standard conditions (ETc) and single crop coefficient (kc)"
   ]
  },
  {
   "cell_type": "markdown",
   "metadata": {},
   "source": [
    "## First import modules required"
   ]
  },
  {
   "cell_type": "code",
   "execution_count": 230,
   "metadata": {},
   "outputs": [],
   "source": [
    "import pandas as pd\n",
    "from datetime import datetime\n",
    "import pyeto\n",
    "import numpy as np\n",
    "import ast       \n",
    "import math\n",
    "from ast import literal_eval  \n",
    "from pandas import DataFrame\n",
    "from scipy.interpolate import interp1d\n",
    "import dateutil     #dateutil module provides powerful extensions to the standard datetime module\n",
    "from dateutil import parser  #This module offers reads the given date in string and convert it to date format or timestamps,it represent a date and/or time from most known formats \n",
    "\n",
    "# note that pyeto is available here https://github.com/woodcrafty/PyETo.git\n",
    "from pyeto import fao\n",
    "\n",
    "%matplotlib inline\n",
    "\n",
    "math.exp = np.exp\n",
    "math.pow = np.power\n",
    "math.sqrt = np.sqrt"
   ]
  },
  {
   "cell_type": "markdown",
   "metadata": {},
   "source": [
    "## Importing initial dataset "
   ]
  },
  {
   "cell_type": "markdown",
   "metadata": {},
   "source": [
    "Main inputs include (TBU):\n",
    "\n",
    "* Country name\n",
    "* Crop lat, lon\n",
    "* Crop area (m2)\n",
    "* Ground water depth (m)\n",
    "* Elevation (m)\n",
    "* Average wind speed per month (m s-1)\n",
    "* Min, Average, Max temperature per month (C)\n",
    "* Average precipitation per month mm)\n",
    "* Average solar irradiation per month (kJ m-2 day-1)\n",
    "\n",
    "This is a sample dataset with about 1000 rows located in Zambezia province in Mozambique. "
   ]
  },
  {
   "cell_type": "code",
   "execution_count": 231,
   "metadata": {},
   "outputs": [
    {
     "name": "stdout",
     "output_type": "stream",
     "text": [
      "Wall time: 39 ms\n"
     ]
    }
   ],
   "source": [
    "%%time\n",
    "\n",
    "df=pd.read_csv('Pilot_Input_Crop_Cassava.csv') \n",
    "\n",
    "# Cleaning data commands\n",
    "\n",
    "#df=df.drop(df[df['harv_t']==0].index) #Deleting any point that has zero harvesting area\n",
    "#df=df.reset_index()    #reseting the index after deleting the zero value points\n",
    "#del df['index']        #The previous step will generate a new column form the old index, this step deletes this column with old index\n",
    "\n",
    "#in the intital code, there are two more steps related to calibration and projection. Check if you need them\n",
    "#define available water content  ##Not used in the ETO estimation\n",
    "\n",
    "#where 0.9 rooting depth for maize and 50% maximum depletion factor\n",
    "\n",
    "#def awc_class(row):\n",
    "#    if (row['awc_class']==0):\n",
    "#        return 0\n",
    "#    elif (row['awc_class']==1):\n",
    "#        return 150*0.9*0.5\n",
    "#    elif (row['awc_class']==2):\n",
    "#        return 125*0.9*0.5\n",
    "#    elif (row['awc_class']==3):\n",
    "#        return 100*0.9*0.5\n",
    "#    elif (row['awc_class']==4):\n",
    "#        return 75*0.9*0.5\n",
    "#    elif (row['awc_class']==5):\n",
    "#        return 50*0.9*0.5\n",
    "#    elif (row['awc_class']==6):\n",
    "#        return 15*0.9*0.5\n",
    "#    elif (row['awc_class']==7):\n",
    "#        return 0*0.9*0.5\n",
    "#    else:\n",
    "#        return 75*0.9*0.5\n",
    "\n",
    "#df['awc'] = df.apply(awc_class,axis=1)\n",
    "\n",
    "df.head(5)"
   ]
  },
  {
   "cell_type": "markdown",
   "metadata": {},
   "source": [
    "### Estimating reference evapotranspiration (ETo)\n",
    "\n",
    "ETo is estimated based on FAO's Penman-Monteith formula (source available [here](http://www.fao.org/3/X0490E/x0490e06.htm) and [here](https://www.researchgate.net/publication/235704197_Crop_evapotranspiration-Guidelines_for_computing_crop_water_requirements-FAO_Irrigation_and_drainage_paper_56)).\n",
    "\n",
    "The reference evapotranspiration, ETo, provides a standard to which:\n",
    "\n",
    "* evapotranspiration at different periods of the year or in other regions can be compared\n",
    "* evapotranspiration of other crops can be related\n",
    "\n",
    "##### TODO list\n",
    "\n",
    "- [X] Fill in the sources\n",
    "\n",
    "--------------------------------------------------------------------------------------------------------------"
   ]
  },
  {
   "cell_type": "code",
   "execution_count": 232,
   "metadata": {},
   "outputs": [
    {
     "name": "stdout",
     "output_type": "stream",
     "text": [
      "Wall time: 195 ms\n"
     ]
    }
   ],
   "source": [
    "%%time\n",
    "\n",
    "# Defining function\n",
    "def evap_i(lat,elev,wind,srad,tmin,tmax,tavg,month):\n",
    "    if month ==1:\n",
    "        J = 15\n",
    "    else:\n",
    "        J = 15 + (month-1)*30\n",
    "        \n",
    "    latitude = pyeto.deg2rad(lat)\n",
    "    atmosphericVapourPressure = pyeto.avp_from_tmin(tmin)\n",
    "    saturationVapourPressure = pyeto.svp_from_t(tavg)\n",
    "    ird = pyeto.inv_rel_dist_earth_sun(J)\n",
    "    solarDeclination = pyeto.sol_dec(J)\n",
    "    sha = [pyeto.sunset_hour_angle(l, solarDeclination) for l in latitude]\n",
    "    extraterrestrialRad = [pyeto.et_rad(x, solarDeclination,y,ird) for x, y in zip(latitude,sha)]\n",
    "    clearSkyRad = pyeto.cs_rad(elev,extraterrestrialRad)\n",
    "    netInSolRadnet = pyeto.net_in_sol_rad(srad*0.001, albedo=0.23)\n",
    "    netOutSolRadnet = pyeto.net_out_lw_rad(tmin, tmax, srad*0.001, clearSkyRad, atmosphericVapourPressure)\n",
    "    netRadiation = pyeto.net_rad(netInSolRadnet,netOutSolRadnet)\n",
    "    tempKelvin = pyeto.celsius2kelvin(tavg)\n",
    "    windSpeed2m = wind\n",
    "    slopeSvp = pyeto.delta_svp(tavg)\n",
    "    atmPressure = pyeto.atm_pressure(elev)\n",
    "    psyConstant = pyeto.psy_const(atmPressure)\n",
    "    \n",
    "    return pyeto.fao56_penman_monteith(netRadiation, tempKelvin, windSpeed2m, saturationVapourPressure, atmosphericVapourPressure, slopeSvp, psyConstant, shf=0.0)\n",
    "\n",
    "#Initiate\n",
    "for i in range(1,13):\n",
    "    df['ETo_{}'.format(i)]=0  ##To make sure the it is reset to zero\n",
    "\n",
    "# calculate ETo for each row for each month \n",
    "# range(1,13) and .format(i): to generate monthly calculation of ETo\n",
    "for i in range(1,13):\n",
    "    df['ETo_{}'.format(i)] = evap_i(df['lat'],df['elevation'],df['wind_{}'.format(i)],df['srad_{}'.format(i)],df['tmin_{}'.format(i)],df['tmax_{}'.format(i)],df['tavg_{}'.format(i)],i)\n",
    "\n",
    "\n",
    "### If you want to save ETo to avoid computing it everytime, uncomment lines below. \n",
    "\n",
    "## Create a Pandas Excel writer using XlsxWriter as the engine.\n",
    "# writer = pd.ExcelWriter('Pilot_ETO.xlsx', engine='xlsxwriter')\n",
    "## Convert the dataframe to an XlsxWriter Excel object.\n",
    "#df.to_excel(writer, sheet_name='ETO_all')\n",
    "## Close the Pandas Excel writer and output the Excel file.\n",
    "#writer.save()"
   ]
  },
  {
   "cell_type": "markdown",
   "metadata": {},
   "source": [
    "### Define rainfall pattern (unimodal vs bimodal vs trimodal)\n",
    "\n",
    "For this example we assume that unimodal pattern for the whole study area, which means it has one raining season only. \n",
    "\n",
    "##### TODO list\n",
    "\n",
    "- [ ] Identify agroecological zones in Mozambique - issue #6\n",
    "- [ ] Decide on crops we are modelling in the pilot case study - issue #6\n",
    "- [ ] Specify crop calendar per region and crop - issue #6\n",
    "- [ ] Modify input files as needed to reflect the above - issue #6\n",
    "\n",
    "--------------------------------------------------------------------------------------------------------------"
   ]
  },
  {
   "cell_type": "code",
   "execution_count": 233,
   "metadata": {},
   "outputs": [],
   "source": [
    "df['Mode']=('region_1')"
   ]
  },
  {
   "cell_type": "markdown",
   "metadata": {},
   "source": [
    "### Calculate kc based on the different growth stages\n",
    "\n",
    "##### TODO list\n",
    "\n",
    "- [X] Merge Li1, Li2 and kci1, kci2 into  - issue #8\n",
    "\n",
    "--------------------------------------------------------------------------------------------------------------"
   ]
  },
  {
   "cell_type": "code",
   "execution_count": 234,
   "metadata": {},
   "outputs": [
    {
     "name": "stdout",
     "output_type": "stream",
     "text": [
      "Wall time: 69 ms\n"
     ]
    }
   ],
   "source": [
    "%%time\n",
    "\n",
    "# Define kc function and its attributes\n",
    "\n",
    "def kc(plantation,Li,Ld,Lm,Le,kci,kcd,kcm,kce,isodate): \n",
    "    \n",
    "    \"\"\"\n",
    "Each crop goes through four growing stages: initial - development - mid-season and end-season (check FAO-56 chapter 6 for more details)\n",
    "\n",
    "Inputs:\n",
    "Plantation = plantation datetime \n",
    "Li = length of the initial stage (in days)\n",
    "Ld = length of the development stage (in days)\n",
    "Lm = length of the mid-season stage (in days)\n",
    "Le = length of the end-season stage (in days)\n",
    "\n",
    "kci = crop coefficient 'kc' at the initial stage. In this stage the ckc value is constant and equal to kci\n",
    "kcm = crop coefficient 'kc' at the mid-season stage.  In this stage the ckc value is constant and equal to kcm\n",
    "kce = crop coefficient 'kc' at the end-season stage. In this stege the ckc value varies linearly between kce and kcm (check equation 66 - page 132, FAO56). \n",
    "isodate = current date (optional)\n",
    "\n",
    "Outputs: \n",
    "* ckc : current crop coefficient, which is constant in the initial and mid-season stages and varies linearly in the development (increasing) and end-season (declining) stages. \n",
    "\n",
    "Some Examples:\n",
    "     Kc(plantation=\"2014-01-01\",Li=25,Ld=25,Lm=30,Le=20,Kci=0.15,Kcm=1.19,Kce=0.35,isodate=\"2014-01-20\")\n",
    "        >>> 0.15\n",
    "     \n",
    "     Kc(plantation=\"2014-01-01\",Li=25,Ld=25,Lm=30,Le=20,Kci=0.15,Kcm=1.19,Kce=0.35,isodate=\"2014-02-10\")\n",
    "        >>> 0.774\n",
    "     \n",
    "     Kc(plantation=\"2014-01-01\",Li=25,Ld=25,Lm=30,Le=20,Kci=0.15,Kcm=1.19,Kce=0.35,isodate=\"2014-03-12\")\n",
    "        >>> 1.19\n",
    "     \n",
    "     Kc(plantation=\"2014-01-01\",Li=25,Ld=25,Lm=30,Le=20,Kci=0.15,Kcm=1.19,Kce=0.35,isodate=\"2014-04-06\")\n",
    "        >>> 0.559\n",
    "    \n",
    "    \"\"\"\n",
    "#step 1: \n",
    "    \n",
    "    plantation = pd.to_datetime(plantation, format='%d/%m') #converting the plantation input info to data time\n",
    "    isodate = pd.to_datetime(isodate , format='%d/%m')  #converting the current date input info to data time\n",
    "    test = ((isodate-plantation).days)%365   #The difference in days between the current day and the plantation day.\n",
    "    \n",
    "    # Setting the plantation date and the current date (this is not used)\n",
    "    Jc = test   \n",
    "    Jp = 0\n",
    "    J = (Jc - Jp)%365  # %365 means the remaing days of the year\n",
    "    \n",
    "#Step 2: Calculating the day of the year when each crop stage ends placing the date in the number of days year betweem 0 (1/jan) and 365 (31/Jan)\n",
    "    JLi = Jp + Li    #end of initial stage = plantation date + lenght of initial stage\n",
    "    JLd = JLi + Ld   #end of development stage = end of initial stage + length of development stage\n",
    "    JLm = JLd + Lm   #end of mid-season stage = end of development stage + length of mid-season stage\n",
    "    JLe = JLm + Le   #end of end-season stage = end of mid-season stage + length of end-season stage\n",
    "\n",
    "#step 3: calculating ckc based on the end of each stage date\n",
    "\n",
    "    if Jc > Jp and Jc < JLe:   #if the current date is greater than the plantation date and it is greater than the end of end-season stage\n",
    "        if J <= JLi:    \n",
    "            ckc = kci  #if the current date is before the end of initial stage then ckc = kci the coefficient of the initial stege\n",
    "        elif Jc > JLi and Jc <=JLd:  #if the current date is betweeen the end of the intial stege and the end of the development stage, then ckc is computed based on equation 66 (page 132.FAO56)\n",
    "            ckc = kci + ((Jc-JLi)/Ld * (kcm-kci))\n",
    "        elif Jc > JLd and Jc <= JLm: \n",
    "            ckc = kcm\n",
    "        elif Jc > JLm and Jc <= JLe:\n",
    "            ckc = kcm + ((Jc-JLm)/Le * (kce-kcm))\n",
    "            \n",
    "    else:\n",
    "        ckc = 0\n",
    "    \n",
    "    return ckc\n",
    "\n",
    "\n",
    "### Running the function\n",
    "\n",
    "# Import sample crop calendar\n",
    "mode = pd.read_excel('Pilot_Input_Crop_Calendar.xlsx')\n",
    "\n",
    "#Note: The code here is adjusted to avoid the end of year issue. In other cases, the init1 and init2 are one stage init:\n",
    "#pay attention to all changes, you may need to change this if the crop calendar change \n",
    "\n",
    "#Planting season: Initial Stage 1 (plant = init1+ init2 )\n",
    "init_start = pd.to_datetime(mode['init_start'], format='%d/%m') #defining the plant start date from excel and setting the correct month and days sequence to read.\n",
    "init_end = pd.to_datetime(mode['init_end'], format='%d/%m')\n",
    "mode['init_start_month'] = init_start.dt.month\n",
    "mode['init_end_month'] = init_end.dt.month\n",
    "mode['init_days'] = abs(init_end - init_start).dt.days #Calculating the length of the planting season\n",
    "Li = abs(init_end - init_start).dt.days\n",
    "\n",
    "##Planting season: Initial Stage 2 (plant = init1+ init2 )\n",
    "#init2_start = pd.to_datetime(mode['init2_start'], format='%d/%m') #defining the plant start date from excel and setting the correct month and days sequence to read.\n",
    "#init2_end = pd.to_datetime(mode['init2_end'], format='%d/%m')\n",
    "#mode['init2_start_month'] = init2_start.dt.month\n",
    "#mode['init2_end_month'] = init2_end.dt.month\n",
    "#mode['init2_days'] = abs(init2_end - init2_start).dt.days #Calculating the length of the planting season\n",
    "#Li2 = abs(init2_end - init2_start).dt.days\n",
    "\n",
    "#growing 1: Development Stage (grow = dev)\n",
    "dev_start = pd.to_datetime(mode['dev_start'], format='%d/%m')\n",
    "dev_end = pd.to_datetime(mode['dev_end'], format='%d/%m')\n",
    "mode['dev_start_month'] = dev_start.dt.month\n",
    "mode['dev_end_month'] = dev_end.dt.month\n",
    "mode['dev_days'] = abs(dev_end - dev_start).dt.days\n",
    "Ld = abs(dev_end - dev_start).dt.days \n",
    "\n",
    "#growing 2: Mid stage ( add : mid)\n",
    "mid_start = pd.to_datetime(mode['mid_start'], format='%d/%m')\n",
    "mid_end = pd.to_datetime(mode['mid_end'], format='%d/%m')\n",
    "mode['mid_start_month'] = mid_start.dt.month\n",
    "mode['mid_end_month'] = mid_end.dt.month\n",
    "mode['mid_days'] = abs(mid_end - mid_start).dt.days\n",
    "Lm = abs(mid_end - mid_start).dt.days \n",
    "\n",
    "#Harvesting: Late stage (harv = late)\n",
    "late_start = pd.to_datetime(mode['late_start'], format='%d/%m') #defining the plant start date from excil and setting the correct month and days sequence to read.\n",
    "late_end = pd.to_datetime(mode['late_end'], format='%d/%m')\n",
    "mode['late_start_month'] = late_start.dt.month\n",
    "mode['late_end_month'] = late_end.dt.month\n",
    "mode['late_days'] = abs(late_end - late_start).dt.days #Calculating the length of the planting season\n",
    "Le = abs(late_end - late_start).dt.days\n",
    "\n",
    "for i in range(1,13):\n",
    "    mode['kc_{}'.format(i)]=0\n",
    "    \n",
    "for index,row in mode.iterrows():\n",
    "    for i in range(0,12):\n",
    "        init_start = pd.to_datetime(mode['init_start'].iloc[index], format='%d/%m') #read the plant start date from excel. \n",
    "        day_start= (init_start.day+1-31)%31   #what does this represent??   \n",
    "        \n",
    "        if (init_start.day-1==30):\n",
    "            month_start = (init_start.month+1-12)%12  #next month\n",
    "        else:\n",
    "            month_start = (init_start.month-12)%12  #the current month\n",
    "            \n",
    "        month_start = (month_start+i)%12\n",
    "        if (month_start==0):\n",
    "            month_start = 12\n",
    "        mode.loc[index,'kc_{}'.format(month_start)] = kc(mode['init_start'].iloc[index],mode['init_days'].iloc[index],mode['dev_days'].iloc[index],mode['mid_days'].iloc[index],mode['late_days'].iloc[index],0.8,0.9,1,0.8,'{}/{}'.format(day_start,month_start))\n",
    "        #print (kc)\n",
    "        \n",
    "# so far we worked with (df) dataframe which contains GIS outputs, then we created a (mode) dataframe. \n",
    "# Here we merge them on into one new dataframe called (data) and we chose the merging to be on the 'Mode' column \n",
    "\n",
    "data = pd.merge(df, mode, on='Mode') "
   ]
  },
  {
   "cell_type": "markdown",
   "metadata": {},
   "source": [
    "## Calculating crop evapotransiration (ETc)"
   ]
  },
  {
   "cell_type": "code",
   "execution_count": 235,
   "metadata": {},
   "outputs": [
    {
     "name": "stdout",
     "output_type": "stream",
     "text": [
      "Wall time: 8.99 ms\n"
     ]
    }
   ],
   "source": [
    "%%time\n",
    "# Estimate monthly crop evaropotransoration ETc\n",
    "for i in range(1,13):\n",
    "    data['ETc_{}'.format(i)] = data['ETo_{}'.format(i)] * data['kc_{}'.format(i)]"
   ]
  },
  {
   "cell_type": "markdown",
   "metadata": {},
   "source": [
    "## Sum precipitation"
   ]
  },
  {
   "cell_type": "code",
   "execution_count": 236,
   "metadata": {},
   "outputs": [
    {
     "name": "stdout",
     "output_type": "stream",
     "text": [
      "Wall time: 6.01 ms\n"
     ]
    }
   ],
   "source": [
    "%%time\n",
    "# Calculating the annual precipitation: which is the sum of precipitation values\n",
    "data['precipitation_annual']=data.filter(like='prec_').sum(axis=1)  #Filter is used to specify the column of interest"
   ]
  },
  {
   "cell_type": "markdown",
   "metadata": {},
   "source": [
    "### Calculate effective rainfall for every row for each month"
   ]
  },
  {
   "cell_type": "markdown",
   "metadata": {},
   "source": [
    "##### TODO list\n",
    "\n",
    "- [X] Fill in the sources for effective rainfall formulae - issue #1\n",
    "- [X] Review & Update effective rainfall formula - issue #1\n",
    "\n",
    "--------------------------------------------------------------------------------------------------------------\n",
    "\n",
    "Effective rainfall calculation is based on [USDA‐SCS method](http://www.fao.org/3/x5560e/x5560e03.htm#TopOfPage), expressed through the emperical formula presented by [Barlam Panugrahi](https://books.google.se/books?id=wR9jDAAAQBAJ&pg=PA264&lpg=PA264&dq=criwar+semi+empirical+information+Pe&source=bl&ots=Bim8aJhvm3&sig=ACfU3U3xQK7FeZxIutU1-W962mydu3yesQ&hl=en&sa=X&ved=2ahUKEwjH0e3H-JriAhUxtIsKHftyB_UQ6AEwCnoECAcQAQ#v=onepage&q=criwar%20semi%20empirical%20information%20Pe&f=false\n",
    ") - page 265.\n",
    "\n",
    "**Sources:**\n",
    " - USDA‐SCS Method, Chapter 2 \"Irrigation Water Requirements\", page 147, url:https://www.wcc.nrcs.usda.gov/ftpref/wntsc/waterMgt/irrigation/NEH15/ch2.pdf\n",
    " - FAO, \"Effective rainfall in irrigated agriculture\", emperical methods, url: http://www.fao.org/3/x5560e/x5560e00.htm#Contents\n",
    " - M. Ali, S. Mubarak, \"Effective Rainfall Calculation Methods for Field Crops: An Overview, Analysis and New Formulation\", url: https://doi.org/10.9734/ARJA/2017/36812\n",
    " - FAO, \"Irrigation Water Management: Irrigation Water Needs\", url: http://www.fao.org/3/S2022E/s2022e00.htm#Contents\n",
    " - S. Mohan, B. Simhadrirao, N. Arumugam, \"Comparative study of effective rainfall estimation methods for lowland rice\", url: https://link.springer.com/article/10.1007/BF00698810\n",
    " - Balram Panigrahi, Megh R. Goyal, (Book), \"Soil and Water Engineering: Principles and Applications of Modeling\", page 265, url: https://books.google.se/books?id=wR9jDAAAQBAJ&pg=PA264&lpg=PA264&dq=criwar+semi+empirical+information+Pe&source=bl&ots=Bim8aJhvm3&sig=ACfU3U3xQK7FeZxIutU1-W962mydu3yesQ&hl=en&sa=X&ved=2ahUKEwjH0e3H-JriAhUxtIsKHftyB_UQ6AEwCnoECAcQAQ#v=onepage&q=criwar%20semi%20empirical%20information%20Pe&f=false\n"
   ]
  },
  {
   "cell_type": "code",
   "execution_count": 237,
   "metadata": {},
   "outputs": [
    {
     "name": "stdout",
     "output_type": "stream",
     "text": [
      "Wall time: 2.98 s\n"
     ]
    }
   ],
   "source": [
    "%%time\n",
    "\n",
    "# Defining net irrigation depth (net depth of irrigation application). \n",
    "# This needs to be changed per crop.\n",
    "# It depends on soil water holding capacity, root depth, depletion, application efficiency and others. See example (http://www.fao.org/3/t7202e/t7202e06.htm) \n",
    "da = 40    \n",
    "\n",
    "# correction factor; depends on da (see Balram Panigrani above)\n",
    "if da <= 75:\n",
    "    corr_factor = 0.133 + (0.201*math.log(da))\n",
    "else:\n",
    "    corr_factor = 0.946 + (0.00073*da)\n",
    "\n",
    "#Define rainfall function \n",
    "def eff_rainfall(f, prec,etc):\n",
    "    return f*(1.253*((prec**0.824)-2.935))*10**(0.001*etc)  \n",
    "\n",
    "#Initiate\n",
    "for i in range(1,13):\n",
    "    data['eff_{}'.format(i)]=0\n",
    "    \n",
    "for i in range(1,13):\n",
    "    data['eff_{}'.format(i)] = eff_rainfall(corr_factor, data['prec_{}'.format(i)],data['ETc_{}'.format(i)])\n",
    "    #data.loc[data['prec_{}'.format(i)] < 12.5, 'eff_{}'.format(i)] = data['prec_{}'.format(i)]/30\n",
    "    #data.loc[data['eff_{}'.format(i)] >= 12.5, 'eff_{}'.format(i)] = eff_rainfall(data['prec_{}'.format(i)],data['ETc_{}'.format(i)])/30     \n",
    "    \n",
    "   \n",
    "# Finally, print results of part 1\n",
    "\n",
    "#Create a Pandas Excel writer using XlsxWriter as the engine.\n",
    "writer = pd.ExcelWriter('Pilot_Result_Part1.xlsx', engine='xlsxwriter')\n",
    "\n",
    "# Convert the dataframe to an XlsxWriter Excel object.\n",
    "data.to_excel(writer, sheet_name='part_1')\n",
    "\n",
    "# Close the Pandas Excel writer and output the Excel file.\n",
    "writer.save()\n"
   ]
  }
 ],
 "metadata": {
  "anaconda-cloud": {},
  "kernelspec": {
   "display_name": "Python 3",
   "language": "python",
   "name": "python3"
  },
  "language_info": {
   "codemirror_mode": {
    "name": "ipython",
    "version": 3
   },
   "file_extension": ".py",
   "mimetype": "text/x-python",
   "name": "python",
   "nbconvert_exporter": "python",
   "pygments_lexer": "ipython3",
   "version": "3.7.3"
  }
 },
 "nbformat": 4,
 "nbformat_minor": 2
}
