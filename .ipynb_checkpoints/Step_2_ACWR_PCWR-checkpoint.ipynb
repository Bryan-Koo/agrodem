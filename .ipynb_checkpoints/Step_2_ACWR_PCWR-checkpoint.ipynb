{
 "cells": [
  {
   "cell_type": "markdown",
   "metadata": {},
   "source": [
    "This part of the code estimated the Peak Scheme Water Demand (PSWD) and the Average/Seasonal Scheme Water Demand (SSWD) based on crop water requirements that have been computer in Step 1\n"
   ]
  },
  {
   "cell_type": "code",
   "execution_count": 2,
   "metadata": {},
   "outputs": [
    {
     "name": "stderr",
     "output_type": "stream",
     "text": [
      "UsageError: unrecognized arguments: # check this\n"
     ]
    }
   ],
   "source": [
    "# import the required Python packages\n",
    "import pandas as pd\n",
    "import datetime   # check this\n",
    "import numpy as np\n",
    "import ast       # check this\n",
    "from ast import literal_eval  # check this\n",
    "from pandas import DataFrame\n",
    "\n",
    "# from pyeto import fao\n",
    "from datetime import datetime\n",
    "%matplotlib inline     # check this"
   ]
  },
  {
   "cell_type": "code",
   "execution_count": 3,
   "metadata": {},
   "outputs": [],
   "source": [
    "data=pd.read_excel('Pilot_Result_Part1.xlsx') #This is the output file from code1. \n",
    "#data"
   ]
  },
  {
   "cell_type": "code",
   "execution_count": 4,
   "metadata": {},
   "outputs": [],
   "source": [
    "#To add a new coloumn for date palms irrigated area (1ha=10000m2  and *assuming that date palm area = 50% of total area)\n",
    "\n",
    "data['harv_i_ha']= data['area_m2']/(10000)"
   ]
  },
  {
   "cell_type": "code",
   "execution_count": 5,
   "metadata": {},
   "outputs": [
    {
     "name": "stdout",
     "output_type": "stream",
     "text": [
      "Wall time: 62 ms\n"
     ]
    }
   ],
   "source": [
    "%%time\n",
    "\n",
    "#Setting the default value for these parameters\n",
    "\n",
    "\n",
    "for i in range (1,13):\n",
    "    data['ACWR_{}'.format(i)]=0       #ACWR: Average Crop Water Requirement in (m3/ha), Previously CWN.\n",
    "    data['PCWR_{}'.format(i)]=0       #PCWR: Peak Crop Water Requirement (l/s/ha) or \"Duty\", Previously PDWR\n",
    "    data['harvested_{}'.format(i)]=0  #This repsents the actual area harvested in each month depending on the growing season.\n",
    "    data['PWD_{}'.format(i)]=0        #PWD: Peak Water Demand in (l/s)\n",
    "    data['SSWD_{}'.format(i)]=0       #SSWD: Seasonal Scheme Water Demand in (m3)"
   ]
  },
  {
   "cell_type": "code",
   "execution_count": 6,
   "metadata": {},
   "outputs": [
    {
     "name": "stdout",
     "output_type": "stream",
     "text": [
      "Wall time: 662 ms\n"
     ]
    }
   ],
   "source": [
    "%%time\n",
    "#STEP 1: Compute the ACWR from ETc - check FAO1992- page 43-\n",
    "\n",
    "#acwr=row['ETo_{}'.format(i)]*30*row['kc_{}'.format(i)] - row['eff_{}'.format(i)]*30 (( - row['awc']/12 ))\n",
    "#once the available water content layer is obtained, the last past should be added to the equation\n",
    "\n",
    "for i in range(1, 13):\n",
    "    eto = f'ETo_{i}'\n",
    "    kc = f'kc_{i}'\n",
    "    eff = f'eff_{i}'\n",
    "    acwr = f'ACWR_{i}'\n",
    "    data[acwr] = data[eto]*30*data[kc] - data[eff]*30\n",
    "    data.loc[data[acwr]<0,acwr] = 0\n",
    "        "
   ]
  },
  {
   "cell_type": "code",
   "execution_count": 7,
   "metadata": {},
   "outputs": [
    {
     "name": "stdout",
     "output_type": "stream",
     "text": [
      "Wall time: 182 ms\n"
     ]
    }
   ],
   "source": [
    "%%time\n",
    "# STEP 2: Computing the PCWR (l/s/ha) \n",
    "\n",
    "# The following notes expatins the equaitons: \n",
    "# 1. Crop Water Requirment, CWR (m3/ha) = CWR (mm) * 10 \n",
    "# 2. Average Crop Water Requirement (m3/ha/d) = (CWR (m3/ha) / Length of crop duration (days))\n",
    "# 3. Assuming here that the lenght of the season is 30 (1 month)\n",
    "# 4. Assuming that the Peak Crop Water Requirement = 2 * average crop water requirement (m3/ha/d)\n",
    "# 5. conversion factor from (m3/d/ha) to (l/sec/ha) is 0.012\n",
    "# Naming changed from (crop water need,CWN) in the initial code to (crop water requirement) to be consistence with the source FAO1992. \n",
    "\n",
    "\n",
    "\n",
    "for i in range(1,13):\n",
    "    data['PCWR_{}'.format(i)]=((data['ACWR_{}'.format(i)]*10)/30)*2*0.012"
   ]
  },
  {
   "cell_type": "code",
   "execution_count": null,
   "metadata": {},
   "outputs": [],
   "source": []
  },
  {
   "cell_type": "code",
   "execution_count": 17,
   "metadata": {},
   "outputs": [
    {
     "name": "stdout",
     "output_type": "stream",
     "text": [
      "Wall time: 8.81 s\n"
     ]
    }
   ],
   "source": [
    "%%time\n",
    "\n",
    "for index,row in data.iterrows():\n",
    "    len_init1= (len(range(row['init1_start_month'],row['init1_end_month']))+1)\n",
    "    len_init2= (len(range(row['init2_start_month'],row['init2_end_month']))+1)\n",
    "    len_init= (len_init1)+(len_init2)\n",
    "#len_init2= len(range(row['init2_start_month'],row['init2_end_month']))+1\n",
    "#len_init=len_init1 + len_init2\n",
    "#len_init1=(row['init1_start_month'] - row['init2_end_month'])\n",
    "#print(len_init)\n",
    "\n",
    "\n",
    "#\n",
    "#\n",
    "#\n",
    "#\n",
    "#\n",
    "\n",
    "#%%time\n",
    "\n",
    "#STEPs 3 and 4: Estimating Peak Water Demand (PWD) in (l/s) and Seasonal Scheme Water Demand (SSWD) in (m3) \n",
    "# In order to estimate PWD and SSWS we need first to compute the irrigated area used in that particular month/season. \n",
    "\n",
    "#PWD = PCWR / Irrigation efficiency(IrrEff) ; IrrEff = Field Application Efficiency (aeff) * Distribution Efficiency (deff)*100 \n",
    "#deff (distribution efficieny %): 0.95 (all scenarios)\n",
    "#aeff (field application efficiency %) : 0.6 (SU), 0.75 (SP), 0.9 (DR)\n",
    "\n",
    "##Scenario option might be: Surface irrigation aeff = 0.6, Sprinkler aeff = 0.75 and Drip aeff = 09. \n",
    "\n",
    "count_p=0 #To adjust the count of months in the loop below\n",
    "count_h=0 #To adjust the count of months in the loop below\n",
    "pumping_hours_per_day=10 #is this an assumption?? \n",
    "deff= 1\n",
    "aeff= 0.6\n",
    "\n",
    "init1_count = np.zeros(len(data))\n",
    "init2_count = np.zeros(len(data))\n",
    "late_count = np.zeros(len(data))\n",
    "\n",
    "for i in [11,12,1,2,3,4,5,6,7,8,9,10]:\n",
    "\n",
    "    init1 = [(i >= j) & (i <= k) for j, k in zip(data['init1_start_month'],data['init1_end_month'])]\n",
    "    init2 = [(i >= j) & (i <= k) for j, k in zip(data['init2_start_month'],data['init2_end_month'])]\n",
    "\n",
    "    init1_count += init1 * 1\n",
    "    init2_count += init2 * 1\n",
    "    init_count = init1_count + init2_count\n",
    "\n",
    "    data.loc[np.array(init1) | np.array(init2),'harvested_{}'.format(i)] =(data['harv_i_ha']/(len_init)*init_count)\n",
    "    data.loc[np.array(init1) | np.array(init2),'PWD_{}'.format(i)]= (data['PCWR_{}'.format(i)] *(data['harvested_{}'.format(i)]*24))/(pumping_hours_per_day*aeff*deff)\n",
    "    data.loc[np.array(init1) | np.array(init2),'SSWD_{}'.format(i)]= (data['ACWR_{}'.format(i)]*10*(data['harvested_{}'.format(i)])/(aeff*deff))\n",
    "    \n",
    "    dev = [(i >= j) & (i <= k) for j, k in zip(data['dev_start_month'],data['dev_end_month'])]\n",
    "    \n",
    "    data.loc[dev,'harvested_{}'.format(i)]=data['harv_i_ha']\n",
    "    data.loc[dev,'PWD_{}'.format(i)]=(data['PCWR_{}'.format(i)]*data['harv_i_ha']*24)/(pumping_hours_per_day*aeff*deff)\n",
    "    data.loc[dev,'SSWD_{}'.format(i)]= (data['ACWR_{}'.format(i)]*10*data['harv_i_ha'])/(aeff*deff)\n",
    "    \n",
    "    \n",
    "    mid = [(i >= j) & (i <= k) for j, k in zip(data['mid_start_month'],data['mid_end_month'])]\n",
    "    \n",
    "    data.loc[mid,'harvested_{}'.format(i)]=data['harv_i_ha']\n",
    "    data.loc[mid,'PWD_{}'.format(i)]=(data['PCWR_{}'.format(i)]*data['harv_i_ha']*24)/(pumping_hours_per_day*aeff*deff)\n",
    "    data.loc[mid,'SSWD_{}'.format(i)]= (data['ACWR_{}'.format(i)]*10*data['harv_i_ha'])/(aeff*deff)\n",
    "    \n",
    "    late = [(i >= j) & (i <= k) for j, k in zip(data['late_start_month'],data['late_end_month'])]\n",
    "\n",
    "    late_count += late * 1\n",
    "\n",
    "    data.loc[late,'harvested_{}'.format(i)]=(data['harv_i_ha']/([len(range(i,j+1)) for i,j in zip(data['late_start_month'],data['late_end_month'])])*late_count)\n",
    "    data.loc[late,'PWD_{}'.format(i)]= (data['PCWR_{}'.format(i)]*(data['harvested_{}'.format(i)]*24)/(pumping_hours_per_day*aeff*deff))\n",
    "    data.loc[late,'SSWD_{}'.format(i)]= (data['ACWR_{}'.format(i)]*10*(data['harvested_{}'.format(i)])/(aeff*deff))\n"
   ]
  },
  {
   "cell_type": "code",
   "execution_count": 19,
   "metadata": {},
   "outputs": [],
   "source": [
    "#Create a Pandas Excel writer using XlsxWriter as the engine.\n",
    "writer = pd.ExcelWriter('Pilot_Result_Part2.xlsx', engine='xlsxwriter')\n",
    "\n",
    "# Convert the dataframe to an XlsxWriter Excel object.\n",
    "data.to_excel(writer, sheet_name='test_all')\n",
    "\n",
    "\n",
    "# Close the Pandas Excel writer and output the Excel file.\n",
    "writer.save()"
   ]
  },
  {
   "cell_type": "code",
   "execution_count": null,
   "metadata": {
    "collapsed": true
   },
   "outputs": [],
   "source": []
  }
 ],
 "metadata": {
  "kernelspec": {
   "display_name": "Python 3",
   "language": "python",
   "name": "python3"
  },
  "language_info": {
   "codemirror_mode": {
    "name": "ipython",
    "version": 3
   },
   "file_extension": ".py",
   "mimetype": "text/x-python",
   "name": "python",
   "nbconvert_exporter": "python",
   "pygments_lexer": "ipython3",
   "version": "3.7.3"
  }
 },
 "nbformat": 4,
 "nbformat_minor": 2
}
