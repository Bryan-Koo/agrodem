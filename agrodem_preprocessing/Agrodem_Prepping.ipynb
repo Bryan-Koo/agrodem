{
 "cells": [
  {
   "cell_type": "markdown",
   "metadata": {},
   "source": [
    "### Irrigation model input file prep\n",
    "\n",
    "This code prepares the final input file to the irrigation (agrodem) model. It extracts all necessary attributes to crop locations.It also applies some name fixes as needed for the model to run smoothly.The output dataframe is exported as csv and ready to be used in the irrigation model.\n",
    "\n",
    "**Original code:** [Alexandros Korkovelos](https://github.com/akorkovelos) & [Konstantinos Pegios](https://github.com/kopegios)<br />\n",
    "**Conceptualization & Methodological review :** [Alexandros Korkovelos](https://github.com/akorkovelos)<br />\n",
    "**Updates, Modifications:** [Alexandros Korkovelos](https://github.com/akorkovelos)<br />\n",
    "**Funding:** The World Bank (contract number: 7190531), [KTH](https://www.kth.se/en/itm/inst/energiteknik/forskning/desa/welcome-to-the-unit-of-energy-systems-analysis-kth-desa-1.197296)"
   ]
  },
  {
   "cell_type": "code",
   "execution_count": 19,
   "metadata": {},
   "outputs": [
    {
     "ename": "ModuleNotFoundError",
     "evalue": "No module named 'geopandas'",
     "output_type": "error",
     "traceback": [
      "\u001b[1;31m---------------------------------------------------------------------------\u001b[0m",
      "\u001b[1;31mModuleNotFoundError\u001b[0m                       Traceback (most recent call last)",
      "\u001b[1;32m<ipython-input-19-dcd42fbab08d>\u001b[0m in \u001b[0;36m<module>\u001b[1;34m\u001b[0m\n\u001b[0;32m      1\u001b[0m \u001b[1;31m#Import modules and libraries\u001b[0m\u001b[1;33m\u001b[0m\u001b[1;33m\u001b[0m\u001b[1;33m\u001b[0m\u001b[0m\n\u001b[0;32m      2\u001b[0m \u001b[1;32mimport\u001b[0m \u001b[0mos\u001b[0m\u001b[1;33m\u001b[0m\u001b[1;33m\u001b[0m\u001b[0m\n\u001b[1;32m----> 3\u001b[1;33m \u001b[1;32mimport\u001b[0m \u001b[0mgeopandas\u001b[0m \u001b[1;32mas\u001b[0m \u001b[0mgpd\u001b[0m\u001b[1;33m\u001b[0m\u001b[1;33m\u001b[0m\u001b[0m\n\u001b[0m\u001b[0;32m      4\u001b[0m \u001b[1;32mfrom\u001b[0m \u001b[0mrasterstats\u001b[0m \u001b[1;32mimport\u001b[0m \u001b[0mpoint_query\u001b[0m\u001b[1;33m\u001b[0m\u001b[1;33m\u001b[0m\u001b[0m\n\u001b[0;32m      5\u001b[0m \u001b[1;32mimport\u001b[0m \u001b[0mlogging\u001b[0m\u001b[1;33m\u001b[0m\u001b[1;33m\u001b[0m\u001b[0m\n",
      "\u001b[1;31mModuleNotFoundError\u001b[0m: No module named 'geopandas'"
     ]
    }
   ],
   "source": [
    "#Import modules and libraries\n",
    "import os\n",
    "import geopandas as gpd\n",
    "from rasterstats import point_query\n",
    "import logging\n",
    "import pandas as pd\n",
    "from shapely.geometry import Point, Polygon\n",
    "import gdal\n",
    "import rasterio as rio\n",
    "import fiona\n",
    "import gdal\n",
    "import osr\n",
    "import ogr\n",
    "import rasterio.mask\n",
    "import time\n",
    "import numpy as np\n",
    "import itertools\n",
    "import re\n",
    "from osgeo import gdal,ogr\n",
    "import struct\n",
    "import csv\n",
    "import glob\n",
    "import tkinter as tk\n",
    "from rasterio.warp import calculate_default_transform, reproject\n",
    "from rasterio.enums import Resampling\n",
    "from rasterstats import point_query\n",
    "from pyproj import Proj\n",
    "from shapely.geometry import Point, Polygon\n",
    "from tkinter import filedialog, messagebox"
   ]
  },
  {
   "cell_type": "code",
   "execution_count": null,
   "metadata": {},
   "outputs": [],
   "source": [
    "# Import data \n",
    "\n",
    "root = tk.Tk()\n",
    "root.withdraw()\n",
    "root.attributes(\"-topmost\", True)\n",
    "messsagebox.showinfo('Agrodem_Prepping','Open the output csv file from running the QGIS plugin - AGRODEM')\n",
    "input_file = filedialog.askopenfilename()\n",
    "\n",
    "# Import csv as pandas dataframe\n",
    "crop_df = pd.read_csv(input_file)"
   ]
  },
  {
   "cell_type": "code",
   "execution_count": null,
   "metadata": {},
   "outputs": [],
   "source": [
    "# Fill in Nan values with 0\n",
    "crop_df.fillna(99999,inplace=True)\n",
    "crop_df.head(2)"
   ]
  },
  {
   "cell_type": "markdown",
   "metadata": {},
   "source": [
    "#### Converting dataframe to geo-dataframe"
   ]
  },
  {
   "cell_type": "code",
   "execution_count": null,
   "metadata": {},
   "outputs": [],
   "source": [
    "# Add geometry and convert to spatial dataframe in source CRS\n",
    "crop_df['geometry'] = list(zip(crop_df['lon'], crop_df['lat']))\n",
    "crop_df['geometry'] = crop_df['geometry'].apply(Point)\n",
    "crop_df = gpd.GeoDataFrame(crop_df, geometry='geometry', crs={'init': 'epsg:4326'})\n",
    "\n",
    "# Reproject data in to Ordnance Survey GB coordinates\n",
    "crop_gdf = crop_df.to_crs({'init': 'epsg:32737'})"
   ]
  },
  {
   "cell_type": "code",
   "execution_count": null,
   "metadata": {},
   "outputs": [],
   "source": [
    "crop_gdf.columns"
   ]
  },
  {
   "cell_type": "code",
   "execution_count": null,
   "metadata": {},
   "outputs": [],
   "source": [
    "##Dropping unecessary columns\n",
    "\n",
    "droping_cols = [\"Pixel\"]\n",
    "crop_gdf.drop(droping_cols, axis=1, inplace=True)\n",
    "\n",
    "# New for whole Moz\n",
    "crop_gdf.rename(columns={'elevation': 'sw_depth',\n",
    "                         'MaizeArea': 'harv_area'}, inplace=True)\n",
    "\n",
    "# Adding columns missing\n",
    "crop_gdf[\"country\"] = \"moz\"\n",
    "#maize_gdf[\"admin_1\"] = \"Zambezia\"\n",
    "crop_gdf[\"curr_yield\"] = \"4500\"\n",
    "crop_gdf[\"max_yield\"] = \"6000\""
   ]
  },
  {
   "cell_type": "code",
   "execution_count": null,
   "metadata": {},
   "outputs": [],
   "source": [
    "crop_gdf.head(5)"
   ]
  },
  {
   "cell_type": "markdown",
   "metadata": {},
   "source": [
    "<div class=\"alert alert-block alert-warning\">\n",
    "<b>Note:</b> The geodataframe, contains crop points with needed attributes including a geometry column. It needs to be exported as shapefile. However, when this is done with geopandas, the column geometry (Point(x,y)) is not transfered in the attribute table. This is however needed for the extraction process below, otherwise \"None\" values are returned. In order to overcome this issue, the csv is imported into Qgis and then exported as feature layer in the same folder. This solves the issue. \n",
    "</div>"
   ]
  },
  {
   "cell_type": "code",
   "execution_count": null,
   "metadata": {},
   "outputs": [],
   "source": [
    "# Define output path\n",
    "# Overwriting the csv file\n",
    "path = r\"N:\\Agrodem\\Irrigation_model\\Output_data\\agrodem_input\"\n",
    "shpname = \"Cassava_Moz_1km_2030_SG_downscaled_SW.csv\"\n",
    "\n",
    "#drybeans\n",
    "crop_gdf.to_csv(os.path.join(path,\"{c}\".format(c=shpname)))"
   ]
  },
  {
   "cell_type": "markdown",
   "metadata": {},
   "source": [
    "#### >>> Please open Qgis and act as suggested above<<<"
   ]
  },
  {
   "cell_type": "code",
   "execution_count": null,
   "metadata": {},
   "outputs": [],
   "source": [
    "raster_path = r\"N:\\Agrodem\\Irrigation_model\\Input_data\\Supporting_Layers\"\n",
    "raster_files =[]\n",
    "csvoutpath = r\"N:\\Agrodem\\Irrigation_model\\Output_data\\agrodem_input\\1km_2030_Cassava\\SG\"\n",
    "\n",
    "print (\"Reading independent variables...\")\n",
    "\n",
    "for i in os.listdir(raster_path):\n",
    "    if i.endswith('.tif'):\n",
    "        raster_files.append(i)  \n",
    "\n",
    "shp_filename = r\"N:\\Agrodem\\Irrigation_model\\Output_data\\agrodem_input\\shapefiles\\Cassava_Moz_1km_2030_SG_downscaled_SW.shp\"\n",
    "\n",
    "print (\"Extracting raster values to points...\")\n",
    "\n",
    "for i in raster_files:\n",
    "    print(\"Extracting \" + i + \" values...\")\n",
    "    src_filename = raster_path + \"\\\\\" + i \n",
    "    li_values = list()\n",
    "\n",
    "    src_ds=gdal.Open(src_filename) \n",
    "    gt=src_ds.GetGeoTransform()\n",
    "    rb=src_ds.GetRasterBand(1)\n",
    "    ds=ogr.Open(shp_filename)\n",
    "    lyr=ds.GetLayer()\n",
    "    \n",
    "    for feat in lyr:\n",
    "        geom = feat.GetGeometryRef()\n",
    "        feat_id = feat.GetField('field_1')\n",
    "        mx,my=geom.GetX(), geom.GetY()  #coord in map units\n",
    "\n",
    "        #Convert from map to pixel coordinates.\n",
    "        #Only works for geotransforms with no rotation.\n",
    "        px = int((mx - gt[0]) / gt[1]) #x pixel\n",
    "        py = int((my - gt[3]) / gt[5]) #y pixel\n",
    "\n",
    "        intval=rb.ReadAsArray(px,py,1,1)\n",
    "        li_values.append([feat_id, intval[0]])\n",
    "        \n",
    "    print (\"Writing \" + i + \" values to csv...\")\n",
    "    \n",
    "    with open(csvoutpath + \"\\\\\" + i.split('.')[0] + i.split('.')[1] + '.csv', 'w') as csvfile:\n",
    "        wr = csv.writer(csvfile)\n",
    "        wr.writerows(li_values) "
   ]
  },
  {
   "cell_type": "markdown",
   "metadata": {},
   "source": [
    "## Merge csv files with crop"
   ]
  },
  {
   "cell_type": "code",
   "execution_count": null,
   "metadata": {},
   "outputs": [],
   "source": [
    "#Import data \n",
    "\n",
    "path = r\"N:\\Agrodem\\Irrigation_model\\Output_data\\agrodem_input\"\n",
    "name_of_file = \"Cassava_Moz_1km_2030_SG_downscaled_SW.csv\"\n",
    "\n",
    "agrodem_input = pd.read_csv(path + \"\\\\\" + name_of_file)"
   ]
  },
  {
   "cell_type": "code",
   "execution_count": null,
   "metadata": {},
   "outputs": [],
   "source": [
    "csv_files = []\n",
    "\n",
    "print (\"Reading csv files...\")\n",
    "\n",
    "for i in os.listdir(csvoutpath):\n",
    "    if i.endswith('.csv'):\n",
    "        csv_files.append(i)  \n",
    "\n",
    "for i in csv_files:\n",
    "    print('Reading...'+ i)    \n",
    "    df_csv = pd.read_csv(csvoutpath + \"//\" + i, index_col=None, header=None)\n",
    "    df_csv.iloc[:,1] = df_csv.iloc[:,1].astype(str)\n",
    "    df_csv.iloc[:,1] = df_csv.iloc[:,1].str.replace('[','')\n",
    "    df_csv.iloc[:,1] = df_csv.iloc[:,1].str.replace(']','')\n",
    "    columnName = i.split('.')[0]\n",
    "    print(\"Merging...\" + columnName)\n",
    "    agrodem_input[columnName] = df_csv.iloc[:,1]"
   ]
  },
  {
   "cell_type": "markdown",
   "metadata": {},
   "source": [
    "### Alternative way of extraction raster value to point (long run)"
   ]
  },
  {
   "cell_type": "code",
   "execution_count": null,
   "metadata": {},
   "outputs": [],
   "source": [
    "# Seetting rasters path\n",
    "#set_path_4rasters = r\"N:\\Agrodem\\Irrigation_model\\Input_data\\Supporting_Layers\"\n",
    "\n",
    "#for i in os.listdir(set_path_4rasters):\n",
    "#   if i.endswith('.tif'):\n",
    "#    #Check if this keeps the raster name as found with the .tif extension\n",
    "#    columName = i[:-4]\n",
    "#    print (columName)\n",
    "#    print (\"Extracting \" + columName + \" values to points...\")\n",
    "#    maize_gdf[columName] = point_query(maize_gdf, set_path_4rasters + \"\\\\\" + i)"
   ]
  },
  {
   "cell_type": "code",
   "execution_count": null,
   "metadata": {},
   "outputs": [],
   "source": [
    "agrodem_input.columns"
   ]
  },
  {
   "cell_type": "markdown",
   "metadata": {},
   "source": [
    "### Updated names of input files for 30s rasters"
   ]
  },
  {
   "cell_type": "code",
   "execution_count": null,
   "metadata": {},
   "outputs": [],
   "source": [
    "# Renaming columns as input file requires\n",
    "agrodem_input.rename(columns={'wc20_30s_prec_01': 'prec_1',\n",
    "                              'wc20_30s_prec_02': 'prec_2', \n",
    "                              'wc20_30s_prec_03': 'prec_3', \n",
    "                              'wc20_30s_prec_04': 'prec_4',\n",
    "                              'wc20_30s_prec_05': 'prec_5', \n",
    "                              'wc20_30s_prec_06': 'prec_6', \n",
    "                              'wc20_30s_prec_07': 'prec_7',\n",
    "                              'wc20_30s_prec_08': 'prec_8', \n",
    "                              'wc20_30s_prec_09': 'prec_9', \n",
    "                              'wc20_30s_prec_10': 'prec_10',\n",
    "                              'wc20_30s_prec_11': 'prec_11', \n",
    "                              'wc20_30s_prec_12': 'prec_12', \n",
    "                              'wc20_30s_srad_01': 'srad_1',\n",
    "                              'wc20_30s_srad_02': 'srad_2', \n",
    "                              'wc20_30s_srad_03': 'srad_3', \n",
    "                              'wc20_30s_srad_04': 'srad_4',\n",
    "                              'wc20_30s_srad_05': 'srad_5', \n",
    "                              'wc20_30s_srad_06': 'srad_6', \n",
    "                              'wc20_30s_srad_07': 'srad_7',\n",
    "                              'wc20_30s_srad_08': 'srad_8', \n",
    "                              'wc20_30s_srad_09': 'srad_9', \n",
    "                              'wc20_30s_srad_10': 'srad_10',\n",
    "                              'wc20_30s_srad_11': 'srad_11', \n",
    "                              'wc20_30s_srad_12': 'srad_12', \n",
    "                              'wc20_30s_tavg_01': 'tavg_1',\n",
    "                              'wc20_30s_tavg_02': 'tavg_2', \n",
    "                              'wc20_30s_tavg_03': 'tavg_3', \n",
    "                              'wc20_30s_tavg_04': 'tavg_4',\n",
    "                              'wc20_30s_tavg_05': 'tavg_5', \n",
    "                              'wc20_30s_tavg_06': 'tavg_6', \n",
    "                              'wc20_30s_tavg_07': 'tavg_7',\n",
    "                              'wc20_30s_tavg_08': 'tavg_8',\n",
    "                              'wc20_30s_tavg_09': 'tavg_9', \n",
    "                              'wc20_30s_tavg_10': 'tavg_10',\n",
    "                              'wc20_30s_tavg_11': 'tavg_11', \n",
    "                              'wc20_30s_tavg_12': 'tavg_12', \n",
    "                              'wc20_30s_tmax_01': 'tmax_1',\n",
    "                              'wc20_30s_tmax_02': 'tmax_2', \n",
    "                              'wc20_30s_tmax_03': 'tmax_3', \n",
    "                              'wc20_30s_tmax_04': 'tmax_4',\n",
    "                              'wc20_30s_tmax_05': 'tmax_5', \n",
    "                              'wc20_30s_tmax_06': 'tmax_6', \n",
    "                              'wc20_30s_tmax_07': 'tmax_7',\n",
    "                              'wc20_30s_tmax_08': 'tmax_8', \n",
    "                              'wc20_30s_tmax_09': 'tmax_9', \n",
    "                              'wc20_30s_tmax_10': 'tmax_10',\n",
    "                              'wc20_30s_tmax_11': 'tmax_11', \n",
    "                              'wc20_30s_tmax_12': 'tmax_12',\n",
    "                              'wc20_30s_tmin_01': 'tmin_1',\n",
    "                              'wc20_30s_tmin_02': 'tmin_2', \n",
    "                              'wc20_30s_tmin_03': 'tmin_3', \n",
    "                              'wc20_30s_tmin_04': 'tmin_4',\n",
    "                              'wc20_30s_tmin_05': 'tmin_5', \n",
    "                              'wc20_30s_tmin_06': 'tmin_6', \n",
    "                              'wc20_30s_tmin_07': 'tmin_7',\n",
    "                              'wc20_30s_tmin_08': 'tmin_8', \n",
    "                              'wc20_30s_tmin_09': 'tmin_9', \n",
    "                              'wc20_30s_tmin_10': 'tmin_10',\n",
    "                              'wc20_30s_tmin_11': 'tmin_11', \n",
    "                              'wc20_30s_tmin_12': 'tmin_12', \n",
    "                              'wc20_30s_wind_01': 'wind_1',\n",
    "                              'wc20_30s_wind_02': 'wind_2', \n",
    "                              'wc20_30s_wind_03': 'wind_3', \n",
    "                              'wc20_30s_wind_04': 'wind_4',\n",
    "                              'wc20_30s_wind_05': 'wind_5', \n",
    "                              'wc20_30s_wind_06': 'wind_6', \n",
    "                              'wc20_30s_wind_07': 'wind_7',\n",
    "                              'wc20_30s_wind_08': 'wind_8', \n",
    "                              'wc20_30s_wind_09': 'wind_9', \n",
    "                              'wc20_30s_wind_10': 'wind_10',\n",
    "                              'wc20_30s_wind_11': 'wind_11', \n",
    "                              'wc20_30s_wind_12': 'wind_12',\n",
    "                              'gyga_af_agg_erzd_tawcpf23mm__m_1kmtif': 'awsc',\n",
    "                              'Surface_Water_Suitability_Moz' : 'sw_suit',\n",
    "                              'elevationtif': 'elevation',\n",
    "                              'WTDtif':'gw_depth'}, inplace=True)\n"
   ]
  },
  {
   "cell_type": "code",
   "execution_count": null,
   "metadata": {},
   "outputs": [],
   "source": [
    "agrodem_input.columns"
   ]
  },
  {
   "cell_type": "code",
   "execution_count": null,
   "metadata": {},
   "outputs": [],
   "source": [
    "droping_cols = [\"Unnamed: 0\",\"geometry\"]\n",
    "agrodem_input.drop(droping_cols, axis=1, inplace=True)"
   ]
  },
  {
   "cell_type": "markdown",
   "metadata": {
    "collapsed": true
   },
   "source": [
    "## Exporting gdf into csv (or shapefile, gpkg as needed)"
   ]
  },
  {
   "cell_type": "code",
   "execution_count": null,
   "metadata": {},
   "outputs": [],
   "source": [
    "#gpkg\n",
    "#agrodem_input.to_file(\"Zambezia_1km.gpkg\", layer='Maize_Inputfile', driver=\"GPKG\")\n",
    "\n",
    "#shp\n",
    "#agrodem_input.to_file(\"Moz_250m_Maize_190920.shp\")\n",
    "\n",
    "# Define output path\n",
    "path = r\"N:\\Agrodem\\Irrigation_model\\Output_data\\agrodem_input\\Final_input_files\"\n",
    "csvname = \"agrodem_input_Cassava_2030_SG_1km.csv\"\n",
    "\n",
    "#drybeans\n",
    "agrodem_input.to_csv(os.path.join(path,\"{c}\".format(c=csvname)), index=False)"
   ]
  },
  {
   "cell_type": "code",
   "execution_count": null,
   "metadata": {},
   "outputs": [],
   "source": []
  }
 ],
 "metadata": {
  "kernelspec": {
   "display_name": "Python 3",
   "language": "python",
   "name": "python3"
  },
  "language_info": {
   "codemirror_mode": {
    "name": "ipython",
    "version": 3
   },
   "file_extension": ".py",
   "mimetype": "text/x-python",
   "name": "python",
   "nbconvert_exporter": "python",
   "pygments_lexer": "ipython3",
   "version": "3.7.6-final"
  }
 },
 "nbformat": 4,
 "nbformat_minor": 2
}