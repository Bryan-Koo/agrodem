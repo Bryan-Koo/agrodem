{
 "cells": [
  {
   "cell_type": "code",
   "execution_count": null,
   "metadata": {},
   "outputs": [],
   "source": [
    "import datetime as dt\n",
    "import geopandas as gpd\n",
    "import os\n",
    "import fiona\n",
    "import rasterio.mask\n",
    "from rasterio.fill import fillnodata\n",
    "from rasterstats import zonal_stats\n",
    "import numpy as np\n",
    "import tkinter as tk\n",
    "from tkinter import filedialog, messagebox\n",
    "import gdal\n",
    "import rasterio\n",
    "import ogr\n",
    "import warnings\n",
    "import json\n",
    "import pandas as pd\n",
    "from earthpy import clip\n",
    "from shapely.geometry import JOIN_STYLE\n",
    "from geopandas import GeoSeries, GeoDataFrame\n",
    "\n",
    "import scipy.spatial\n",
    "from pathlib import Path\n",
    "warnings.filterwarnings('ignore')\n",
    "\n",
    "root = tk.Tk()\n",
    "root.withdraw()\n",
    "root.attributes(\"-topmost\", True)"
   ]
  },
  {
   "cell_type": "markdown",
   "metadata": {},
   "source": [
    "# Selecting Datasets\n",
    "Select the workspace, this is the folder that will be used for the outputs. \n",
    "NOTE Select an empty folder as all the files will be deleted from the workspace \n",
    "\n",
    "You will also have to select the three datasets used in the analysis. These are:\n",
    "    \n",
    "1) Administrative boundaries.\n",
    "\n",
    "2) Agro Maps"
   ]
  },
  {
   "cell_type": "code",
   "execution_count": null,
   "metadata": {},
   "outputs": [],
   "source": [
    "messagebox.showinfo('AGRODEM Creating base grid', 'Output folder')\n",
    "workspace = filedialog.askdirectory()\n",
    "\n",
    "messagebox.showinfo('AGRODEM Creating base grid', 'Select the administrative boundaries')\n",
    "filename_admin = (filedialog.askopenfilename(filetypes = ((\"shapefile\",\"*.shp\"),(\"all files\",\"*.*\"))))\n",
    "admin=gpd.read_file(filename_admin)\n",
    "\n",
    "messagebox.showinfo('AGRODEM Creating base grid', 'Select the agro map')\n",
    "filename_agro = (filedialog.askopenfilename(filetypes = ((\"shapefile\",\"*.shp\"),(\"all files\",\"*.*\"))))\n",
    "agro=gpd.read_file(filename_agro)"
   ]
  },
  {
   "cell_type": "markdown",
   "metadata": {},
   "source": [
    "# Select the target coordinate system\n",
    "\n",
    "\n",
    "Find the appropriate target crs from:  https://epsg.io/"
   ]
  },
  {
   "cell_type": "code",
   "execution_count": null,
   "metadata": {},
   "outputs": [],
   "source": [
    "crs = 'EPSG:3037'"
   ]
  },
  {
   "cell_type": "markdown",
   "metadata": {},
   "source": [
    "# Ensuring vectors are in the same coordinate system"
   ]
  },
  {
   "cell_type": "code",
   "execution_count": null,
   "metadata": {},
   "outputs": [],
   "source": [
    "# reprojecing to target coordinate system written above\n",
    "def target_crs(vectors,crs,workspace):   \n",
    "    vectors = vectors.to_crs(crs) \n",
    "    vectors.to_file(workspace, driver='ESRI Shapefile')  \n",
    "    return vectors\n",
    "\n",
    "agro_pr = agro.to_crs(crs)\n",
    "admin_pr = admin.to_crs(crs)\n"
   ]
  },
  {
   "cell_type": "markdown",
   "metadata": {},
   "source": [
    "# Fix geometries"
   ]
  },
  {
   "cell_type": "code",
   "execution_count": null,
   "metadata": {},
   "outputs": [],
   "source": [
    "def fixgeometries(polygon):\n",
    "    #creates a valid representation of a given invalid geometry without losing any of the input vertices. \n",
    "    fix = polygon.buffer(0.001)\n",
    "    return fix"
   ]
  },
  {
   "cell_type": "markdown",
   "metadata": {},
   "source": [
    "# Preparing agro maps"
   ]
  },
  {
   "cell_type": "code",
   "execution_count": null,
   "metadata": {},
   "outputs": [],
   "source": [
    "#fix geometries\n",
    "fixed_agro = fixgeometries(agro_pr)\n",
    "\n",
    "#clip agro map to place of interest\n",
    "clipped_agro = gpd.clip(fixed_agro,admin_pr)"
   ]
  },
  {
   "cell_type": "code",
   "execution_count": null,
   "metadata": {},
   "outputs": [],
   "source": []
  }
 ],
 "metadata": {
  "kernelspec": {
   "display_name": "Python 3",
   "language": "python",
   "name": "python3"
  },
  "language_info": {
   "codemirror_mode": {
    "name": "ipython",
    "version": 3
   },
   "file_extension": ".py",
   "mimetype": "text/x-python",
   "name": "python",
   "nbconvert_exporter": "python",
   "pygments_lexer": "ipython3",
   "version": "3.7.6"
  }
 },
 "nbformat": 4,
 "nbformat_minor": 4
}
