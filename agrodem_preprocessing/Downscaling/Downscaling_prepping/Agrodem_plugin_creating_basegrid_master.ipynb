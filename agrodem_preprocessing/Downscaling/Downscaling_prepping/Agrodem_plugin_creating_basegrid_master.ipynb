{
 "cells": [
  {
   "cell_type": "code",
   "execution_count": null,
   "metadata": {},
   "outputs": [],
   "source": [
    "import datetime as dt\n",
    "import geopandas as gpd\n",
    "import os\n",
    "import fiona\n",
    "import rasterio.mask\n",
    "from rasterio.fill import fillnodata\n",
    "from rasterstats import zonal_stats\n",
    "import numpy as np\n",
    "import tkinter as tk\n",
    "from tkinter import filedialog, messagebox\n",
    "import gdal\n",
    "import rasterio\n",
    "import ogr\n",
    "import warnings\n",
    "import json\n",
    "import pandas as pd\n",
    "from earthpy import clip\n",
    "from shapely.geometry import JOIN_STYLE\n",
    "from geopandas import GeoSeries, GeoDataFrame\n",
    "from math import ceil\n",
    "from shapely.ops import unary_union\n",
    "\n",
    "import scipy.spatial\n",
    "from pathlib import Path\n",
    "warnings.filterwarnings('ignore')\n",
    "\n",
    "root = tk.Tk()\n",
    "root.withdraw()\n",
    "root.attributes(\"-topmost\", True)"
   ]
  },
  {
   "cell_type": "markdown",
   "metadata": {},
   "source": [
    "# Selecting Datasets\n",
    "Select the workspace, this is the folder that will be used for the outputs. \n",
    "NOTE Select an empty folder as all the files will be deleted from the workspace \n",
    "\n",
    "You will also have to select the three datasets used in the analysis. These are:\n",
    "    \n",
    "1) Administrative boundaries.\n",
    "\n",
    "2) Agro Maps"
   ]
  },
  {
   "cell_type": "code",
   "execution_count": null,
   "metadata": {},
   "outputs": [],
   "source": [
    "messagebox.showinfo('AGRODEM Creating base grid', 'Output folder')\n",
    "workspace = filedialog.askdirectory()\n",
    "\n",
    "messagebox.showinfo('AGRODEM Creating base grid', 'Select the administrative boundaries')\n",
    "filename_admin = (filedialog.askopenfilename(filetypes = ((\"shapefile\",\"*.shp\"),(\"all files\",\"*.*\"))))\n",
    "admin=gpd.read_file(filename_admin)\n",
    "\n",
    "messagebox.showinfo('AGRODEM Creating base grid', 'Select the agro map')\n",
    "filename_agro = (filedialog.askopenfilename(filetypes = ((\"shapefile\",\"*.shp\"),(\"all files\",\"*.*\"))))\n",
    "agro=gpd.read_file(filename_agro)"
   ]
  },
  {
   "cell_type": "markdown",
   "metadata": {},
   "source": [
    "# Select the target coordinate system\n",
    "\n",
    "\n",
    "Find the appropriate target crs from:  https://epsg.io/"
   ]
  },
  {
   "cell_type": "code",
   "execution_count": null,
   "metadata": {},
   "outputs": [],
   "source": [
    "crs = 'EPSG:3037'"
   ]
  },
  {
   "cell_type": "markdown",
   "metadata": {},
   "source": [
    "# Ensuring vectors are in the same coordinate system"
   ]
  },
  {
   "cell_type": "code",
   "execution_count": null,
   "metadata": {},
   "outputs": [],
   "source": [
    "# reprojecing to target coordinate system written above\n",
    "def target_crs(vectors,crs,workspace):   \n",
    "    vectors = vectors.to_crs(crs) \n",
    "    vectors.to_file(workspace, driver='ESRI Shapefile')  \n",
    "    return vectors\n",
    "\n",
    "agro_pr = agro.to_crs(crs)\n",
    "admin_pr = admin.to_crs(crs)\n"
   ]
  },
  {
   "cell_type": "markdown",
   "metadata": {},
   "source": [
    "# Fix geometries"
   ]
  },
  {
   "cell_type": "code",
   "execution_count": null,
   "metadata": {},
   "outputs": [],
   "source": [
    "def fixgeometries(polygon):\n",
    "    #creates a valid representation of a given invalid geometry without losing any of the input vertices. \n",
    "    fix = polygon.buffer(0.001)\n",
    "    return fix"
   ]
  },
  {
   "cell_type": "markdown",
   "metadata": {},
   "source": [
    "# Preparing agro maps"
   ]
  },
  {
   "cell_type": "code",
   "execution_count": null,
   "metadata": {},
   "outputs": [],
   "source": [
    "#fix geometries\n",
    "fixed_agro = fixgeometries(agro_pr)\n",
    "\n",
    "#clip agro map to place of interest\n",
    "clipped_agro = gpd.clip(fixed_agro,admin_pr)\n",
    "\n",
    "#determining yield                            \n",
    "clipped_agro['yield'] =  clipped_agro['product_ha']  / clipped_agro['harv_area_']   \n",
    "\n",
    "#Calculating the area of each unit [ha]\n",
    "clipped_agro['area'] =  (clipped_agro['geometry'].area)/10000\n",
    "\n",
    "#Calculating the perimeter of each unit [km]\n",
    "clipped_agro[\"perimeter\"] = (clipped_agro[\"geometry\"].length)/10000"
   ]
  },
  {
   "cell_type": "markdown",
   "metadata": {},
   "source": [
    "# Creating base point layer"
   ]
  },
  {
   "cell_type": "code",
   "execution_count": null,
   "metadata": {},
   "outputs": [],
   "source": [
    "def make_grid(gdf, height, cut=True):\n",
    "    \"\"\"\n",
    "    Return a grid, based on the shape of *gdf* and on a *height* value (in\n",
    "    units of *gdf*). If cut=False, the grid will not be intersected with *gdf*\n",
    "    (i.e it makes a grid on the bounding-box of *gdf*).\n",
    "    Parameters\n",
    "    ----------\n",
    "    gdf: GeoDataFrame\n",
    "        The collection of polygons to be covered by the grid.\n",
    "    height: Integer\n",
    "        The dimension (will be used as height and width) of the ceils to create,\n",
    "        in units of *gdf*.\n",
    "    cut: Boolean, default True\n",
    "        Cut the grid to fit the shape of *gdf* (ceil partially covering it will\n",
    "        be truncated). If False, the returned grid will fit the bounding box\n",
    "        of *gdf*.\n",
    "    Returns\n",
    "    -------\n",
    "    grid: GeoDataFrame\n",
    "        A collection of polygons.\n",
    "    \"\"\"\n",
    "   \n",
    "    xmin, ymin = [i.min() for i in gdf.bounds.T.values[:2]]\n",
    "    xmax, ymax = [i.max() for i in gdf.bounds.T.values[2:]]\n",
    "    rows = int(ceil((ymax-ymin) / height))\n",
    "    cols = int(ceil((xmax-xmin) / height))\n",
    "\n",
    "    x_left_origin = xmin\n",
    "    x_right_origin = xmin + height\n",
    "    y_top_origin = ymax\n",
    "    y_bottom_origin = ymax - height\n",
    "\n",
    "    res_geoms = []\n",
    "    for countcols in range(cols):\n",
    "        y_top = y_top_origin\n",
    "        y_bottom = y_bottom_origin\n",
    "        for countrows in range(rows):\n",
    "            res_geoms.append((\n",
    "                (x_left_origin, y_top), (x_right_origin, y_top),\n",
    "                (x_right_origin, y_bottom), (x_left_origin, y_bottom)\n",
    "                ))\n",
    "            y_top = y_top - height\n",
    "            y_bottom = y_bottom - height\n",
    "        x_left_origin = x_left_origin + height\n",
    "        x_right_origin = x_right_origin + height\n",
    "    if cut:\n",
    "        if all(gdf.eval(\n",
    "            \"geometry.type =='Polygon' or geometry.type =='MultiPolygon'\")):\n",
    "            res = GeoDataFrame(\n",
    "                geometry=pd.Series(res_geoms).apply(lambda x: Polygon(x)),\n",
    "                crs=gdf.crs\n",
    "                ).intersection(unary_union(gdf.geometry))\n",
    "        else:\n",
    "            res = GeoDataFrame(\n",
    "                geometry=pd.Series(res_geoms).apply(lambda x: Polygon(x)),\n",
    "                crs=gdf.crs\n",
    "                ).intersection(unary_union(gdf.geometry).convex_hull)\n",
    "        res = res[res.geometry.type == 'Polygon']\n",
    "        res.index = [i for i in range(len(res))]\n",
    "        return GeoDataFrame(geometry=res)\n",
    "\n",
    "    else:\n",
    "        return GeoDataFrame(\n",
    "            index=[i for i in range(len(res_geoms))],\n",
    "            geometry=pd.Series(res_geoms).apply(lambda x: Polygon(x)),\n",
    "            crs=gdf.crs\n",
    "            )"
   ]
  },
  {
   "cell_type": "code",
   "execution_count": null,
   "metadata": {},
   "outputs": [],
   "source": [
    " make_grid(clipped_agro,250, cut=False)"
   ]
  }
 ],
 "metadata": {
  "kernelspec": {
   "display_name": "Python 3",
   "language": "python",
   "name": "python3"
  },
  "language_info": {
   "codemirror_mode": {
    "name": "ipython",
    "version": 3
   },
   "file_extension": ".py",
   "mimetype": "text/x-python",
   "name": "python",
   "nbconvert_exporter": "python",
   "pygments_lexer": "ipython3",
   "version": "3.7.6"
  }
 },
 "nbformat": 4,
 "nbformat_minor": 4
}
