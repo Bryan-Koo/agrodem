{
 "cells": [
  {
   "cell_type": "markdown",
   "metadata": {},
   "source": [
    "# Changing climatic conditions \n",
    "\n",
    "This notebook provides a roung way to change input climatic conditions e.g. lower precipitation.\n",
    "\n",
    "**Original code:** [Alexandros Korkovelos](https://github.com/akorkovelos) <br />\n",
    "**Conceptualization & Methodological review :** [Alexandros Korkovelos](https://github.com/akorkovelos) <br />\n",
    "**Updates, Modifications:** [Alexandros Korkovelos](https://github.com/akorkovelos) <br />\n",
    "**Funding:** The World Bank (contract number: 7190531), [KTH](https://www.kth.se/en/itm/inst/energiteknik/forskning/desa/welcome-to-the-unit-of-energy-systems-analysis-kth-desa-1.197296)"
   ]
  },
  {
   "cell_type": "code",
   "execution_count": 98,
   "metadata": {},
   "outputs": [],
   "source": [
    "# Importing necessary modules\n",
    "\n",
    "import geopandas as gpd\n",
    "import matplotlib.pyplot as plt\n",
    "import pandas as pd\n",
    "import pyproj\n",
    "import os\n",
    "import numpy as np\n",
    "from earthpy import clip as cl\n",
    "from shapely.geometry import Point, Polygon\n",
    "from geopandas.tools import overlay\n",
    "%matplotlib inline"
   ]
  },
  {
   "cell_type": "markdown",
   "metadata": {},
   "source": [
    "## Importing current crop distribution - setting geodf, projecting and plotting"
   ]
  },
  {
   "cell_type": "code",
   "execution_count": 99,
   "metadata": {},
   "outputs": [],
   "source": [
    "# Import data \n",
    "path = r\"N:\\Agrodem\\Irrigation_model\\Output_data\\agrodem_input\\Final_input_files\"\n",
    "name_of_file = \"agrodem_input_Cassava_2030_BAU_1km.csv\""
   ]
  },
  {
   "cell_type": "code",
   "execution_count": 100,
   "metadata": {},
   "outputs": [],
   "source": [
    "# Import csv as pandas dataframe\n",
    "current_clim = pd.read_csv(path + \"\\\\\" + name_of_file)"
   ]
  },
  {
   "cell_type": "code",
   "execution_count": 101,
   "metadata": {},
   "outputs": [
    {
     "data": {
      "text/html": [
       "<div>\n",
       "<style scoped>\n",
       "    .dataframe tbody tr th:only-of-type {\n",
       "        vertical-align: middle;\n",
       "    }\n",
       "\n",
       "    .dataframe tbody tr th {\n",
       "        vertical-align: top;\n",
       "    }\n",
       "\n",
       "    .dataframe thead th {\n",
       "        text-align: right;\n",
       "    }\n",
       "</style>\n",
       "<table border=\"1\" class=\"dataframe\">\n",
       "  <thead>\n",
       "    <tr style=\"text-align: right;\">\n",
       "      <th></th>\n",
       "      <th>State</th>\n",
       "      <th>lon</th>\n",
       "      <th>lat</th>\n",
       "      <th>Crop</th>\n",
       "      <th>Fraction</th>\n",
       "      <th>harv_area</th>\n",
       "      <th>sw_depth</th>\n",
       "      <th>sw_dist</th>\n",
       "      <th>sw_suit</th>\n",
       "      <th>country</th>\n",
       "      <th>...</th>\n",
       "      <th>wind_4</th>\n",
       "      <th>wind_5</th>\n",
       "      <th>wind_6</th>\n",
       "      <th>wind_7</th>\n",
       "      <th>wind_8</th>\n",
       "      <th>wind_9</th>\n",
       "      <th>wind_10</th>\n",
       "      <th>wind_11</th>\n",
       "      <th>wind_12</th>\n",
       "      <th>gw_depth</th>\n",
       "    </tr>\n",
       "  </thead>\n",
       "  <tbody>\n",
       "    <tr>\n",
       "      <td>0</td>\n",
       "      <td>Massinga</td>\n",
       "      <td>34.43319</td>\n",
       "      <td>-22.28009</td>\n",
       "      <td>Cassava</td>\n",
       "      <td>4.200000e-07</td>\n",
       "      <td>0.000042</td>\n",
       "      <td>148</td>\n",
       "      <td>18.669125</td>\n",
       "      <td>9999</td>\n",
       "      <td>moz</td>\n",
       "      <td>...</td>\n",
       "      <td>1.2</td>\n",
       "      <td>1.1</td>\n",
       "      <td>1.2</td>\n",
       "      <td>1.4</td>\n",
       "      <td>1.6</td>\n",
       "      <td>1.9</td>\n",
       "      <td>2.3</td>\n",
       "      <td>1.8</td>\n",
       "      <td>1.3</td>\n",
       "      <td>7.011426</td>\n",
       "    </tr>\n",
       "    <tr>\n",
       "      <td>1</td>\n",
       "      <td>Massinga</td>\n",
       "      <td>34.44287</td>\n",
       "      <td>-22.28036</td>\n",
       "      <td>Cassava</td>\n",
       "      <td>4.000000e-08</td>\n",
       "      <td>0.000004</td>\n",
       "      <td>148</td>\n",
       "      <td>17.677906</td>\n",
       "      <td>9999</td>\n",
       "      <td>moz</td>\n",
       "      <td>...</td>\n",
       "      <td>1.1</td>\n",
       "      <td>1.2</td>\n",
       "      <td>1.1</td>\n",
       "      <td>1.3</td>\n",
       "      <td>1.6</td>\n",
       "      <td>2.0</td>\n",
       "      <td>1.9</td>\n",
       "      <td>1.6</td>\n",
       "      <td>1.6</td>\n",
       "      <td>1.897833</td>\n",
       "    </tr>\n",
       "    <tr>\n",
       "      <td>2</td>\n",
       "      <td>Massinga</td>\n",
       "      <td>34.90539</td>\n",
       "      <td>-22.36485</td>\n",
       "      <td>Cassava</td>\n",
       "      <td>1.600000e-07</td>\n",
       "      <td>0.000016</td>\n",
       "      <td>115</td>\n",
       "      <td>19.756705</td>\n",
       "      <td>9999</td>\n",
       "      <td>moz</td>\n",
       "      <td>...</td>\n",
       "      <td>1.5</td>\n",
       "      <td>1.5</td>\n",
       "      <td>1.4</td>\n",
       "      <td>1.7</td>\n",
       "      <td>2.1</td>\n",
       "      <td>2.2</td>\n",
       "      <td>2.4</td>\n",
       "      <td>2.1</td>\n",
       "      <td>1.6</td>\n",
       "      <td>17.800083</td>\n",
       "    </tr>\n",
       "    <tr>\n",
       "      <td>3</td>\n",
       "      <td>Massinga</td>\n",
       "      <td>34.91508</td>\n",
       "      <td>-22.36510</td>\n",
       "      <td>Cassava</td>\n",
       "      <td>0.000000e+00</td>\n",
       "      <td>0.000000</td>\n",
       "      <td>117</td>\n",
       "      <td>20.506695</td>\n",
       "      <td>9999</td>\n",
       "      <td>moz</td>\n",
       "      <td>...</td>\n",
       "      <td>1.5</td>\n",
       "      <td>1.5</td>\n",
       "      <td>1.5</td>\n",
       "      <td>1.7</td>\n",
       "      <td>2.1</td>\n",
       "      <td>2.3</td>\n",
       "      <td>2.4</td>\n",
       "      <td>2.2</td>\n",
       "      <td>1.6</td>\n",
       "      <td>16.693886</td>\n",
       "    </tr>\n",
       "    <tr>\n",
       "      <td>4</td>\n",
       "      <td>Massinga</td>\n",
       "      <td>34.90460</td>\n",
       "      <td>-22.39189</td>\n",
       "      <td>Cassava</td>\n",
       "      <td>2.100000e-05</td>\n",
       "      <td>0.002096</td>\n",
       "      <td>83</td>\n",
       "      <td>19.540019</td>\n",
       "      <td>9999</td>\n",
       "      <td>moz</td>\n",
       "      <td>...</td>\n",
       "      <td>1.7</td>\n",
       "      <td>1.5</td>\n",
       "      <td>1.4</td>\n",
       "      <td>1.7</td>\n",
       "      <td>2.0</td>\n",
       "      <td>2.4</td>\n",
       "      <td>2.5</td>\n",
       "      <td>2.1</td>\n",
       "      <td>1.7</td>\n",
       "      <td>22.158491</td>\n",
       "    </tr>\n",
       "  </tbody>\n",
       "</table>\n",
       "<p>5 rows × 87 columns</p>\n",
       "</div>"
      ],
      "text/plain": [
       "      State       lon       lat     Crop      Fraction  harv_area  sw_depth  \\\n",
       "0  Massinga  34.43319 -22.28009  Cassava  4.200000e-07   0.000042       148   \n",
       "1  Massinga  34.44287 -22.28036  Cassava  4.000000e-08   0.000004       148   \n",
       "2  Massinga  34.90539 -22.36485  Cassava  1.600000e-07   0.000016       115   \n",
       "3  Massinga  34.91508 -22.36510  Cassava  0.000000e+00   0.000000       117   \n",
       "4  Massinga  34.90460 -22.39189  Cassava  2.100000e-05   0.002096        83   \n",
       "\n",
       "     sw_dist  sw_suit country  ...  wind_4  wind_5  wind_6  wind_7  wind_8  \\\n",
       "0  18.669125     9999     moz  ...     1.2     1.1     1.2     1.4     1.6   \n",
       "1  17.677906     9999     moz  ...     1.1     1.2     1.1     1.3     1.6   \n",
       "2  19.756705     9999     moz  ...     1.5     1.5     1.4     1.7     2.1   \n",
       "3  20.506695     9999     moz  ...     1.5     1.5     1.5     1.7     2.1   \n",
       "4  19.540019     9999     moz  ...     1.7     1.5     1.4     1.7     2.0   \n",
       "\n",
       "   wind_9  wind_10  wind_11  wind_12   gw_depth  \n",
       "0     1.9      2.3      1.8      1.3   7.011426  \n",
       "1     2.0      1.9      1.6      1.6   1.897833  \n",
       "2     2.2      2.4      2.1      1.6  17.800083  \n",
       "3     2.3      2.4      2.2      1.6  16.693886  \n",
       "4     2.4      2.5      2.1      1.7  22.158491  \n",
       "\n",
       "[5 rows x 87 columns]"
      ]
     },
     "execution_count": 101,
     "metadata": {},
     "output_type": "execute_result"
    }
   ],
   "source": [
    "current_clim.head(5)"
   ]
  },
  {
   "cell_type": "code",
   "execution_count": 102,
   "metadata": {},
   "outputs": [],
   "source": [
    "prec_columns = ['prec_1', 'prec_2', 'prec_3', 'prec_4', \n",
    "                'prec_5', 'prec_6','prec_7', 'prec_8', \n",
    "                'prec_9', 'prec_10', 'prec_11', 'prec_12']"
   ]
  },
  {
   "cell_type": "code",
   "execution_count": 103,
   "metadata": {},
   "outputs": [
    {
     "name": "stdout",
     "output_type": "stream",
     "text": [
      "prec_1     9208388\n",
      "prec_2     8673664\n",
      "prec_3     7127815\n",
      "prec_4     2533103\n",
      "prec_5      281957\n",
      "prec_6      -43227\n",
      "prec_7     -205492\n",
      "prec_8     -446658\n",
      "prec_9     -565068\n",
      "prec_10     126417\n",
      "prec_11    2813323\n",
      "prec_12    7692135\n",
      "dtype: int64\n"
     ]
    }
   ],
   "source": [
    "print (current_clim[['prec_1', 'prec_2', 'prec_3', 'prec_4', \n",
    "                'prec_5', 'prec_6','prec_7', 'prec_8', \n",
    "                'prec_9', 'prec_10', 'prec_11', 'prec_12']].sum())"
   ]
  },
  {
   "cell_type": "code",
   "execution_count": 104,
   "metadata": {},
   "outputs": [],
   "source": [
    "for item in prec_columns:\n",
    "    current_clim[item] *=0.4"
   ]
  },
  {
   "cell_type": "code",
   "execution_count": 105,
   "metadata": {},
   "outputs": [
    {
     "name": "stdout",
     "output_type": "stream",
     "text": [
      "prec_1     3683355.2\n",
      "prec_2     3469465.6\n",
      "prec_3     2851126.0\n",
      "prec_4     1013241.2\n",
      "prec_5      112782.8\n",
      "prec_6      -17290.8\n",
      "prec_7      -82196.8\n",
      "prec_8     -178663.2\n",
      "prec_9     -226027.2\n",
      "prec_10      50566.8\n",
      "prec_11    1125329.2\n",
      "prec_12    3076854.0\n",
      "dtype: float64\n"
     ]
    }
   ],
   "source": [
    "print (current_clim[['prec_1', 'prec_2', 'prec_3', 'prec_4', \n",
    "                'prec_5', 'prec_6','prec_7', 'prec_8', \n",
    "                'prec_9', 'prec_10', 'prec_11', 'prec_12']].sum())"
   ]
  },
  {
   "cell_type": "code",
   "execution_count": 106,
   "metadata": {},
   "outputs": [],
   "source": [
    "# Define output path\n",
    "csv_path = r\"N:\\Agrodem\\Irrigation_model\\Output_data\\agrodem_input\\Final_input_files\"\n",
    "\n",
    "outfilename = \"agrodem_input_Cassava_2030_BAU_1km_0.4_precip\"\n",
    "\n",
    "#Future crop allocation\n",
    "current_clim.to_csv(os.path.join(csv_path,\"{c}.csv\".format(c=outfilename)))"
   ]
  }
 ],
 "metadata": {
  "kernelspec": {
   "display_name": "Python 3",
   "language": "python",
   "name": "python3"
  },
  "language_info": {
   "codemirror_mode": {
    "name": "ipython",
    "version": 3
   },
   "file_extension": ".py",
   "mimetype": "text/x-python",
   "name": "python",
   "nbconvert_exporter": "python",
   "pygments_lexer": "ipython3",
   "version": "3.7.3"
  }
 },
 "nbformat": 4,
 "nbformat_minor": 2
}
