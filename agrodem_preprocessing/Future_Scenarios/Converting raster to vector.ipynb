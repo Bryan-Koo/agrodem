{
 "cells": [
  {
   "cell_type": "markdown",
   "metadata": {},
   "source": [
    "# Converting raster to vector\n",
    "\n",
    "A cluster of functions that convert raster (.tiff) files generated as part of future scenario pipeline code, to vector (point shapefile) files.\n",
    "\n",
    "**Original code:** [Konstantinos Pegios](https://github.com/kopegios) <br />\n",
    "**Conceptualization & Methodological review :** [Alexandros Korkovelos](https://github.com/akorkovelos) & [Konstantinos Pegios](https://github.com/kopegios)<br />\n",
    "**Updates, Modifications:** [Alexandros Korkovelos](https://github.com/akorkovelos) <br />\n",
    "**Funding:** The World Bank (contract number: 7190531), [KTH](https://www.kth.se/en/itm/inst/energiteknik/forskning/desa/welcome-to-the-unit-of-energy-systems-analysis-kth-desa-1.197296)"
   ]
  },
  {
   "cell_type": "code",
   "execution_count": 12,
   "metadata": {},
   "outputs": [],
   "source": [
    "# Importing necessary modules\n",
    "\n",
    "import geopandas as gpd\n",
    "import rasterio as rio\n",
    "import pandas as pd\n",
    "import fiona\n",
    "import gdal\n",
    "import osr\n",
    "import ogr\n",
    "import rasterio.mask\n",
    "import time\n",
    "import os\n",
    "import ogr, gdal, osr, os\n",
    "import numpy as np\n",
    "import itertools\n",
    "import re\n",
    "from rasterio.warp import calculate_default_transform, reproject\n",
    "from rasterio.enums import Resampling\n",
    "from rasterstats import point_query\n",
    "from pyproj import Proj"
   ]
  },
  {
   "cell_type": "markdown",
   "metadata": {},
   "source": [
    "### Raster (Re)projection to target CRS\n",
    "\n",
    "This step is not necessary if the raster file is already in the target CRS"
   ]
  },
  {
   "cell_type": "code",
   "execution_count": 13,
   "metadata": {},
   "outputs": [],
   "source": [
    "# Define project function\n",
    "\n",
    "def reproj(input_raster, output_raster, new_crs, factor):\n",
    "    dst_crs = new_crs\n",
    "\n",
    "    with rio.open(input_raster) as src:\n",
    "        transform, width, height = calculate_default_transform(\n",
    "            src.crs, dst_crs, src.width*factor, src.height*factor, *src.bounds)\n",
    "        kwargs = src.meta.copy()\n",
    "        kwargs.update({\n",
    "            'crs': dst_crs,\n",
    "            'transform': transform,\n",
    "            'width': width,\n",
    "            'height': height\n",
    "        })\n",
    "\n",
    "        with rio.open(output_raster, 'w', **kwargs) as dst:\n",
    "            for i in range(1, src.count + 1):\n",
    "                reproject(\n",
    "                    source=rio.band(src, i),\n",
    "                    destination=rio.band(dst, i),\n",
    "                    src_transform=src.transform,\n",
    "                    src_crs=src.crs,\n",
    "                    dst_transform=transform,\n",
    "                    dst_crs=dst_crs,\n",
    "                    resampling=Resampling.nearest)"
   ]
  },
  {
   "cell_type": "code",
   "execution_count": 14,
   "metadata": {},
   "outputs": [],
   "source": [
    "# Set inout directories\n",
    "inpath = r\"N:\\Agrodem\\Future_Scenarios\\maize_cassava_scenarios\\maize_cassava_scenarios\"\n",
    "outpath= r\"N:\\Agrodem\\Future_Scenarios\\maize_cassava_scenarios\\maize_cassava_scenarios\\re_projected\"\n",
    "\n",
    "# Provide the input raster and give a name to the output (reprojected) raster\n",
    "input_raster = inpath + \"\\\\\" + \"cassava_SG.tif\"\n",
    "output_raster = outpath + \"\\\\\" + \"cassava_SG_reproj.tif\"\n",
    "\n",
    "# Set target CRS\n",
    "new_crs = \"epsg:4326\"\n",
    "\n",
    "# Provide a factor if you want zoomed in/out results; suggest keeping it to one unless fully understanding the implications\n",
    "factor = 1"
   ]
  },
  {
   "cell_type": "code",
   "execution_count": 15,
   "metadata": {},
   "outputs": [],
   "source": [
    "# Run function \n",
    "reproj(input_raster, output_raster, new_crs, factor)"
   ]
  },
  {
   "cell_type": "markdown",
   "metadata": {},
   "source": [
    "### Converting raster to shapefile"
   ]
  },
  {
   "cell_type": "code",
   "execution_count": 16,
   "metadata": {},
   "outputs": [],
   "source": [
    "# Define functions\n",
    "\n",
    "def pixelOffset2coord(raster, xOffset,yOffset):\n",
    "    geotransform = raster.GetGeoTransform()\n",
    "    originX = geotransform[0]\n",
    "    originY = geotransform[3]\n",
    "    pixelWidth = geotransform[1]\n",
    "    pixelHeight = geotransform[5]\n",
    "    coordX = originX+pixelWidth*xOffset\n",
    "    coordY = originY+pixelHeight*yOffset\n",
    "    return coordX, coordY\n",
    "\n",
    "def raster2array(rasterfn):\n",
    "    raster = gdal.Open(rasterfn)\n",
    "    band = raster.GetRasterBand(1)\n",
    "    array = band.ReadAsArray()\n",
    "    return array\n",
    "\n",
    "def array2shp(array,outSHPfn,rasterfn):\n",
    "\n",
    "    # max distance between points\n",
    "    raster = gdal.Open(rasterfn)\n",
    "    geotransform = raster.GetGeoTransform()\n",
    "    pixelWidth = geotransform[1]\n",
    "\n",
    "    srs = osr.SpatialReference()\n",
    "    srs.ImportFromWkt(raster.GetProjection())\n",
    "    \n",
    "    # wkbPoint\n",
    "    shpDriver = ogr.GetDriverByName(\"ESRI Shapefile\")\n",
    "    if os.path.exists(outSHPfn):\n",
    "        shpDriver.DeleteDataSource(outSHPfn)\n",
    "    outDataSource = shpDriver.CreateDataSource(outSHPfn)\n",
    "    outLayer = outDataSource.CreateLayer(outSHPfn, geom_type=ogr.wkbPoint, srs=srs )\n",
    "    featureDefn = outLayer.GetLayerDefn()\n",
    "    outLayer.CreateField(ogr.FieldDefn(\"VALUE\", ogr.OFTInteger))\n",
    "\n",
    "    # array2dict\n",
    "    point = ogr.Geometry(ogr.wkbPoint)\n",
    "    row_count = array.shape[0]\n",
    "    for ridx, row in enumerate(array):\n",
    "#         print(\"Printing ridx..\")\n",
    "#         print(ridx)\n",
    "        if ridx % 100 == 0:\n",
    "            print (\"{0} of {1} rows processed\".format(ridx, row_count))\n",
    "        for cidx, value in enumerate(row):\n",
    "            #print(\"Printing cidx..\")\n",
    "            #print(cidx)\n",
    "            #Only positive values\n",
    "            if value > 0:\n",
    "                Xcoord, Ycoord = pixelOffset2coord(raster,cidx,ridx)\n",
    "                point.AddPoint(Xcoord, Ycoord)\n",
    "                outFeature = ogr.Feature(featureDefn)\n",
    "                outFeature.SetGeometry(point)\n",
    "                outFeature.SetField(\"VALUE\", int(ridx))\n",
    "                outLayer.CreateFeature(outFeature)\n",
    "                outFeature.Destroy()\n",
    "                #outDS.Destroy()\n",
    "\n",
    "def main(rasterfn,outSHPfn):\n",
    "    array = raster2array(rasterfn)\n",
    "    array2shp(array,outSHPfn,rasterfn)"
   ]
  },
  {
   "cell_type": "code",
   "execution_count": 17,
   "metadata": {},
   "outputs": [],
   "source": [
    "# Set inout directories\n",
    "inpath = r\"N:\\Agrodem\\Future_Scenarios\\maize_cassava_scenarios\\maize_cassava_scenarios\\re_projected\"\n",
    "outpath= r\"N:\\Agrodem\\Future_Scenarios\\maize_cassava_scenarios\\maize_cassava_scenarios\\vectorfiles\"\n",
    "\n",
    "# Provide the input raster and give a name to the output (reprojected) raster\n",
    "rasterfn = inpath + \"\\\\\" + \"cassava_SG_reproj.tif\"\n",
    "outSHPfn = outpath + \"\\\\\" + \"cassava_SG.shp\""
   ]
  },
  {
   "cell_type": "code",
   "execution_count": 18,
   "metadata": {},
   "outputs": [
    {
     "name": "stdout",
     "output_type": "stream",
     "text": [
      "0 of 3580 rows processed\n",
      "100 of 3580 rows processed\n",
      "200 of 3580 rows processed\n",
      "300 of 3580 rows processed\n",
      "400 of 3580 rows processed\n",
      "500 of 3580 rows processed\n",
      "600 of 3580 rows processed\n",
      "700 of 3580 rows processed\n",
      "800 of 3580 rows processed\n",
      "900 of 3580 rows processed\n",
      "1000 of 3580 rows processed\n",
      "1100 of 3580 rows processed\n",
      "1200 of 3580 rows processed\n",
      "1300 of 3580 rows processed\n",
      "1400 of 3580 rows processed\n",
      "1500 of 3580 rows processed\n",
      "1600 of 3580 rows processed\n",
      "1700 of 3580 rows processed\n",
      "1800 of 3580 rows processed\n",
      "1900 of 3580 rows processed\n",
      "2000 of 3580 rows processed\n",
      "2100 of 3580 rows processed\n",
      "2200 of 3580 rows processed\n",
      "2300 of 3580 rows processed\n",
      "2400 of 3580 rows processed\n",
      "2500 of 3580 rows processed\n",
      "2600 of 3580 rows processed\n",
      "2700 of 3580 rows processed\n",
      "2800 of 3580 rows processed\n",
      "2900 of 3580 rows processed\n",
      "3000 of 3580 rows processed\n",
      "3100 of 3580 rows processed\n",
      "3200 of 3580 rows processed\n",
      "3300 of 3580 rows processed\n",
      "3400 of 3580 rows processed\n",
      "3500 of 3580 rows processed\n"
     ]
    }
   ],
   "source": [
    "# Run the function\n",
    "main(rasterfn,outSHPfn)"
   ]
  },
  {
   "cell_type": "markdown",
   "metadata": {},
   "source": [
    "### Assigning lat/long columns to the shapefile"
   ]
  },
  {
   "cell_type": "code",
   "execution_count": 19,
   "metadata": {},
   "outputs": [],
   "source": [
    "# Import as geodataframe\n",
    "path_shp = r\"N:\\Agrodem\\Future_Scenarios\\maize_cassava_scenarios\\maize_cassava_scenarios\\vectorfiles\"\n",
    "name_shp = \"cassava_SG.shp\"\n",
    "future_crop_gdf = gpd.read_file(path_shp + \"\\\\\" + name_shp)"
   ]
  },
  {
   "cell_type": "code",
   "execution_count": 20,
   "metadata": {},
   "outputs": [],
   "source": [
    "# Creating lon/lat columns\n",
    "future_crop_gdf['lon'] = future_crop_gdf[\"geometry\"].x\n",
    "future_crop_gdf['lat'] = future_crop_gdf[\"geometry\"].y"
   ]
  },
  {
   "cell_type": "code",
   "execution_count": 21,
   "metadata": {
    "scrolled": true
   },
   "outputs": [
    {
     "data": {
      "text/html": [
       "<div>\n",
       "<style scoped>\n",
       "    .dataframe tbody tr th:only-of-type {\n",
       "        vertical-align: middle;\n",
       "    }\n",
       "\n",
       "    .dataframe tbody tr th {\n",
       "        vertical-align: top;\n",
       "    }\n",
       "\n",
       "    .dataframe thead th {\n",
       "        text-align: right;\n",
       "    }\n",
       "</style>\n",
       "<table border=\"1\" class=\"dataframe\">\n",
       "  <thead>\n",
       "    <tr style=\"text-align: right;\">\n",
       "      <th></th>\n",
       "      <th>VALUE</th>\n",
       "      <th>geometry</th>\n",
       "      <th>lon</th>\n",
       "      <th>lat</th>\n",
       "    </tr>\n",
       "  </thead>\n",
       "  <tbody>\n",
       "    <tr>\n",
       "      <td>0</td>\n",
       "      <td>185</td>\n",
       "      <td>POINT (39.32244 -11.31020)</td>\n",
       "      <td>39.322436</td>\n",
       "      <td>-11.310195</td>\n",
       "    </tr>\n",
       "    <tr>\n",
       "      <td>1</td>\n",
       "      <td>187</td>\n",
       "      <td>POINT (39.32702 -11.31936)</td>\n",
       "      <td>39.327020</td>\n",
       "      <td>-11.319362</td>\n",
       "    </tr>\n",
       "    <tr>\n",
       "      <td>2</td>\n",
       "      <td>188</td>\n",
       "      <td>POINT (39.34077 -11.32395)</td>\n",
       "      <td>39.340770</td>\n",
       "      <td>-11.323946</td>\n",
       "    </tr>\n",
       "  </tbody>\n",
       "</table>\n",
       "</div>"
      ],
      "text/plain": [
       "   VALUE                    geometry        lon        lat\n",
       "0    185  POINT (39.32244 -11.31020)  39.322436 -11.310195\n",
       "1    187  POINT (39.32702 -11.31936)  39.327020 -11.319362\n",
       "2    188  POINT (39.34077 -11.32395)  39.340770 -11.323946"
      ]
     },
     "execution_count": 21,
     "metadata": {},
     "output_type": "execute_result"
    }
   ],
   "source": [
    "future_crop_gdf.head(3)"
   ]
  },
  {
   "cell_type": "markdown",
   "metadata": {},
   "source": [
    "#### Exporting file back to shp or gpkg"
   ]
  },
  {
   "cell_type": "code",
   "execution_count": 22,
   "metadata": {},
   "outputs": [],
   "source": [
    "# Define output path\n",
    "path = r\"N:\\Agrodem\\Future_Scenarios\\maize_cassava_scenarios\\maize_cassava_scenarios\\vectorfiles\"\n",
    "name_shp = \"cassava_SG.shp\"\n",
    "\n",
    "#dshp\n",
    "future_crop_gdf.to_file(os.path.join(path,name_shp), index=False)\n",
    "\n",
    "#gpkg\n",
    "#future_crop_gdf.to_file(\"maize_BAU.gpkg\", layer='Maize_Inputfile_Future', driver=\"GPKG\")"
   ]
  }
 ],
 "metadata": {
  "kernelspec": {
   "display_name": "Python 3",
   "language": "python",
   "name": "python3"
  },
  "language_info": {
   "codemirror_mode": {
    "name": "ipython",
    "version": 3
   },
   "file_extension": ".py",
   "mimetype": "text/x-python",
   "name": "python",
   "nbconvert_exporter": "python",
   "pygments_lexer": "ipython3",
   "version": "3.7.3"
  }
 },
 "nbformat": 4,
 "nbformat_minor": 2
}
