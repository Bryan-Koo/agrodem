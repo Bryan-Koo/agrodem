{
 "cells": [
  {
   "cell_type": "markdown",
   "metadata": {},
   "source": [
    "# Creating future scenarios of crop allocation\n",
    "\n",
    "This notebook helps creating future scenarios of crop allocation based on a number o factors\n",
    "\n",
    "**Original code:** [Neeraj Baruah](neeraj.baruah@vivideconomics.com) <br />\n",
    "**Updates, Modifications:** [Alexandros Korkovelos](https://github.com/akorkovelos) <br />\n",
    "**Funding:** The World Bank (contract number: 7190531)"
   ]
  },
  {
   "cell_type": "code",
   "execution_count": 1,
   "metadata": {},
   "outputs": [],
   "source": [
    "# Importing necessary modules\n",
    "\n",
    "import os, time\n",
    "import glob\n",
    "from osgeo import gdal, ogr, osr\n",
    "from osgeo.gdalnumeric import *\n",
    "from osgeo.gdalconst import *\n",
    "import numpy as np\n",
    "import rasterio\n",
    "from rasterio.mask import mask\n",
    "import fiona\n",
    "import os"
   ]
  },
  {
   "cell_type": "markdown",
   "metadata": {},
   "source": [
    "### Paths & Directories"
   ]
  },
  {
   "cell_type": "code",
   "execution_count": 2,
   "metadata": {},
   "outputs": [],
   "source": [
    "# Define path of directories\n",
    "\n",
    "# This is the original directory containing the main input datasets\n",
    "dirname = r\"N:\\Agrodem\\Future_Scenarios\\Input_data\"\n",
    "\n",
    "# These are derivative directories where intermediate data is stored\n",
    "TEMP_PATH = os.path.join(dirname, 'temp')\n",
    "INTERMEDIATE_PATH = os.path.join(dirname, 'intermediate')\n",
    "OUT_PATH = os.path.join(dirname, 'output')"
   ]
  },
  {
   "cell_type": "markdown",
   "metadata": {},
   "source": [
    "#### Note that this analysis requires the following datasets/parameters to run:\n",
    "\n",
    "Raster layers\n",
    "\n",
    "* Input raster layer(s) for suitability - categorical (see input_cat_lyrs)\n",
    "\n",
    "* Input raster layer(s) for suitability - continuous (see input_thr_lyrs)\n",
    "\n",
    "* Input raster yield layers for modelled crop (see input_yield_lyrs)\n",
    "\n",
    "* Input raster indicating production prices (see input_prod_prices)\n",
    "\n",
    "* Input World Bank output price factor (see input_wbp)\n",
    "\n",
    "Vector layers\n",
    "\n",
    "* Input administrative bound file (see input_bnd)\n",
    "\n",
    "* Vector layer for location of market areas (see input_markets)\n",
    "\n",
    "Other parameters\n",
    "\n",
    "* Input csv for crop output prices (see input_crop_out_prices)\n",
    "\n",
    "* Input lookup table for categorical layers (see input_lut_list)\n",
    "   \n",
    "* Input condition list for continuous layers (see input_con_list)\n",
    "\n",
    "* Input for attainable yield factor as fraction (see par_ayf)\n",
    "\n",
    "* Input for crop prices shock (see par_cps)\n",
    "\n",
    "* Output prices distance decay - Alpha and gamma controls (see o_alpha, o_gamma)\n",
    "\n",
    "* Production prices distance decay - Alpha and gamma controls  (see p_alpha)\n",
    "\n",
    "* Future demand for agricultural area (in ha) for certain crop (input_ag_area)"
   ]
  },
  {
   "cell_type": "markdown",
   "metadata": {},
   "source": [
    "### General Inputs"
   ]
  },
  {
   "cell_type": "code",
   "execution_count": 3,
   "metadata": {},
   "outputs": [],
   "source": [
    "# Future demand for agricultural area (in ha) for certain crop (maize, cassava, ...)\n",
    "input_ag_area = [231990] \n",
    "\n",
    "# Scenario label\n",
    "sce_nme = ['maize_SG']\n",
    "\n",
    "# Input for attainable yield factor as fraction \n",
    "par_ayf = [1]  \n",
    "\n",
    "# Input for crop prices shock     \n",
    "par_cps = [1]       \n",
    "\n",
    "# Output prices distance decay - Alpha and gamma controls\n",
    "o_alpha = [10000]   \n",
    "o_gamma = [0.2]\n",
    "\n",
    "# Production prices distance decay - Alpha controls \n",
    "p_alpha = [0]       \n",
    "\n",
    "# Scenario name\n",
    "sce_nme = '_' + sce_nme[0] + '_{0}_{1}_{2}_{3}_{4}_{5}'.format(str(par_ayf[0]).replace('.', '-'), \n",
    "                                                               str(par_cps[0]).replace('.', '-'), \n",
    "                                                               str(o_alpha[0]).replace('.', '-'), \n",
    "                                                               str(o_gamma[0]).replace('.', '-'), \n",
    "                                                               str(p_alpha[0]).replace('.', '-'), \n",
    "                                                               str(input_ag_area[0]))"
   ]
  },
  {
   "cell_type": "markdown",
   "metadata": {},
   "source": [
    "### Processing \n",
    "\n",
    "For each process, the relevant function(s) is imported, then input data is set and finally the process executes"
   ]
  },
  {
   "cell_type": "markdown",
   "metadata": {},
   "source": [
    "#### A. Create binary layers for suitability"
   ]
  },
  {
   "cell_type": "code",
   "execution_count": 4,
   "metadata": {},
   "outputs": [],
   "source": [
    "def getRaster(directory, rst_nme, band=1, asArray=1):\n",
    "    \n",
    "    '''This function returns band or array output from raster file name\n",
    "    \n",
    "    INPOUT\n",
    "    directory: full path to raster file location\n",
    "    rst_name: full name of the raster file \n",
    "    band: band to be used, set to 1 by default\n",
    "    asArray: set to 1 by default\n",
    "    \n",
    "    OUTPUT\n",
    "    '''\n",
    "    \n",
    "    if isinstance(rst_nme, np.ndarray):\n",
    "        arr = rst_nme\n",
    "    else:        \n",
    "        rst = gdal.Open(directory + \"//\" + rst_nme)\n",
    "        band_data = rst.GetRasterBand(band)\n",
    "        arr = BandReadAsArray(band_data)     \n",
    "        \n",
    "    if asArray == 1:\n",
    "        \n",
    "        return arr\n",
    "    else:\n",
    "        return band\n",
    "    \n",
    "#########################################################################################################################\n",
    "\n",
    "def arr2rst(location, ref_rst, arr, output_file, file_type=gdal.GDT_Byte):\n",
    "    ''' \n",
    "    Converts an array to raster\n",
    "    \n",
    "    INPUT\n",
    "    location: full path to raster file location\n",
    "    ref_rst: full name of the raster file \n",
    "    arr: array to be converted\n",
    "    output_file: full output path\n",
    "    output_file: type of file\n",
    "    \n",
    "    OUTPUT\n",
    "    '''\n",
    "    \n",
    "    ref = gdal.Open(location + \"//\" + ref_rst, GA_ReadOnly)\n",
    "    band = ref.GetRasterBand(1)\n",
    "    proj = ref.GetProjection()\n",
    "    geotransform = ref.GetGeoTransform()\n",
    "    xsize = band.XSize\n",
    "    ysize = band.YSize\n",
    "    \n",
    "    gtiff = gdal.GetDriverByName('GTiff') \n",
    "    out = gtiff.Create(output_file, xsize, ysize, 1, file_type)\n",
    "    out.SetProjection(proj)\n",
    "    out.SetGeoTransform(geotransform)\n",
    "    \n",
    "    \n",
    "    out.GetRasterBand(1).WriteArray(arr) \n",
    "    out.FlushCache()\n",
    "    out = None\n",
    "    \n",
    "#########################################################################################################################\n",
    "    \n",
    "def sf(outname, path='i'):\n",
    "    '''\n",
    "    Function that helps define support directories \n",
    "    \n",
    "    INPUT\n",
    "    outname: name of the output directory\n",
    "    '''\n",
    "    \n",
    "    if path == 'i':\n",
    "        return os.path.join(INTERMEDIATE_PATH, outname)\n",
    "    elif path == 't':\n",
    "        return os.path.join(TEMP_PATH, outname)\n",
    "    elif path == 'o':\n",
    "        return os.path.join(OUT_PATH, outname)\n",
    "    elif path == 'd':\n",
    "        return os.path.join(DATA_PATH, outname)\n",
    "    else:\n",
    "        print(\"Please enter folder path as one of below: i - intermediate, t - temp, o - output, d - data, r - rasterpath\")\n",
    "\n",
    "#########################################################################################################################\n",
    "\n",
    "def reclassify_rasters(raster_list, lookup_tbl_list, out_folder = 'i'):\n",
    "    '''\n",
    "    Reclassify a raster numpy array using a look-up table in the form of a tuple-list; only for categorical values\n",
    "    \n",
    "    INPUT\n",
    "    raster_list: list containing full name of rasters to be re-classified\n",
    "    lookup_tbl_list: table to be used for re-classification; format should be like [(old_value_1, new_value_1), (old_value_2, new_value_2), ...] \n",
    "    out_folder: string that indicates where the output will be stored (see sf function)\n",
    "    \n",
    "    OUTPUT\n",
    "    Re-classified raster layers\n",
    "    '''\n",
    "    #lookup_tbl = \n",
    "    ### May need to clip\n",
    "    \n",
    "    counter = 0\n",
    "    for r in raster_list:\n",
    "        print(\"Reclassifying\", r)\n",
    "\n",
    "        rst_nme = r.split('.')[0] + '_sbin.tif'  ## to change\n",
    "        rst_arr = getRaster(dirname, r, band=1, asArray=1)\n",
    "        rst_arr = rst_arr.astype(np.uint16)\n",
    "        \n",
    "        idx, val = np.asarray(lookup_tbl_list[counter]).T\n",
    "        lookup_array = np.zeros(max(idx) + 1)\n",
    "\n",
    "        lookup_array[idx] = val\n",
    "\n",
    "        new_array = lookup_array[rst_arr]\n",
    "\n",
    "        arr2rst(dirname, r, new_array, sf(rst_nme, out_folder), file_type=gdal.GDT_UInt16)\n",
    "        counter = counter + 1\n",
    "    print (\"Completed\")\n",
    "        \n",
    "#########################################################################################################################\n",
    "\n",
    "def threshold_rasters(location, raster_list, condition_list, outnme='t'):\n",
    "    '''\n",
    "    Threshold rasters based on conditions; Condition list of the form - ['>::12', '<=::3']\n",
    "    \n",
    "    INPUT\n",
    "    location: full path to raster file location\n",
    "    raster_list: list containing full name of rasters to be thresholded\n",
    "    condition_list: contains conditions to be used for thresholding; format should be like e.g. ['<=::25']\n",
    "    \n",
    "    OUTPUT\n",
    "    Thresholded raster(s)\n",
    "    '''\n",
    "    ## May need to clip\n",
    "    \n",
    "    counter = 0\n",
    "    for r in raster_list:\n",
    "        print (\"Thresholding\", r)\n",
    "\n",
    "        rst_nme = r.split('.')[0] + '_sbin.tif'  \n",
    "        rst_arr = getRaster(location, r, band=1, asArray=1)\n",
    "        \n",
    "        cond = condition_list[counter].split('::')[0]\n",
    "        thresh = float(condition_list[counter].split('::')[1])\n",
    "        \n",
    "        if cond == '<':\n",
    "            rst = np.where(rst_arr < thresh, 1, 0)\n",
    "        elif cond == '>':\n",
    "            rst = np.where(rst_arr > thresh, 1, 0)\n",
    "        elif cond == '<=':\n",
    "            rst = np.where(rst_arr <= thresh, 1, 0)\n",
    "        elif cond == '>=':\n",
    "            rst = np.where(rst_arr >= thresh, 1, 0)\n",
    "        elif cond == '==':\n",
    "            rst = np.where(rst_arr == thresh, 1, 0)\n",
    "        elif cond == '!=':\n",
    "            rst = np.where(rst_arr != thresh, 1, 0)\n",
    "        else:\n",
    "            print(\"Only >, <, >=, <=, == and != are allowed!\")\n",
    "        \n",
    "        arr2rst(location, r, rst, sf(rst_nme, outnme), file_type=gdal.GDT_Byte)\n",
    "        counter = counter + 1\n",
    "    print (\"Completed\")     "
   ]
  },
  {
   "cell_type": "markdown",
   "metadata": {},
   "source": [
    "Input data"
   ]
  },
  {
   "cell_type": "code",
   "execution_count": 5,
   "metadata": {},
   "outputs": [],
   "source": [
    "# Input layers for suitability which are categorical (to be reclassified)\n",
    "input_cat_lyrs = ['moz_landuse_500_clip.tif', 'moz_pas_500_clip.tif', 'moz_flood_rp50_clip_500.tif'] \n",
    "\n",
    "# Input lookup table for categorical layers ## Pre-process\n",
    "input_lut_list = [[(1,1), (2,1), (3,1), (4,0), (5,1), (6,1), (7,1), (8,0), (10,0), (15, 0)], [(0,1), (1, 0), (3,0)], [(0,1), (1,0)]]      ## Forest cover allowed\n",
    "\n",
    "# Input condition list for continuous layers   ## Pre-process\n",
    "input_con_list = ['<=::25']\n",
    "\n",
    "# Input layers for suitability which are continuous (to be thresholded) ## Spatial Layers(s) \n",
    "input_thr_lyrs = ['moz_pop10_500_clip.tif']"
   ]
  },
  {
   "cell_type": "markdown",
   "metadata": {},
   "source": [
    "Execution"
   ]
  },
  {
   "cell_type": "code",
   "execution_count": 6,
   "metadata": {},
   "outputs": [
    {
     "name": "stdout",
     "output_type": "stream",
     "text": [
      "Reclassifying moz_landuse_500_clip.tif\n",
      "Reclassifying moz_pas_500_clip.tif\n",
      "Reclassifying moz_flood_rp50_clip_500.tif\n",
      "Completed\n",
      "Thresholding moz_pop10_500_clip.tif\n",
      "Completed\n"
     ]
    }
   ],
   "source": [
    "# reclasify rasters\n",
    "reclassify_rasters(input_cat_lyrs, lookup_tbl_list=input_lut_list, out_folder = 't') \n",
    "\n",
    "# Adding threshold to rasters\n",
    "threshold_rasters(dirname, input_thr_lyrs, input_con_list)"
   ]
  },
  {
   "cell_type": "markdown",
   "metadata": {},
   "source": [
    "#### B. Create suitability layer"
   ]
  },
  {
   "cell_type": "code",
   "execution_count": 7,
   "metadata": {},
   "outputs": [],
   "source": [
    "def iterateRasters(folder_nme, wildcard):\n",
    "    '''\n",
    "    Iterate rasters in a folder and get a list\n",
    "    \n",
    "    INPUT\n",
    "    folder_nme: full name of derectory where rasters are stored\n",
    "    wildcard:\n",
    "    \n",
    "    OUTPUT\n",
    "    List of output rasters\n",
    "    '''\n",
    "    pathlist = glob.glob(os.path.join(folder_nme, wildcard))\n",
    "    \n",
    "    paths = []\n",
    "    for path in pathlist:         \n",
    "         path_in_str = str(path)\n",
    "         paths.append(path_in_str)\n",
    "    return paths\n",
    "        \n",
    "#########################################################################################################################\n",
    "\n",
    "def multiply_binary_rasters(rasters, outnme):\n",
    "    '''\n",
    "    Multiply binary rasters\n",
    "    \n",
    "    INPUT\n",
    "    rasters: list of raster to be multiplied\n",
    "    \n",
    "    OUTPUT \n",
    "    Result raster product of multiplication\n",
    "    '''\n",
    "    print (\"Preparing suitability layer...\")\n",
    "    rst = getRaster(TEMP_PATH, rasters[0].split(TEMP_PATH + \"\\\\\")[1])\n",
    "    \n",
    "    for r in rasters[1:]:\n",
    "        ar = getRaster(TEMP_PATH, r.split(TEMP_PATH + \"\\\\\")[1])\n",
    "        rst = rst*ar\n",
    "        \n",
    "    arr2rst(TEMP_PATH, rasters[0].split(TEMP_PATH + \"\\\\\")[1], rst, outnme, file_type=gdal.GDT_Byte)\n",
    "    print (\"Completed\")"
   ]
  },
  {
   "cell_type": "markdown",
   "metadata": {},
   "source": [
    "Execution"
   ]
  },
  {
   "cell_type": "code",
   "execution_count": 8,
   "metadata": {},
   "outputs": [
    {
     "name": "stdout",
     "output_type": "stream",
     "text": [
      "Preparing suitability layer...\n",
      "Completed\n"
     ]
    }
   ],
   "source": [
    "suitability_file = sf('suitability{x}.tif'.format(x=sce_nme), 'i')\n",
    "multiply_binary_rasters(iterateRasters(TEMP_PATH, '*_sbin.tif'), suitability_file) "
   ]
  },
  {
   "cell_type": "markdown",
   "metadata": {},
   "source": [
    "#### C. Create yield layer"
   ]
  },
  {
   "cell_type": "code",
   "execution_count": 9,
   "metadata": {},
   "outputs": [],
   "source": [
    "def weighted_sum(raster_list, weights_list, outnme):\n",
    "    '''\n",
    "    Create weighted sum of rasters\n",
    "    \n",
    "    INPUT\n",
    "    raster_list: list of raster files for which the weighted sum will be calculated\n",
    "    weights_list: list of weights to be used\n",
    "    outnme: name of the output file\n",
    "    \n",
    "    OUTPUT\n",
    "    Weighted sum raster file\n",
    "    '''\n",
    "    print (\"Creating a weighted sum of rasters...\")\n",
    "    rst = getRaster(dirname, raster_list[0]) * weights_list[0]\n",
    "    \n",
    "    if len(raster_list) > 1:\n",
    "        counter = 1\n",
    "        for r in raster_list[1:]:\n",
    "            ar = getRaster(dirname, r)\n",
    "            rst = rst + (ar * weights_list[counter])\n",
    "            counter = counter + 1\n",
    "    \n",
    "    arr2rst(dirname, raster_list[0], rst, outnme, file_type=gdal.GDT_Float32)\n",
    "    print (\"Complete\")"
   ]
  },
  {
   "cell_type": "markdown",
   "metadata": {},
   "source": [
    "Input data"
   ]
  },
  {
   "cell_type": "code",
   "execution_count": 10,
   "metadata": {},
   "outputs": [],
   "source": [
    "# Input yield layers for major crops   ## Spatial Layers(s)\n",
    "input_yield_lyrs = ['mz_rf_low_500_clip_utm.tif'] \n",
    "\n",
    "# Input for attainable yield factor as fraction  ## Core param \n",
    "par_ayf = [1] "
   ]
  },
  {
   "cell_type": "markdown",
   "metadata": {},
   "source": [
    "Execution"
   ]
  },
  {
   "cell_type": "code",
   "execution_count": 11,
   "metadata": {},
   "outputs": [
    {
     "name": "stdout",
     "output_type": "stream",
     "text": [
      "Creating a weighted sum of rasters...\n",
      "Complete\n"
     ]
    }
   ],
   "source": [
    "yield_file = sf('yield{x}.tif' .format(x=sce_nme), 'i')\n",
    "weighted_sum(input_yield_lyrs, par_ayf, yield_file)"
   ]
  },
  {
   "cell_type": "markdown",
   "metadata": {},
   "source": [
    "#### D. Create distance from markets"
   ]
  },
  {
   "cell_type": "code",
   "execution_count": 12,
   "metadata": {},
   "outputs": [],
   "source": [
    "def distRasters(location, rst, outnme):\n",
    "    '''\n",
    "    Calculate distance to markets\n",
    "    \n",
    "    INPUT\n",
    "    location: full path of directory containing rasters\n",
    "    rst: raster to be used\n",
    "    outnme: full path of output directory\n",
    "    \n",
    "    OUTPUT\n",
    "    Raster indicating distance to markets\n",
    "    '''\n",
    "    print (\"Calculating distance to markets...\")\n",
    "    ref = gdal.Open(location + \"//\" + rst, GA_ReadOnly)\n",
    "    band = ref.GetRasterBand(1)\n",
    "    proj = ref.GetProjection()\n",
    "    geotransform = ref.GetGeoTransform()\n",
    "    xsize = band.XSize\n",
    "    ysize = band.YSize\n",
    "    \n",
    "    gtiff = gdal.GetDriverByName('GTiff')\n",
    "    DataSet = gtiff.Create(outnme, xsize, ysize, 1, gdal.GDT_UInt16)\n",
    "    DataSet.SetGeoTransform(geotransform)\n",
    "    DataSet.SetProjection(proj)\n",
    "    \n",
    "    options = []\n",
    "    \n",
    "    gdal.ComputeProximity(band, DataSet.GetRasterBand(1), options, callback = None)\n",
    "    print (\"Completed\")"
   ]
  },
  {
   "cell_type": "markdown",
   "metadata": {},
   "source": [
    "Input data"
   ]
  },
  {
   "cell_type": "code",
   "execution_count": 13,
   "metadata": {},
   "outputs": [],
   "source": [
    "# Input market areas as points and tiff     ## Spatial Layer(s)\n",
    "input_markets = ['moz_markets.shp', 'moz_markets_clip.tif', 'moz_dist2markets_500_clip.tif'] "
   ]
  },
  {
   "cell_type": "markdown",
   "metadata": {},
   "source": [
    "Execution"
   ]
  },
  {
   "cell_type": "code",
   "execution_count": 14,
   "metadata": {},
   "outputs": [
    {
     "name": "stdout",
     "output_type": "stream",
     "text": [
      "Calculating distance to markets...\n",
      "Completed\n"
     ]
    }
   ],
   "source": [
    "mar_dist = sf('dist_2_markets{x}.tif' .format(x=sce_nme), 'o')\n",
    "distRasters(dirname, input_markets[1], mar_dist)"
   ]
  },
  {
   "cell_type": "markdown",
   "metadata": {},
   "source": [
    "#### D. Get farmgate output prices and production costs for revenue"
   ]
  },
  {
   "cell_type": "code",
   "execution_count": 15,
   "metadata": {},
   "outputs": [],
   "source": [
    "def o_distance_decay(prices_file, dist_file, alpha, gamma, shock_factor, output):\n",
    "    '''\n",
    "    Distance decay equation (negative exp)\n",
    "    '''\n",
    "    print (\"Calculating negative exp of d.decay equation...\")\n",
    "    distance_raster = getRaster(OUT_PATH, dist_file, band=1, asArray=1)\n",
    "    output_price = getRaster(dirname, prices_file, band=1, asArray=1)\n",
    "    output_price = output_price * shock_factor\n",
    "    \n",
    "    base_decay = 1.0 - (np.exp((-alpha/distance_raster))*gamma)\n",
    "    arr2rst(dirname, prices_file, base_decay, 'basedecay_test.tif', file_type=gdal.GDT_Float32)\n",
    "    o_decay = output_price * base_decay\n",
    "    arr2rst(dirname, prices_file, o_decay, output, file_type=gdal.GDT_Float32)\n",
    "    print(\"Completed\")\n",
    "    \n",
    "#########################################################################################################################\n",
    "\n",
    "def p_distance_decay(costs_file, dist_file, alpha, suppress, output):\n",
    "    '''\n",
    "    Distance decay equation (positive exp)\n",
    "    '''\n",
    "    print(\"Calculating positive exp of d.decay equation...\")\n",
    "    distance_raster = getRaster(OUT_PATH, dist_file)\n",
    "    cost_price = getRaster(dirname, costs_file)\n",
    "    cost_price = cost_price * suppress\n",
    "    \n",
    "    base_decay = np.exp(alpha * distance_raster)\n",
    "    p_decay = cost_price * base_decay\n",
    "    arr2rst(dirname, costs_file, p_decay, output, file_type=gdal.GDT_Float32)\n",
    "    print(\"Completed\")"
   ]
  },
  {
   "cell_type": "markdown",
   "metadata": {},
   "source": [
    "Input data"
   ]
  },
  {
   "cell_type": "code",
   "execution_count": 16,
   "metadata": {},
   "outputs": [],
   "source": [
    "# Input csv for crop output prices  ## Data Layer(s)\n",
    "input_crop_out_prices = ['mz_output_price_per_ha.tif']\n",
    "\n",
    "mar_dist = \"dist_2_markets_maize_SG_1_1_10000_0-2_0_231990.tif\"\n",
    "#mar_dist = input_markets[2]\n",
    "\n",
    "# Input production prices      ## Spatial Layer(s)\n",
    "input_prod_prices = ['mz_cost_price_per_ha.tif']                                                     \n",
    "\n",
    "# Input WB output price factor  ## Sensitivity param *\n",
    "input_wbp = [1]"
   ]
  },
  {
   "cell_type": "markdown",
   "metadata": {},
   "source": [
    "Execution"
   ]
  },
  {
   "cell_type": "markdown",
   "metadata": {},
   "source": [
    "Negative exponential of the distance decay equation"
   ]
  },
  {
   "cell_type": "code",
   "execution_count": 17,
   "metadata": {},
   "outputs": [
    {
     "name": "stdout",
     "output_type": "stream",
     "text": [
      "Calculating negative exp of d.decay equation...\n"
     ]
    },
    {
     "name": "stderr",
     "output_type": "stream",
     "text": [
      "C:\\Users\\adm.esa\\Anaconda3\\envs\\OSMNX\\lib\\site-packages\\ipykernel_launcher.py:10: RuntimeWarning: divide by zero encountered in true_divide\n",
      "  # Remove the CWD from sys.path while we load stuff.\n"
     ]
    },
    {
     "name": "stdout",
     "output_type": "stream",
     "text": [
      "Completed\n"
     ]
    }
   ],
   "source": [
    "output_prices = sf('output_prices{x}.tif' .format(x=sce_nme), 'i')\n",
    "o_distance_decay(input_crop_out_prices[0], mar_dist, o_alpha[0], o_gamma[0], par_cps[0], output_prices)"
   ]
  },
  {
   "cell_type": "markdown",
   "metadata": {},
   "source": [
    "Positive exponential of the distance decay equation"
   ]
  },
  {
   "cell_type": "code",
   "execution_count": 18,
   "metadata": {},
   "outputs": [
    {
     "name": "stdout",
     "output_type": "stream",
     "text": [
      "Calculating positive exp of d.decay equation...\n",
      "Completed\n"
     ]
    }
   ],
   "source": [
    "cost_prices = sf('cost_prices{x}.tif' .format(x=sce_nme), 'i') \n",
    "p_distance_decay(input_prod_prices[0], mar_dist, p_alpha[0], input_wbp[0], cost_prices)"
   ]
  },
  {
   "cell_type": "markdown",
   "metadata": {},
   "source": [
    "#### E. Get gross revenue and profitability "
   ]
  },
  {
   "cell_type": "code",
   "execution_count": 19,
   "metadata": {},
   "outputs": [],
   "source": [
    "def array_calc(a,b, output, calc = '-', filetype = gdal.GDT_Float32):\n",
    "    '''\n",
    "    Array calculator\n",
    "    '''\n",
    "    print (\"Calculating array multiplication\")\n",
    "    a_ar = getRaster(INTERMEDIATE_PATH, a)\n",
    "    b_ar = getRaster(INTERMEDIATE_PATH, b)   \n",
    "    \n",
    "    if calc == '*':\n",
    "        f = a_ar * b_ar\n",
    "    elif calc == '+':\n",
    "        f = a_ar + b_ar\n",
    "    elif calc == '-':\n",
    "        f = a_ar - b_ar\n",
    "    elif calc == '/':\n",
    "        f = a_ar/b_ar\n",
    "    else:\n",
    "        print(\"Please enter calc as one of: *, +, -, /\")\n",
    "      \n",
    "    arr2rst(INTERMEDIATE_PATH, a, f, output, file_type=filetype)\n",
    "    print (\"Completed\")"
   ]
  },
  {
   "cell_type": "markdown",
   "metadata": {},
   "source": [
    "Input data"
   ]
  },
  {
   "cell_type": "code",
   "execution_count": 20,
   "metadata": {},
   "outputs": [],
   "source": [
    "# Input files\n",
    "yield_file_name = yield_file.split(INTERMEDIATE_PATH + \"\\\\\")[1] \n",
    "output_prices_name = output_prices.split(INTERMEDIATE_PATH + \"\\\\\")[1] "
   ]
  },
  {
   "cell_type": "markdown",
   "metadata": {},
   "source": [
    "Execution"
   ]
  },
  {
   "cell_type": "markdown",
   "metadata": {},
   "source": [
    "Gross revenue"
   ]
  },
  {
   "cell_type": "code",
   "execution_count": 21,
   "metadata": {},
   "outputs": [
    {
     "name": "stdout",
     "output_type": "stream",
     "text": [
      "Calculating array multiplication\n",
      "Completed\n"
     ]
    }
   ],
   "source": [
    "gross_revenue = sf('gross_revenue{x}.tif'.format(x=sce_nme), 'i') \n",
    "array_calc(yield_file_name, output_prices_name, gross_revenue, calc = '*')"
   ]
  },
  {
   "cell_type": "markdown",
   "metadata": {},
   "source": [
    "Revenue"
   ]
  },
  {
   "cell_type": "code",
   "execution_count": 22,
   "metadata": {},
   "outputs": [],
   "source": [
    "# Input files\n",
    "gross_revenue_name = gross_revenue.split(INTERMEDIATE_PATH + \"\\\\\")[1]\n",
    "cost_prices_name = cost_prices.split(INTERMEDIATE_PATH + \"\\\\\")[1]"
   ]
  },
  {
   "cell_type": "code",
   "execution_count": 23,
   "metadata": {},
   "outputs": [
    {
     "name": "stdout",
     "output_type": "stream",
     "text": [
      "Calculating array multiplication\n",
      "Completed\n"
     ]
    }
   ],
   "source": [
    "revenue = sf('revenue{x}.tif'.format(x=sce_nme), 'i') \n",
    "array_calc(gross_revenue_name, cost_prices_name, revenue, calc = '-')"
   ]
  },
  {
   "cell_type": "markdown",
   "metadata": {},
   "source": [
    "Final Revenue (including suitability)"
   ]
  },
  {
   "cell_type": "code",
   "execution_count": 24,
   "metadata": {},
   "outputs": [],
   "source": [
    "# Input files\n",
    "suitability_file_name = suitability_file.split(INTERMEDIATE_PATH + \"\\\\\")[1]\n",
    "revenue_name = revenue.split(INTERMEDIATE_PATH + \"\\\\\")[1]"
   ]
  },
  {
   "cell_type": "code",
   "execution_count": 25,
   "metadata": {},
   "outputs": [
    {
     "name": "stdout",
     "output_type": "stream",
     "text": [
      "Calculating array multiplication\n",
      "Completed\n"
     ]
    }
   ],
   "source": [
    "f_revenue = sf('final_revenue{x}.tif'.format(x=sce_nme), 'i') \n",
    "array_calc(suitability_file_name, revenue_name, f_revenue, calc = '*')"
   ]
  },
  {
   "cell_type": "markdown",
   "metadata": {},
   "source": [
    "#### F. Final raster clip"
   ]
  },
  {
   "cell_type": "code",
   "execution_count": 26,
   "metadata": {},
   "outputs": [],
   "source": [
    "def raster_clip(Input_raster_path,vector_clip_path, outnme):\n",
    "    \"\"\"\n",
    "     This function clips a raster file with a provided polygon and writes the \n",
    "     result to a geotiff file\n",
    "    \n",
    "    Inputs\n",
    "    Input_raster_path - Full file path to raster file \n",
    "    vector_clip_path - Full file path to shapefile to be used in clipping the raster file\n",
    "    \"\"\"\n",
    "    print (\"Clipping raster file to boundaries...\")\n",
    "    with fiona.open(vector_clip_path) as shapefile:\n",
    "        geoms = [feature[\"geometry\"] for feature in shapefile]\n",
    "    with rasterio.open(Input_raster_path) as src:\n",
    "        out_image, out_transform = mask(src, geoms, crop=True)\n",
    "    out_meta = src.meta.copy()\n",
    "    \n",
    "    # save the resulting raster  \n",
    "    out_meta.update({\"driver\": \"GTiff\",\n",
    "        \"height\": out_image.shape[1],\n",
    "        \"width\": out_image.shape[2],\n",
    "    \"transform\": out_transform})\n",
    "    \n",
    "    with rasterio.open(outnme, \"w\", **out_meta) as dest:\n",
    "        dest.write(out_image)\n",
    "    print (\"Completed\")"
   ]
  },
  {
   "cell_type": "markdown",
   "metadata": {},
   "source": [
    "Input data"
   ]
  },
  {
   "cell_type": "code",
   "execution_count": 27,
   "metadata": {},
   "outputs": [],
   "source": [
    "# Input administrative bound file  ## Data Layer(s)\n",
    "input_bnd = dirname + \"\\\\\" + 'moz_bnd.shp'"
   ]
  },
  {
   "cell_type": "markdown",
   "metadata": {},
   "source": [
    "Execution"
   ]
  },
  {
   "cell_type": "code",
   "execution_count": 28,
   "metadata": {},
   "outputs": [
    {
     "name": "stdout",
     "output_type": "stream",
     "text": [
      "Clipping raster file to boundaries...\n",
      "Completed\n"
     ]
    }
   ],
   "source": [
    "final_layer = sf('profitability{x}.tif' .format(x=sce_nme), 'i') \n",
    "raster_clip(f_revenue, input_bnd, final_layer)"
   ]
  },
  {
   "cell_type": "markdown",
   "metadata": {},
   "source": [
    "#### G. Get binary cropland values (threshold)"
   ]
  },
  {
   "cell_type": "code",
   "execution_count": 29,
   "metadata": {},
   "outputs": [],
   "source": [
    "final_layer_name = final_layer.split(INTERMEDIATE_PATH + \"\\\\\")[1] "
   ]
  },
  {
   "cell_type": "code",
   "execution_count": 30,
   "metadata": {},
   "outputs": [
    {
     "name": "stdout",
     "output_type": "stream",
     "text": [
      "Thresholding profitability_maize_SG_1_1_10000_0-2_0_231990.tif\n",
      "Completed\n"
     ]
    }
   ],
   "source": [
    "threshold_rasters(INTERMEDIATE_PATH, [final_layer_name], condition_list=['>::0']) "
   ]
  },
  {
   "cell_type": "code",
   "execution_count": 31,
   "metadata": {},
   "outputs": [],
   "source": [
    "def get_threshold(potential_raster, pixels):\n",
    "    '''\n",
    "    Convert potential raster to urban forecasts using number of pixels to convert\n",
    "    '''\n",
    "    print (\"Converting potential extent to urban forcast...\")\n",
    "    urb_pot = getRaster(INTERMEDIATE_PATH, potential_raster)    \n",
    "    urb_pot = urb_pot[urb_pot > 0]\n",
    "    \n",
    "    u,v = np.unique(urb_pot, return_counts=True)\n",
    "    total_avail_pixels = sum(v)\n",
    "    thresh = sorted(urb_pot, reverse=True)[:pixels][-1]\n",
    "        \n",
    "    return(thresh)\n",
    "\n",
    "#########################################################################################################################\n",
    "\n",
    "def area_to_pixels(demand, unit = 'km2', pixel_size = 30):\n",
    "    '''\n",
    "    Convert area demand to pixels\n",
    "    '''\n",
    "#   demand = demand[0]\n",
    "    pixel_area = pixel_size * pixel_size\n",
    "    if unit == 'km2':\n",
    "        pixels = int(round((demand*1000000.0)/(pixel_area),0))\n",
    "    elif unit == 'm2':\n",
    "        pixels = int(round((demand)/(pixel_area),0))\n",
    "    elif unit == 'ha':\n",
    "        pixels = int(round((demand*10000.0)/(pixel_area),0))   \n",
    "    else:\n",
    "        print(\"Demand should be in m2, km2 or ha\")\n",
    "        \n",
    "    return pixels"
   ]
  },
  {
   "cell_type": "markdown",
   "metadata": {},
   "source": [
    "Execution"
   ]
  },
  {
   "cell_type": "code",
   "execution_count": 32,
   "metadata": {},
   "outputs": [
    {
     "name": "stdout",
     "output_type": "stream",
     "text": [
      "Converting potential extent to urban forcast...\n",
      "Thresholding profitability_maize_SG_1_1_10000_0-2_0_231990.tif\n",
      "Completed\n"
     ]
    }
   ],
   "source": [
    "threshold = get_threshold(final_layer_name, pixels = area_to_pixels(demand = input_ag_area[0], unit = 'ha', pixel_size = 500))\n",
    "threshold_rasters(INTERMEDIATE_PATH, [final_layer_name], ['>=::{0}'.format(str(threshold))],'o')"
   ]
  },
  {
   "cell_type": "markdown",
   "metadata": {},
   "source": [
    "#### H. Exporting final raster in output directory and proper naming"
   ]
  },
  {
   "cell_type": "code",
   "execution_count": 33,
   "metadata": {},
   "outputs": [],
   "source": [
    "def CreateGeoTiff(location, ref_rst, outmame):\n",
    "    '''\n",
    "    Convert array to a one band raster\n",
    "    \n",
    "    INPUT\n",
    "    location: full path of your input raster\n",
    "    output_file: full path and name of the output raster\n",
    "    ref_rst: input raster\n",
    "    \n",
    "    OUTPUT\n",
    "    Basically renaming a raster with gdal\n",
    "    ''' \n",
    "    print (\" Exporting raster layer\")\n",
    "    ref = gdal.Open(location + \"\\\\\" + ref_rst, GA_ReadOnly)\n",
    "    band = ref.GetRasterBand(1)\n",
    "    proj = ref.GetProjection()\n",
    "    geotransform = ref.GetGeoTransform()\n",
    "    xsize = band.XSize\n",
    "    ysize = band.YSize\n",
    "    num_bands = 1\n",
    "    \n",
    "    \n",
    "    gtiff = gdal.GetDriverByName('GTiff')\n",
    "    DataSet = gtiff.Create(outmame, xsize, ysize, num_bands, gdal.GDT_Byte)\n",
    "    DataSet.SetGeoTransform(geotransform)\n",
    "    DataSet.SetProjection(proj)\n",
    "        \n",
    "    DataSet.FlushCache()\n",
    "    print (\"Task completed\")\n"
   ]
  },
  {
   "cell_type": "markdown",
   "metadata": {},
   "source": [
    "Input data"
   ]
  },
  {
   "cell_type": "code",
   "execution_count": 34,
   "metadata": {},
   "outputs": [],
   "source": [
    "fin_layers = iterateRasters(OUT_PATH,'*_sbin.tif')\n",
    "fin_layers_name = fin_layers[0].split(OUT_PATH + \"\\\\\")[1]\n",
    "final_output = (OUT_PATH + \"//\" +'Final_Projected_area_for{x}.tif'.format(x=sce_nme)) "
   ]
  },
  {
   "cell_type": "markdown",
   "metadata": {},
   "source": [
    "Execution"
   ]
  },
  {
   "cell_type": "code",
   "execution_count": 35,
   "metadata": {},
   "outputs": [
    {
     "name": "stdout",
     "output_type": "stream",
     "text": [
      " Exporting raster layer\n",
      "Task completed\n"
     ]
    }
   ],
   "source": [
    "CreateGeoTiff(OUT_PATH, fin_layers_name, final_output)"
   ]
  },
  {
   "cell_type": "code",
   "execution_count": null,
   "metadata": {},
   "outputs": [],
   "source": []
  },
  {
   "cell_type": "markdown",
   "metadata": {},
   "source": [
    "## Additional functions that might be useful\n",
    "(Not included in any of the runs above though)"
   ]
  },
  {
   "cell_type": "code",
   "execution_count": 36,
   "metadata": {},
   "outputs": [],
   "source": [
    "def resample():\n",
    "    '''\n",
    "    Resample\n",
    "    ''' \n",
    "    \n",
    "    from osgeo import gdal, gdalconst\n",
    "    \n",
    "    inputfile = r\"C:\\Users\\Development\\Downloads\\mini_mozambique.tif\"\n",
    "    inputf = gdal.Open(inputfile)\n",
    "    inputProj = inputf.GetProjection()\n",
    "#    inputTrans = inputf.GetGeoTransform()\n",
    "    \n",
    "    referencefile = r\"C:\\Users\\Development\\Downloads\\MODIS_landcover\\MCD12Q1.A2010001.h21v10.006.2018146000538.hdf\"\n",
    "    reference1 = gdal.Open(referencefile)\n",
    "    reference = gdal.Open(reference1.GetSubDatasets()[0][0])\n",
    "    referenceProj = reference.GetProjection()\n",
    "    referenceTrans = reference.GetGeoTransform()\n",
    "#    bandreference = reference.GetRasterBand(1)    \n",
    "    x = reference.RasterXSize \n",
    "    y = reference.RasterYSize\n",
    "    print(type(x),type(y))\n",
    "    print(referenceProj)\n",
    "    print(referenceTrans)\n",
    "    \n",
    "    \n",
    "    outputfile = \"1km_downscaled.tif\"\n",
    "    driver= gdal.GetDriverByName('GTiff')\n",
    "    print(type(outputfile),type(x),type(y))\n",
    "    output = driver.Create(outputfile,x,y,1,gdal.GDT_Float32)\n",
    "    output.SetGeoTransform(referenceTrans)\n",
    "    output.SetProjection(referenceProj)\n",
    "    \n",
    "    gdal.ReprojectImage(input,output,inputProj,referenceProj,gdalconst.GRA_Bilinear)\n",
    "\n",
    "    del output\n",
    "    \n",
    "    # TO DO : Resample raster grid using multiple algos - nearest neighbour, average, median, majority.\n",
    "    # Source: https://gis.stackexchange.com/questions/234022/resampling-a-raster-from-python-without-using-gdalwarp  \n",
    "    \n",
    "\n",
    "#########################################################################################################################\n",
    "      \n",
    "def rasterise(Shapefile_path,Output_filename):\n",
    "    '''\n",
    "    RASTERISE\n",
    "    '''\n",
    "    \n",
    "    # 1) opening the shapefile    \n",
    "    \n",
    "    source_ds = ogr.Open(Shapefile_path)\n",
    "    source_layer = source_ds.GetLayer()\n",
    "    \n",
    "    \n",
    "    # 2) Creating the destination raster data source\n",
    "    \n",
    "    pixelWidth = pixelHeight = 0.1 # depending how fine you want your raster ##COMMENT 1\n",
    "    x_min, x_max, y_min, y_max = source_layer.GetExtent()\n",
    "    cols = int((x_max - x_min) / pixelHeight)\n",
    "    rows = int((y_max - y_min) / pixelWidth)\n",
    "    \n",
    "    target_ds = gdal.GetDriverByName('GTiff').Create(Output_filename, cols, rows, 1, \n",
    "    gdal.GDT_Float32) ##COMMENT 2\n",
    "    \n",
    "    target_ds.SetGeoTransform((x_min, pixelWidth, 0, y_max, 0, -pixelHeight) )##COMMENT 3\n",
    "    \n",
    "    # 5) Adding a spatial reference ##COMMENT 4\n",
    "    target_dsSRS = osr.SpatialReference()\n",
    "    target_dsSRS.ImportFromEPSG(32736)\n",
    "    target_ds.SetProjection(target_dsSRS.ExportToWkt())\n",
    "    \n",
    "    band = target_ds.GetRasterBand(1) \n",
    "    band.SetNoDataValue(0) ##COMMENT 5\n",
    "    \n",
    "    gdal.RasterizeLayer(target_ds, [1], source_layer,burn_values=[1], options=[\"ALL_TOUCHED=TRUE\"]) ##COMMENT 6\n",
    "    \n",
    "    target_ds = None ##COMMENT 7\n",
    "    \n",
    "    # TO DO: Convert shapefile of points and polygons into raster (burn 1, or by attribute)\n",
    "    # Souce: https://gis.stackexchange.com/questions/212795/rasterizing-shapefiles-with-gdal-and-python \n",
    "    \n",
    "#########################################################################################################################\n",
    "\n",
    "def majority_filter(raster, mask_rst, exclude):\n",
    "    '''\n",
    "    Majority filter\n",
    "    '''\n",
    "    arr = getRaster(raster, band=1, asArray=1)\n",
    "    arr = arr.astype(np.float16)\n",
    "    marr = getRaster(mask_rst, band=1, asArray=1)\n",
    "    u,v = np.unique(arr, return_counts=True)\n",
    "    print(u)\n",
    "    for e in exclude:\n",
    "        arr[arr == e] = np.nan\n",
    "    u,v = np.unique(arr, return_counts=True)\n",
    "    print(u)\n",
    "\n",
    "#########################################################################################################################\n",
    "\n",
    "def clipRaster(raster, mask, outnme, filetype=GDT_Float32):\n",
    "    '''\n",
    "    Clip raster using a mask\n",
    "    '''\n",
    "    arr = getRaster(raster, band=1, asArray=1)\n",
    "    mask_arr = getRaster(mask, band=1, asArray=1)\n",
    "    \n",
    "    arr = arr*mask_arr\n",
    "    arr2rst(raster, arr, outnme,  file_type=filetype)\n",
    "    \n",
    "#########################################################################################################################\n",
    "\n",
    "def getPixelValue(rst):\n",
    "    '''\n",
    "    Get pixel size\n",
    "    '''\n",
    "    ds = gdal.Open(rst)\n",
    "    gt = ds.GetGeoTransform()\n",
    "    pixelSize = round(gt[1],0)\n",
    " \n",
    "    return pixelSize\n"
   ]
  },
  {
   "cell_type": "code",
   "execution_count": null,
   "metadata": {},
   "outputs": [],
   "source": []
  }
 ],
 "metadata": {
  "anaconda-cloud": {},
  "kernelspec": {
   "display_name": "Python 3",
   "language": "python",
   "name": "python3"
  },
  "language_info": {
   "codemirror_mode": {
    "name": "ipython",
    "version": 3
   },
   "file_extension": ".py",
   "mimetype": "text/x-python",
   "name": "python",
   "nbconvert_exporter": "python",
   "pygments_lexer": "ipython3",
   "version": "3.7.3"
  }
 },
 "nbformat": 4,
 "nbformat_minor": 1
}
