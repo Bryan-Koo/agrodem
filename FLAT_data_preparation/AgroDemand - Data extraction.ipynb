{
 "cells": [
  {
   "cell_type": "markdown",
   "metadata": {},
   "source": [
    "# FLAT model - input file preparation"
   ]
  },
  {
   "cell_type": "markdown",
   "metadata": {},
   "source": [
    "### Import modules and libraries"
   ]
  },
  {
   "cell_type": "code",
   "execution_count": 1,
   "metadata": {},
   "outputs": [],
   "source": [
    "import geopandas as gpd\n",
    "import rasterio as rio\n",
    "import fiona\n",
    "import gdal\n",
    "import osr\n",
    "import ogr\n",
    "import rasterio.mask\n",
    "import time\n",
    "import os\n",
    "import ogr, gdal, osr, os\n",
    "import numpy as np\n",
    "import itertools\n",
    "import re\n",
    "from rasterio.warp import calculate_default_transform, reproject\n",
    "from rasterio.enums import Resampling\n",
    "from rasterstats import point_query\n",
    "from pyproj import Proj"
   ]
  },
  {
   "cell_type": "markdown",
   "metadata": {},
   "source": [
    "### Processing steps\n",
    "\n",
    "1. Set filepath names - inputs and outputs\n",
    "2. Read raster, shp data, reproject and resample\n",
    "3. Clip data to country boundaries\n",
    "4. Vectorize and extract centroids at target spatial resolution\n",
    "5. Extract raster values to points"
   ]
  },
  {
   "cell_type": "code",
   "execution_count": 2,
   "metadata": {},
   "outputs": [],
   "source": [
    "def reproj(inpath, outpath, new_crs, factor):\n",
    "    dst_crs = new_crs\n",
    "\n",
    "    with rio.open(inpath) as src:\n",
    "        transform, width, height = calculate_default_transform(\n",
    "            src.crs, dst_crs, src.width*factor, src.height*factor, *src.bounds)\n",
    "        kwargs = src.meta.copy()\n",
    "        kwargs.update({\n",
    "            'crs': dst_crs,\n",
    "            'transform': transform,\n",
    "            'width': width,\n",
    "            'height': height\n",
    "        })\n",
    "\n",
    "        with rio.open(outpath, 'w', **kwargs) as dst:\n",
    "            for i in range(1, src.count + 1):\n",
    "                reproject(\n",
    "                    source=rio.band(src, i),\n",
    "                    destination=rio.band(dst, i),\n",
    "                    src_transform=src.transform,\n",
    "                    src_crs=src.crs,\n",
    "                    dst_transform=transform,\n",
    "                    dst_crs=dst_crs,\n",
    "                    resampling=Resampling.nearest)"
   ]
  },
  {
   "cell_type": "markdown",
   "metadata": {},
   "source": [
    "### Step 1. Set filepath names - inputs and outputs"
   ]
  },
  {
   "cell_type": "code",
   "execution_count": 3,
   "metadata": {},
   "outputs": [
    {
     "name": "stdout",
     "output_type": "stream",
     "text": [
      "Wall time: 0 ns\n"
     ]
    }
   ],
   "source": [
    "#start = time.time()\n",
    "%time\n",
    "\n",
    "# Set output filepath\n",
    "fp = r\"C:\\Users\\alekor\\Desktop\\GithubFolder\\agrodem\\FLAT_data_preparation\\Output_Files\"\n",
    "\n",
    "# Set initial raster file (Harvest choice 10x10km) path\n",
    "hcData = r\"C:\\Users\\alekor\\Desktop\\GithubFolder\\agrodem\\FLAT_data_preparation\\Input_Files\\maiz_h--ssa\\maiz_h--ssa.tif\"\n",
    "\n",
    "# Set output raster file name (only projected)\n",
    "hcData_proj = \"maize_proj.tif\"\n",
    "\n",
    "# Set output raster file name (projected + resampled)\n",
    "hcData_proj_res = \"maize_proj_1km.tif\"\n",
    "\n",
    "# Set country boundaries (shp) path\n",
    "country_fp = r\"C:\\Users\\alekor\\Desktop\\GithubFolder\\agrodem\\FLAT_data_preparation\\Input_Files\\gadm36_MOZ_shp\\gadm36_MOZ_0.shp\"\n",
    "\n",
    "# Set projected country boundaries file name  ? - I get an error otherwise, look below.\n",
    "country_proj = \"MOZ_0_proj.shp\"\n",
    "\n",
    "# Set country, crop output raster file name (1km)\n",
    "maize_MOZ = \"maize_MOZ_1km.tif\"\n",
    "\n",
    "# Set country, crop vectorized data\n",
    "maize_MOZ_vec = \"maize_MOZ_vec.shp\"\n",
    "\n",
    "# Set country, crop vector centroids - points\n",
    "maize_MOZ_points = \"maize_MOZ_points.shp\"\n",
    "\n",
    "# Set country, crop points with maize area (final)\n",
    "maize_MOZ_grid_cell_1km = \"maize_MOZ_grid_cell_1km.shp\"\n",
    "\n",
    "# Set final table (csv) path\n",
    "maize_MOZ_data = \"maize_MOZ_data.csv\""
   ]
  },
  {
   "cell_type": "markdown",
   "metadata": {},
   "source": [
    "### Step 2. Read and re-projects crop raster and admin shp layers"
   ]
  },
  {
   "cell_type": "code",
   "execution_count": 10,
   "metadata": {},
   "outputs": [
    {
     "name": "stdout",
     "output_type": "stream",
     "text": [
      "Wall time: 0 ns\n"
     ]
    },
    {
     "data": {
      "image/png": "[encoded data removed]",
      "text/plain": [
       "<Figure size 432x288 with 1 Axes>"
      ]
     },
     "metadata": {
      "needs_background": "light"
     },
     "output_type": "display_data"
    }
   ],
   "source": [
    "#Read initial raster file (HarvestChoice 10x10km^2) - Reproject, resample, and save.\n",
    "#CRS for Mozambique EPSG:32737 - WGS 84 / UTM zone 37S\n",
    "%time\n",
    "\n",
    "reproj(inpath = hcData,\n",
    "       outpath = fp + \"\\\\\" + hcData_proj_res,\n",
    "       new_crs = 'EPSG:32737',\n",
    "       factor = 10)\n",
    "\n",
    "\n",
    "# Read country boundaries outline - Reproject and save.\n",
    "mozambique  = gpd.read_file(country_fp)\n",
    "mozambique_proj = mozambique.to_crs({'init': 'EPSG:32737'})\n",
    "\n",
    "# Save file \n",
    "mozambique_proj.to_file(fp + \"\\\\\" + country_proj)\n",
    "\n",
    "#Print output map (optional)\n",
    "ax = mozambique_proj.plot()\n",
    "ax.set_title(\"EPSG:32737 (lat/lon)\");"
   ]
  },
  {
   "cell_type": "markdown",
   "metadata": {},
   "source": [
    "### Step 3. Clip data to country boundaries"
   ]
  },
  {
   "cell_type": "code",
   "execution_count": 12,
   "metadata": {},
   "outputs": [
    {
     "name": "stdout",
     "output_type": "stream",
     "text": [
      "Wall time: 0 ns\n"
     ]
    }
   ],
   "source": [
    "# Crop raster data to country boundaries - and export.\n",
    "%time\n",
    "\n",
    "with fiona.open(fp + \"\\\\\" + country_proj) as shapefile:\n",
    "    features = [feature[\"geometry\"] for feature in shapefile]\n",
    "\n",
    "\n",
    "with rio.open(fp + \"\\\\\" + hcData_proj_res) as src:\n",
    "    out_image, out_transform = rio.mask.mask(src, features,\n",
    "                                                        crop=True)\n",
    "    out_meta = src.meta.copy()\n",
    "\n",
    "out_meta.update({\"driver\": \"GTiff\",\n",
    "                 \"height\": out_image.shape[1],\n",
    "                 \"width\": out_image.shape[2],\n",
    "                 \"transform\": out_transform})\n",
    "\n",
    "with rio.open(fp + maize_MOZ, \"w\", **out_meta) as dest:\n",
    "    dest.write(out_image)"
   ]
  },
  {
   "cell_type": "markdown",
   "metadata": {},
   "source": [
    "### Step 4. Vectorize and extract centroids at target resolution"
   ]
  },
  {
   "cell_type": "code",
   "execution_count": 16,
   "metadata": {},
   "outputs": [
    {
     "name": "stdout",
     "output_type": "stream",
     "text": [
      "Wall time: 0 ns\n",
      "0 of 1825 rows processed\n",
      "100 of 1825 rows processed\n",
      "200 of 1825 rows processed\n",
      "300 of 1825 rows processed\n",
      "400 of 1825 rows processed\n",
      "500 of 1825 rows processed\n",
      "600 of 1825 rows processed\n",
      "700 of 1825 rows processed\n",
      "800 of 1825 rows processed\n",
      "900 of 1825 rows processed\n",
      "1000 of 1825 rows processed\n",
      "1100 of 1825 rows processed\n",
      "1200 of 1825 rows processed\n",
      "1300 of 1825 rows processed\n",
      "1400 of 1825 rows processed\n",
      "1500 of 1825 rows processed\n",
      "1600 of 1825 rows processed\n",
      "1700 of 1825 rows processed\n",
      "1800 of 1825 rows processed\n"
     ]
    }
   ],
   "source": [
    "%time \n",
    "import ogr, gdal, osr, os\n",
    "import numpy as np\n",
    "import itertools\n",
    "\n",
    "def pixelOffset2coord(raster, xOffset,yOffset):\n",
    "    geotransform = raster.GetGeoTransform()\n",
    "    originX = geotransform[0]\n",
    "    originY = geotransform[3]\n",
    "    pixelWidth = geotransform[1]\n",
    "    pixelHeight = geotransform[5]\n",
    "    coordX = originX+pixelWidth*xOffset\n",
    "    coordY = originY+pixelHeight*yOffset\n",
    "    return coordX, coordY\n",
    "\n",
    "def raster2array(rasterfn):\n",
    "    raster = gdal.Open(rasterfn)\n",
    "    band = raster.GetRasterBand(1)\n",
    "    array = band.ReadAsArray()\n",
    "    return array\n",
    "\n",
    "def array2shp(array,outSHPfn,rasterfn):\n",
    "\n",
    "    # max distance between points\n",
    "    raster = gdal.Open(rasterfn)\n",
    "    geotransform = raster.GetGeoTransform()\n",
    "    pixelWidth = geotransform[1]\n",
    "\n",
    "    srs = osr.SpatialReference()\n",
    "    srs.ImportFromWkt(raster.GetProjection())\n",
    "    \n",
    "    # wkbPoint\n",
    "    shpDriver = ogr.GetDriverByName(\"ESRI Shapefile\")\n",
    "    if os.path.exists(outSHPfn):\n",
    "        shpDriver.DeleteDataSource(outSHPfn)\n",
    "    outDataSource = shpDriver.CreateDataSource(outSHPfn)\n",
    "    outLayer = outDataSource.CreateLayer(outSHPfn, geom_type=ogr.wkbPoint, srs=srs )\n",
    "    featureDefn = outLayer.GetLayerDefn()\n",
    "    outLayer.CreateField(ogr.FieldDefn(\"VALUE\", ogr.OFTInteger))\n",
    "\n",
    "    # array2dict\n",
    "    point = ogr.Geometry(ogr.wkbPoint)\n",
    "    row_count = array.shape[0]\n",
    "    for ridx, row in enumerate(array):\n",
    "        if ridx % 100 == 0:\n",
    "            print (\"{0} of {1} rows processed\".format(ridx, row_count))\n",
    "        for cidx, value in enumerate(row):\n",
    "            #Only positive values\n",
    "            if value > 0:\n",
    "                Xcoord, Ycoord = pixelOffset2coord(raster,cidx,ridx)\n",
    "                point.AddPoint(Xcoord, Ycoord)\n",
    "                outFeature = ogr.Feature(featureDefn)\n",
    "                outFeature.SetGeometry(point)\n",
    "                outFeature.SetField(\"VALUE\", float(value))\n",
    "                outLayer.CreateFeature(outFeature)\n",
    "                outFeature.Destroy()\n",
    "    #outDS.Destroy()\n",
    "\n",
    "array = raster2array(fp + maize_MOZ)\n",
    "array2shp(array,fp + maize_MOZ_points,fp + maize_MOZ)"
   ]
  },
  {
   "cell_type": "markdown",
   "metadata": {},
   "source": [
    "### Step 5. Extract layer values to points"
   ]
  },
  {
   "cell_type": "markdown",
   "metadata": {},
   "source": [
    "#### Harvest Choice (without resampling)"
   ]
  },
  {
   "cell_type": "code",
   "execution_count": 21,
   "metadata": {},
   "outputs": [
    {
     "name": "stdout",
     "output_type": "stream",
     "text": [
      "Wall time: 0 ns\n",
      "Extracting maize_proj.tif values to points...\n"
     ]
    }
   ],
   "source": [
    "%time\n",
    "\n",
    "reproj(inpath = hcData,\n",
    "       outpath = fp + hcData_proj,\n",
    "       new_crs = 'EPSG:32737',\n",
    "       factor = 1)\n",
    "\n",
    "# Reminder\n",
    "#stats = zonal_stats(fp + maize_MOZ_vec, fp + hcData_proj)\n",
    "#pts = point_query(fp + maize_MOZ_points, fp + hcData_proj)\n",
    "\n",
    "print (\"Extracting \" + hcData_proj+ \" values to points...\")\n",
    "data = gpd.read_file(fp + maize_MOZ_points)\n",
    "data['maize_h_HC'] = point_query(fp + maize_MOZ_points, fp + hcData_proj)"
   ]
  },
  {
   "cell_type": "markdown",
   "metadata": {},
   "source": [
    "#### Google Earth Engine data "
   ]
  },
  {
   "cell_type": "markdown",
   "metadata": {},
   "source": [
    "- NDVI\n",
    "- EVI\n",
    "- Elevation\n",
    "- Slope"
   ]
  },
  {
   "cell_type": "code",
   "execution_count": 22,
   "metadata": {},
   "outputs": [
    {
     "name": "stdout",
     "output_type": "stream",
     "text": [
      "CPU times: user 3 µs, sys: 2 µs, total: 5 µs\n",
      "Wall time: 6.91 µs\n",
      "Reading GEE data...\n",
      "Extracting GFSAD-landcover.tif values to points...\n",
      "GFSAD-landcover\n",
      "Extracting SRTM-elevation.tif values to points...\n",
      "SRTM-elevation\n",
      "Extracting MODIS-ndvi.tif values to points...\n",
      "MODIS-ndvi\n",
      "Extracting SRTM-slope.tif values to points...\n",
      "SRTM-slope\n",
      "Extracting MODIS-evi.tif values to points...\n",
      "MODIS-evi\n"
     ]
    }
   ],
   "source": [
    "%time \n",
    "\n",
    "# Define the path of GEE features \n",
    "gee_path_proj = r\"C:\\Users\\alekor\\Desktop\\GithubFolder\\agrodem\\FLAT_data_preparation\\Input_Files\\gee_data\"\n",
    "\n",
    "gee_files_proj=[]\n",
    "\n",
    "print (\"Reading GEE data...\")\n",
    "\n",
    "\n",
    "for i in os.listdir(gee_path_proj):\n",
    "    if i.endswith('.tif'):\n",
    "        gee_files_proj.append(i)\n",
    "\n",
    "\n",
    "for i in gee_files_proj:\n",
    "    print (\"Extracting \" + i + \" values to points...\")    \n",
    "    idx = i.index(\".tif\")\n",
    "    #print(i[:idx])\n",
    "    data[i[:idx]] = point_query(fp + maize_MOZ_points, gee_path_proj + i)"
   ]
  },
  {
   "cell_type": "markdown",
   "metadata": {},
   "source": [
    "#### Climatic Parameters (WorldClimV2)"
   ]
  },
  {
   "cell_type": "code",
   "execution_count": 11,
   "metadata": {},
   "outputs": [
    {
     "name": "stdout",
     "output_type": "stream",
     "text": [
      "Reading climate data...\n",
      "Reprojecting...wc2.0_30s_srad_01.tif\n",
      "Reprojecting...wc2.0_30s_prec_01.tif\n",
      "Reprojecting...wc2.0_30s_tavg_01.tif\n",
      "Reprojecting...wc2.0_30s_wind_01.tif\n",
      "wc2.0_30s_wind_01_proj.tif was clipped to Zambezia's boundaries...\n",
      "Extracting wind values to points...\n",
      "wc2.0_30s_prec_01_proj.tif was clipped to Zambezia's boundaries...\n",
      "Extracting prec values to points...\n",
      "wc2.0_30s_srad_01_proj.tif was clipped to Zambezia's boundaries...\n",
      "Extracting srad values to points...\n",
      "wc2.0_30s_tavg_01_proj.tif was clipped to Zambezia's boundaries...\n",
      "Extracting tavg values to points...\n",
      "CPU times: user 3 µs, sys: 1e+03 ns, total: 4 µs\n",
      "Wall time: 7.15 µs\n"
     ]
    }
   ],
   "source": [
    "#Monthly variation - January selected for pilot testing\n",
    "worldClim_path = r\"C:\\Users\\alekor\\Desktop\\GithubFolder\\agrodem\\FLAT_data_preparation\\Input_Files\\worldclim_data\"\n",
    "worldClim_path_proj = r\"C:\\Users\\alekor\\Desktop\\GithubFolder\\agrodem\\FLAT_data_preparation\\Input_Files\\worldclim_data\\wc_reproj\"\n",
    "\n",
    "worldClim_files=[]\n",
    "worldClim_files_proj=[]\n",
    "\n",
    "print (\"Reading climate data...\")\n",
    "\n",
    "for i in os.listdir(worldClim_path):\n",
    "    if i.endswith('.tif'):\n",
    "        worldClim_files.append(i)\n",
    "\n",
    "for i in worldClim_files:\n",
    "    print (\"Reprojecting...\" + i)\n",
    "    idx = i.index(\".tif\")\n",
    "    reproj(inpath=worldClim_path + i,\n",
    "           outpath=worldClim_path_proj + i[:idx] + \"_proj\" +i[idx:] ,\n",
    "           new_crs='EPSG:32737',\n",
    "           factor=1)\n",
    "    \n",
    "for i in os.listdir(worldClim_path_proj):\n",
    "    if i.endswith('.tif'):\n",
    "        worldClim_files_proj.append(i)\n",
    "\n",
    "for i in worldClim_files_proj:\n",
    "    with rio.open(worldClim_path_proj + i) as src:\n",
    "        out_image, out_transform = rio.mask.mask(src, features,crop=True)\n",
    "        out_meta = src.meta.copy()\n",
    "        out_meta.update({\"driver\": \"GTiff\",\n",
    "                 \"height\": out_image.shape[1],\n",
    "                 \"width\": out_image.shape[2],\n",
    "                 \"transform\": out_transform})\n",
    "\n",
    "    with rio.open(worldClim_path_proj + i, \"w\", **out_meta) as dest:\n",
    "        dest.write(out_image)\n",
    "    \n",
    "    print (i+ \" was clipped to Zambezia's boundaries...\")\n",
    "    \n",
    "    substr = re.findall(\"_[a-z]{4}_\", i)\n",
    "    columName = substr[0].replace(\"_\",\"\")\n",
    "    print (\"Extracting \" + columName + \" values to points...\")\n",
    "    data[columName] = point_query(fp + maize_MOZ_points, worldClim_path_proj + i)\n",
    "\n",
    "%time "
   ]
  },
  {
   "cell_type": "markdown",
   "metadata": {},
   "source": [
    "#### Soil Parameters (AfricaSoilGrids)"
   ]
  },
  {
   "cell_type": "code",
   "execution_count": 13,
   "metadata": {},
   "outputs": [
    {
     "name": "stdout",
     "output_type": "stream",
     "text": [
      "CPU times: user 2 µs, sys: 0 ns, total: 2 µs\n",
      "Wall time: 5.96 µs\n",
      "Reading soil data...\n",
      "af_CLYPPT_T__M_sd1_250m_proj.tifwas clipped to Zambezia's boundaries...\n",
      "Extracting CLYPPT values to points...\n",
      "af_BLD_T__M_sd1_250m_proj.tifwas clipped to Zambezia's boundaries...\n",
      "Extracting BLD values to points...\n",
      "SRTM_W_250m_proj.tifwas clipped to Zambezia's boundaries...\n",
      "Extracting W values to points...\n",
      "af_PHIHOX_T__M_sd1_250m_proj.tifwas clipped to Zambezia's boundaries...\n",
      "Extracting PHIHOX values to points...\n",
      "af_ORCDRC_T__M_sd1_250m_proj.tifwas clipped to Zambezia's boundaries...\n",
      "Extracting ORCDRC values to points...\n",
      "SRTM_SE_250m_proj.tifwas clipped to Zambezia's boundaries...\n",
      "Extracting SE values to points...\n",
      "af_DRAINFAO_T__M_250m_proj.tifwas clipped to Zambezia's boundaries...\n",
      "Extracting DRAINFAO values to points...\n",
      "af_TEXMHT_T__M_sd1_250m_proj.tifwas clipped to Zambezia's boundaries...\n",
      "Extracting TEXMHT values to points...\n",
      "af_BDRICM_T__M_250m_proj.tifwas clipped to Zambezia's boundaries...\n",
      "Extracting BDRICM values to points...\n"
     ]
    }
   ],
   "source": [
    "#sample input parameters\n",
    "%time\n",
    "\n",
    "soilGrids_path = r\"C:\\Users\\alekor\\Desktop\\GithubFolder\\agrodem\\FLAT_data_preparation\\Input_Files\\africaSoil\"\n",
    "soilGrids_path_proj = r\"C:\\Users\\alekor\\Desktop\\GithubFolder\\agrodem\\FLAT_data_preparation\\Input_Files\\africaSoil\\afg_reproj\"\n",
    "\n",
    "soilGrid_files = []\n",
    "soilGrid_files_proj = []\n",
    "\n",
    "print (\"Reading soil data...\")\n",
    "\n",
    "# for i in os.listdir(soilGrids_path):\n",
    "#     if i.endswith('.tif'):\n",
    "#         soilGrid_files.append(i)\n",
    "\n",
    "# for i in soilGrid_files:\n",
    "#     print (\"Reprojecting...\" + i)\n",
    "#     idx = i.index(\".\")\n",
    "#     reproj(inpath=soilGrids_path + i,\n",
    "#            outpath=soilGrids_path_proj + i[:idx] + \"_proj\" +i[idx:] ,\n",
    "#            new_crs='EPSG:32737',\n",
    "#            factor=1)\n",
    "\n",
    "for i in os.listdir(soilGrids_path_proj):\n",
    "    if i.endswith('.tif'):\n",
    "        soilGrid_files_proj.append(i)\n",
    "\n",
    "for i in soilGrid_files_proj:\n",
    "    with rio.open(soilGrids_path_proj + i) as src:\n",
    "        out_image, out_transform = rio.mask.mask(src, features,crop=True)\n",
    "        out_meta = src.meta.copy()\n",
    "        out_meta.update({\"driver\": \"GTiff\",\n",
    "                 \"height\": out_image.shape[1],\n",
    "                 \"width\": out_image.shape[2],\n",
    "                 \"transform\": out_transform})\n",
    "\n",
    "    with rio.open(soilGrids_path_proj + i, \"w\", **out_meta) as dest:\n",
    "        dest.write(out_image)\n",
    "    \n",
    "    print (i+ \"was clipped to Zambezia's boundaries...\")\n",
    "    substr = re.findall(\"_(.+?)_\", i)\n",
    "    columName = substr[0]\n",
    "    print (\"Extracting \" + columName + \" values to points...\")\n",
    "    data[columName] = point_query(fp + maize_MOZ_points, soilGrids_path_proj + i)"
   ]
  },
  {
   "cell_type": "markdown",
   "metadata": {},
   "source": [
    "#### Elevation & slope (in case retrieved separately and not from gee)"
   ]
  },
  {
   "cell_type": "code",
   "execution_count": null,
   "metadata": {},
   "outputs": [],
   "source": [
    "#%time\n",
    "#\n",
    "#elevation_path = r\"...\"\n",
    "#elevation_path_proj = r\"...\"\n",
    "#\n",
    "#elev = \"SRTM_SE_250m.tif\"\n",
    "#elev_proj = \"SRTM_SE_250m_proj.tif\"\n",
    "#\n",
    "#print (\"Reprojecting...\" + elev)\n",
    "#reproj(inpath = elevation_path + elev,\n",
    "#       outpath = elevation_path_proj + elev_proj,\n",
    "#       new_crs = 'EPSG:32737',\n",
    "#       factor = 1)\n",
    "#\n",
    "#with rio.open(elevation_path_proj + elev_proj) as src:\n",
    "#        out_image, out_transform = rio.mask.mask(src, features,crop=True)\n",
    "#        out_meta = src.meta.copy()\n",
    "#        out_meta.update({\"driver\": \"GTiff\",\n",
    "#                 \"height\": out_image.shape[1],\n",
    "#                 \"width\": out_image.shape[2],\n",
    "#                 \"transform\": out_transform})\n",
    "#\n",
    "#with rio.open(elevation_path_proj + elev_proj, \"w\", **out_meta) as dest:\n",
    "#    dest.write(out_image)\n",
    "#\n",
    "#data['elev'] = point_query(fp + maize_MOZ_points, elevation_path_proj + elev_proj)\n",
    "#\n",
    "#data.to_file(fp + \"data_GEE_WorldClim_SoilGrids_Elev.shp\")"
   ]
  },
  {
   "cell_type": "markdown",
   "metadata": {},
   "source": [
    "#### Assign Latitude and Longitude"
   ]
  },
  {
   "cell_type": "code",
   "execution_count": 28,
   "metadata": {},
   "outputs": [
    {
     "data": {
      "text/html": [
       "<div>\n",
       "<style scoped>\n",
       "    .dataframe tbody tr th:only-of-type {\n",
       "        vertical-align: middle;\n",
       "    }\n",
       "\n",
       "    .dataframe tbody tr th {\n",
       "        vertical-align: top;\n",
       "    }\n",
       "\n",
       "    .dataframe thead th {\n",
       "        text-align: right;\n",
       "    }\n",
       "</style>\n",
       "<table border=\"1\" class=\"dataframe\">\n",
       "  <thead>\n",
       "    <tr style=\"text-align: right;\">\n",
       "      <th></th>\n",
       "      <th>VALUE</th>\n",
       "      <th>maize_h_HC</th>\n",
       "      <th>GFSAD-landcover</th>\n",
       "      <th>SRTM-elevation</th>\n",
       "      <th>MODIS-ndvi</th>\n",
       "      <th>SRTM-slope</th>\n",
       "      <th>MODIS-evi</th>\n",
       "      <th>wind</th>\n",
       "      <th>prec</th>\n",
       "      <th>srad</th>\n",
       "      <th>...</th>\n",
       "      <th>PHIHOX</th>\n",
       "      <th>ORCDRC</th>\n",
       "      <th>SE</th>\n",
       "      <th>DRAINFAO</th>\n",
       "      <th>TEXMHT</th>\n",
       "      <th>BDRICM</th>\n",
       "      <th>lonUTM</th>\n",
       "      <th>latUTM</th>\n",
       "      <th>lon</th>\n",
       "      <th>lat</th>\n",
       "    </tr>\n",
       "  </thead>\n",
       "  <tbody>\n",
       "    <tr>\n",
       "      <th>0</th>\n",
       "      <td>258</td>\n",
       "      <td>126.923392</td>\n",
       "      <td>1.330109</td>\n",
       "      <td>853.264944</td>\n",
       "      <td>6403.687307</td>\n",
       "      <td>11.310229</td>\n",
       "      <td>3277.329986</td>\n",
       "      <td>1.490595</td>\n",
       "      <td>277.006256</td>\n",
       "      <td>17265.677162</td>\n",
       "      <td>...</td>\n",
       "      <td>57.065534</td>\n",
       "      <td>21.764265</td>\n",
       "      <td>889.049186</td>\n",
       "      <td>5.000000</td>\n",
       "      <td>6.171849</td>\n",
       "      <td>158.906195</td>\n",
       "      <td>302771.334302</td>\n",
       "      <td>8.340833e+06</td>\n",
       "      <td>37.165714</td>\n",
       "      <td>-15.000218</td>\n",
       "    </tr>\n",
       "    <tr>\n",
       "      <th>1</th>\n",
       "      <td>258</td>\n",
       "      <td>147.563392</td>\n",
       "      <td>1.330109</td>\n",
       "      <td>1081.022003</td>\n",
       "      <td>6507.347361</td>\n",
       "      <td>15.854384</td>\n",
       "      <td>3219.560671</td>\n",
       "      <td>1.402846</td>\n",
       "      <td>287.391491</td>\n",
       "      <td>17288.555725</td>\n",
       "      <td>...</td>\n",
       "      <td>56.182518</td>\n",
       "      <td>20.292910</td>\n",
       "      <td>1183.493908</td>\n",
       "      <td>5.000000</td>\n",
       "      <td>6.000000</td>\n",
       "      <td>164.728645</td>\n",
       "      <td>303775.740244</td>\n",
       "      <td>8.340833e+06</td>\n",
       "      <td>37.175051</td>\n",
       "      <td>-15.000293</td>\n",
       "    </tr>\n",
       "    <tr>\n",
       "      <th>2</th>\n",
       "      <td>258</td>\n",
       "      <td>168.203392</td>\n",
       "      <td>1.330109</td>\n",
       "      <td>1455.425572</td>\n",
       "      <td>6263.906239</td>\n",
       "      <td>16.701038</td>\n",
       "      <td>2949.530051</td>\n",
       "      <td>1.490357</td>\n",
       "      <td>296.133216</td>\n",
       "      <td>17236.699826</td>\n",
       "      <td>...</td>\n",
       "      <td>55.090051</td>\n",
       "      <td>26.057395</td>\n",
       "      <td>1414.669793</td>\n",
       "      <td>5.000000</td>\n",
       "      <td>6.000000</td>\n",
       "      <td>141.050570</td>\n",
       "      <td>304780.146186</td>\n",
       "      <td>8.340833e+06</td>\n",
       "      <td>37.184389</td>\n",
       "      <td>-15.000368</td>\n",
       "    </tr>\n",
       "    <tr>\n",
       "      <th>3</th>\n",
       "      <td>258</td>\n",
       "      <td>188.843392</td>\n",
       "      <td>1.330109</td>\n",
       "      <td>1522.134653</td>\n",
       "      <td>6568.908992</td>\n",
       "      <td>15.792265</td>\n",
       "      <td>3456.843417</td>\n",
       "      <td>1.662432</td>\n",
       "      <td>304.491258</td>\n",
       "      <td>17160.786020</td>\n",
       "      <td>...</td>\n",
       "      <td>52.000000</td>\n",
       "      <td>51.000000</td>\n",
       "      <td>1742.000000</td>\n",
       "      <td>5.000000</td>\n",
       "      <td>6.000000</td>\n",
       "      <td>132.000000</td>\n",
       "      <td>305784.552128</td>\n",
       "      <td>8.340833e+06</td>\n",
       "      <td>37.193727</td>\n",
       "      <td>-15.000442</td>\n",
       "    </tr>\n",
       "    <tr>\n",
       "      <th>4</th>\n",
       "      <td>258</td>\n",
       "      <td>142.788816</td>\n",
       "      <td>0.000000</td>\n",
       "      <td>756.989975</td>\n",
       "      <td>5827.661548</td>\n",
       "      <td>7.969555</td>\n",
       "      <td>3167.059946</td>\n",
       "      <td>1.310524</td>\n",
       "      <td>265.000326</td>\n",
       "      <td>17410.273620</td>\n",
       "      <td>...</td>\n",
       "      <td>57.877183</td>\n",
       "      <td>16.366192</td>\n",
       "      <td>748.575918</td>\n",
       "      <td>5.931281</td>\n",
       "      <td>8.819163</td>\n",
       "      <td>137.557869</td>\n",
       "      <td>302771.334302</td>\n",
       "      <td>8.339828e+06</td>\n",
       "      <td>37.165636</td>\n",
       "      <td>-15.009295</td>\n",
       "    </tr>\n",
       "  </tbody>\n",
       "</table>\n",
       "<p>5 rows × 23 columns</p>\n",
       "</div>"
      ],
      "text/plain": [
       "   VALUE  maize_h_HC  GFSAD-landcover  SRTM-elevation   MODIS-ndvi  \\\n",
       "0    258  126.923392         1.330109      853.264944  6403.687307   \n",
       "1    258  147.563392         1.330109     1081.022003  6507.347361   \n",
       "2    258  168.203392         1.330109     1455.425572  6263.906239   \n",
       "3    258  188.843392         1.330109     1522.134653  6568.908992   \n",
       "4    258  142.788816         0.000000      756.989975  5827.661548   \n",
       "\n",
       "   SRTM-slope    MODIS-evi      wind        prec          srad  ...  \\\n",
       "0   11.310229  3277.329986  1.490595  277.006256  17265.677162  ...   \n",
       "1   15.854384  3219.560671  1.402846  287.391491  17288.555725  ...   \n",
       "2   16.701038  2949.530051  1.490357  296.133216  17236.699826  ...   \n",
       "3   15.792265  3456.843417  1.662432  304.491258  17160.786020  ...   \n",
       "4    7.969555  3167.059946  1.310524  265.000326  17410.273620  ...   \n",
       "\n",
       "      PHIHOX     ORCDRC           SE  DRAINFAO    TEXMHT      BDRICM  \\\n",
       "0  57.065534  21.764265   889.049186  5.000000  6.171849  158.906195   \n",
       "1  56.182518  20.292910  1183.493908  5.000000  6.000000  164.728645   \n",
       "2  55.090051  26.057395  1414.669793  5.000000  6.000000  141.050570   \n",
       "3  52.000000  51.000000  1742.000000  5.000000  6.000000  132.000000   \n",
       "4  57.877183  16.366192   748.575918  5.931281  8.819163  137.557869   \n",
       "\n",
       "          lonUTM        latUTM        lon        lat  \n",
       "0  302771.334302  8.340833e+06  37.165714 -15.000218  \n",
       "1  303775.740244  8.340833e+06  37.175051 -15.000293  \n",
       "2  304780.146186  8.340833e+06  37.184389 -15.000368  \n",
       "3  305784.552128  8.340833e+06  37.193727 -15.000442  \n",
       "4  302771.334302  8.339828e+06  37.165636 -15.009295  \n",
       "\n",
       "[5 rows x 23 columns]"
      ]
     },
     "execution_count": 28,
     "metadata": {},
     "output_type": "execute_result"
    }
   ],
   "source": [
    "df = data\n",
    "\n",
    "df = data.drop('geometry', axis=1)\n",
    "df = df.drop('W', axis=1)\n",
    "#df.rename(columns={'lon': 'lonUTM', 'lat': 'latUTM'}, inplace=True)\n",
    "df['lonUTM'] = data.geometry.apply(lambda p: p.x)\n",
    "df['latUTM'] = data.geometry.apply(lambda p: p.y)\n",
    "MOZproj = Proj(\"+proj=utm +zone=37 +south +datum=WGS84 +units=m +no_defs\")\n",
    "lon,lat = MOZproj(df['lonUTM'].values, df['latUTM'].values, inverse=True)\n",
    "df['lon'] = lon\n",
    "df['lat'] = lat\n",
    "\n",
    "df.head()"
   ]
  },
  {
   "cell_type": "code",
   "execution_count": 29,
   "metadata": {},
   "outputs": [
    {
     "data": {
      "text/plain": [
       "VALUE                 0\n",
       "maize_h_HC         1879\n",
       "GFSAD-landcover       0\n",
       "SRTM-elevation        0\n",
       "MODIS-ndvi            6\n",
       "SRTM-slope           82\n",
       "MODIS-evi             4\n",
       "wind                302\n",
       "prec                302\n",
       "srad                302\n",
       "tavg                302\n",
       "CLYPPT              431\n",
       "BLD                 431\n",
       "PHIHOX              431\n",
       "ORCDRC              431\n",
       "SE                  267\n",
       "DRAINFAO            431\n",
       "TEXMHT              431\n",
       "BDRICM              431\n",
       "lonUTM                0\n",
       "latUTM                0\n",
       "lon                   0\n",
       "lat                   0\n",
       "dtype: int64"
      ]
     },
     "execution_count": 29,
     "metadata": {},
     "output_type": "execute_result"
    }
   ],
   "source": [
    "#Print NA values in dataset \n",
    "#df.isna().sum()\n",
    "\n",
    "#Set NA values equal to 0\n",
    "#df = df.fillna(0)"
   ]
  },
  {
   "cell_type": "markdown",
   "metadata": {},
   "source": [
    "### Export datarame to csv file"
   ]
  },
  {
   "cell_type": "code",
   "execution_count": 30,
   "metadata": {},
   "outputs": [],
   "source": [
    "path = r\"C:\\Users\\alekor\\Desktop\\GithubFolder\\agrodem\\FLAT_data_preparation\\Output_Files\\Output_to_FLAT\"\n",
    "df.to_csv(os.path.join(path,\"{c}.csv\".format(c=\"FLAT_Input_Data\")))"
   ]
  }
 ],
 "metadata": {
  "kernelspec": {
   "display_name": "Python 3",
   "language": "python",
   "name": "python3"
  },
  "language_info": {
   "codemirror_mode": {
    "name": "ipython",
    "version": 3
   },
   "file_extension": ".py",
   "mimetype": "text/x-python",
   "name": "python",
   "nbconvert_exporter": "python",
   "pygments_lexer": "ipython3",
   "version": "3.7.3"
  }
 },
 "nbformat": 4,
 "nbformat_minor": 2
}
