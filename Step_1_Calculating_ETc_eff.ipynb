{
 "cells": [
  {
   "cell_type": "markdown",
   "metadata": {},
   "source": [
    "# In the first step the algorithm estimates.."
   ]
  },
  {
   "cell_type": "markdown",
   "metadata": {},
   "source": [
    "## First import modules required"
   ]
  },
  {
   "cell_type": "code",
   "execution_count": 82,
   "metadata": {},
   "outputs": [],
   "source": [
    "import pandas as pd\n",
    "import datetime   #check this\n",
    "import pyeto\n",
    "import numpy as np\n",
    "import ast       #check this\n",
    "import math\n",
    "from ast import literal_eval  #check this\n",
    "from pandas import DataFrame\n",
    "from scipy.interpolate import interp1d\n",
    "# note that pyeto is available here https://github.com/woodcrafty/PyETo.git\n",
    "from pyeto import fao\n",
    "from datetime import datetime\n",
    "#%matplotlib inline     #check this\n",
    "\n",
    "math.exp = np.exp\n",
    "math.pow = np.power\n",
    "math.sqrt = np.sqrt"
   ]
  },
  {
   "cell_type": "markdown",
   "metadata": {},
   "source": [
    "## Creating a dataframe containing main initial inputs "
   ]
  },
  {
   "attachments": {},
   "cell_type": "markdown",
   "metadata": {},
   "source": [
    "Main inputs include:\n",
    "\n",
    "* Crop lat, lon\n",
    "* Crop area\n",
    "* Ground water depth\n",
    "* Elevation\n",
    "* Average wind speed per month\n",
    "* Min, Average, Max temperature per month\n",
    "* Average precipitation per month\n",
    "* Average solar irradiation per month"
   ]
  },
  {
   "cell_type": "code",
   "execution_count": 83,
   "metadata": {},
   "outputs": [],
   "source": [
    "#This is a sample dataset with approx 30k points. \n",
    "df=pd.read_csv('Pilot_Input_Crops.csv') \n",
    "\n",
    "#df=df.drop(df[df['harv_t']==0].index) #Deleting any point that has zero harvesting area\n",
    "#df=df.reset_index()    #reseting the index after deleting the zero value points\n",
    "#del df['index']        #The previous step will generate a new column form the old index, this step deletes this column with old index"
   ]
  },
  {
   "cell_type": "code",
   "execution_count": null,
   "metadata": {},
   "outputs": [],
   "source": []
  },
  {
   "cell_type": "code",
   "execution_count": 84,
   "metadata": {},
   "outputs": [],
   "source": [
    "#in the intital code, there are two more steps related to calibration and projection. Check if you need them\n",
    "#define available water content  ##Not used in the ETO estimation\n",
    "#where 0.9 rooting depth for maize and 50% maximum depletion factor\n",
    "#def awc_class(row):\n",
    "#    if (row['awc_class']==0):\n",
    "#        return 0\n",
    "#    elif (row['awc_class']==1):\n",
    "#        return 150*0.9*0.5\n",
    "#    elif (row['awc_class']==2):\n",
    "#        return 125*0.9*0.5\n",
    "#    elif (row['awc_class']==3):\n",
    "#        return 100*0.9*0.5\n",
    "#    elif (row['awc_class']==4):\n",
    "#        return 75*0.9*0.5\n",
    "#    elif (row['awc_class']==5):\n",
    "#        return 50*0.9*0.5\n",
    "#    elif (row['awc_class']==6):\n",
    "#        return 15*0.9*0.5\n",
    "#    elif (row['awc_class']==7):\n",
    "#        return 0*0.9*0.5\n",
    "#    else:\n",
    "#        return 75*0.9*0.5\n",
    "\n",
    "#df['awc'] = df.apply(awc_class,axis=1)"
   ]
  },
  {
   "cell_type": "code",
   "execution_count": 85,
   "metadata": {},
   "outputs": [],
   "source": [
    "#Estimating the DAILY ETo function:\n",
    "#shf – Soil heat flux (G) [MJ m-2 day-1] (default is 0.0, which is reasonable for a daily or 10-day time steps).\n",
    "\n",
    "\n",
    "def evap_i(lat,elev,wind,srad,tmin,tmax,tavg,month):\n",
    "    if month ==1:\n",
    "        J = 15\n",
    "    else:\n",
    "        J = 15 + (month-1)*30\n",
    "        \n",
    "    latitude = pyeto.deg2rad(lat)\n",
    "    atmosphericVapourPressure = pyeto.avp_from_tmin(tmin)\n",
    "    saturationVapourPressure = pyeto.svp_from_t(tavg)\n",
    "    ird = pyeto.inv_rel_dist_earth_sun(J)\n",
    "    solarDeclination = pyeto.sol_dec(J)\n",
    "    sha = [pyeto.sunset_hour_angle(l, solarDeclination) for l in latitude]\n",
    "    extraterrestrialRad = [pyeto.et_rad(x, solarDeclination,y,ird) for x, y in zip(latitude,sha)]\n",
    "    clearSkyRad = pyeto.cs_rad(elev,extraterrestrialRad)\n",
    "    netInSolRadnet = pyeto.net_in_sol_rad(srad*0.001, albedo=0.23)\n",
    "    netOutSolRadnet = pyeto.net_out_lw_rad(tmin, tmax, srad*0.001, clearSkyRad, atmosphericVapourPressure)\n",
    "    netRadiation = pyeto.net_rad(netInSolRadnet,netOutSolRadnet)\n",
    "    tempKelvin = pyeto.celsius2kelvin(tavg)\n",
    "    windSpeed2m = wind\n",
    "    slopeSvp = pyeto.delta_svp(tavg)\n",
    "    atmPressure = pyeto.atm_pressure(elev)\n",
    "    psyConstant = pyeto.psy_const(atmPressure)\n",
    "    \n",
    "    return pyeto.fao56_penman_monteith(netRadiation, tempKelvin, windSpeed2m, saturationVapourPressure, atmosphericVapourPressure, slopeSvp, psyConstant, shf=0.0)"
   ]
  },
  {
   "cell_type": "code",
   "execution_count": 86,
   "metadata": {},
   "outputs": [],
   "source": [
    "for i in range(1,13):\n",
    "    df['ETo_{}'.format(i)]=0  ##To make sure the it is reset to zero"
   ]
  },
  {
   "cell_type": "code",
   "execution_count": 87,
   "metadata": {},
   "outputs": [
    {
     "name": "stdout",
     "output_type": "stream",
     "text": [
      "Wall time: 148 ms\n"
     ]
    }
   ],
   "source": [
    "%%time\n",
    "#calculate ETo for each row for each month \n",
    "## range(1,13) and .format(i): to generate monthly calculation of ETo\n",
    "## df.iterrows() and use of .iloc[index]: To make sure the calculation will be repearted for each index point. \n",
    "\n",
    "for i in range(1,13):\n",
    "    df['ETo_{}'.format(i)] = evap_i(df['lat'],df['elevation'],df['wind_{}'.format(i)],df['srad_{}'.format(i)],df['tmin_{}'.format(i)],df['tmax_{}'.format(i)],df['tavg_{}'.format(i)],i)"
   ]
  },
  {
   "cell_type": "code",
   "execution_count": 88,
   "metadata": {},
   "outputs": [],
   "source": [
    "#Will save the ETO to save time and avoid computing it everytime \n",
    "#Create a Pandas Excel writer using XlsxWriter as the engine.\n",
    "writer = pd.ExcelWriter('Pilot_ETO.xlsx', engine='xlsxwriter')\n",
    "\n",
    "# Convert the dataframe to an XlsxWriter Excel object.\n",
    "df.to_excel(writer, sheet_name='ETO_all')\n",
    "\n",
    "\n",
    "# Close the Pandas Excel writer and output the Excel file.\n",
    "writer.save()\n"
   ]
  },
  {
   "cell_type": "code",
   "execution_count": 89,
   "metadata": {},
   "outputs": [],
   "source": [
    "#Effective rainfall function \n",
    "\n",
    "def eff_rainfall(prec,eto):\n",
    "    return (1.253*((prec**0.824)-2.935))*10**(0.001*eto)  #Find the source"
   ]
  },
  {
   "cell_type": "code",
   "execution_count": 90,
   "metadata": {},
   "outputs": [
    {
     "name": "stdout",
     "output_type": "stream",
     "text": [
      "Wall time: 112 ms\n"
     ]
    }
   ],
   "source": [
    "%%time\n",
    "#calculate eff rainfall for each row for each month\n",
    "#This source: http://www.fao.org/docrep/S2022E/s2022e08.htm was initially used but the updated equaiton of the effective rainfall comes form another source: \n",
    "\n",
    "for i in range(1,13):\n",
    "    df['eff_{}'.format(i)]=0\n",
    "    \n",
    "for i in range(1,13):\n",
    "    df.loc[df['prec_{}'.format(i)] < 12.5, 'eff_{}'.format(i)] = df['prec_{}'.format(i)]/30\n",
    "    df.loc[df['prec_{}'.format(i)] >= 12.5, 'eff_{}'.format(i)] = eff_rainfall(df['prec_{}'.format(i)],df['ETo_{}'.format(i)])/30 "
   ]
  },
  {
   "cell_type": "code",
   "execution_count": 91,
   "metadata": {},
   "outputs": [],
   "source": [
    "#Will save the ETO to save time and avoid computing it everytime \n",
    "#Create a Pandas Excel writer using XlsxWriter as the engine.\n",
    "writer = pd.ExcelWriter('Pilot_ETO_RF.xlsx', engine='xlsxwriter')\n",
    "\n",
    "# Convert the dataframe to an XlsxWriter Excel object.\n",
    "df.to_excel(writer, sheet_name='RF_all')\n",
    "\n",
    "\n",
    "# Close the Pandas Excel writer and output the Excel file.\n",
    "writer.save()\n"
   ]
  },
  {
   "cell_type": "code",
   "execution_count": 92,
   "metadata": {},
   "outputs": [],
   "source": [
    "#df=pd.read_excel('Pilot_ETO_RF.xlsx')"
   ]
  },
  {
   "cell_type": "code",
   "execution_count": 93,
   "metadata": {},
   "outputs": [],
   "source": [
    "#for the NWSAS we will assume all the region a unimodal area which means it has one raining season only. \n",
    "df['Mode']=('unimodal')"
   ]
  },
  {
   "cell_type": "code",
   "execution_count": 94,
   "metadata": {},
   "outputs": [],
   "source": [
    "\n",
    "#calculate kc based on the growing stage (month - planting, growing, harvesting season/month)\n",
    "import math\n",
    "import dateutil     #dateutil module provides powerful extensions to the standard datetime module\n",
    "from dateutil import parser  #This module offers reads the given date in string and convert it to date format or timestamps,it represent a date and/or time from most known formats \n",
    "\n",
    "#introduce the kc function and its attributes\n",
    "\n",
    "#def kc(plantation,Li,Ld,Lm,Le,kci,kcd,kcm,kce,isodate):  #initial code\n",
    "\n",
    "def kc(plantation,Li1,Li2,Ld,Lm,Le,kci1,kci2,kcd,kcm,kce,isodate):  #new code: Li1, Li2, kci1 and kci2 \n",
    "    \n",
    "    \"\"\"\n",
    "Each crop goes through four growing stages: initial - development - mid-season and end-season (check FAO-56 chapter 6 for more details)\n",
    "\n",
    "Inputs:\n",
    "Plantation = plantation datetime \n",
    "Li = length of the initial stage (in days)\n",
    "Ld = length of the development stage (in days)\n",
    "Lm = length of the mid-season stage (in days)\n",
    "Le = length of the end-season stage (in days)\n",
    "\n",
    "kci = crop coefficient 'kc' at the initial stage. In this stage the ckc value is constant and equal to kci\n",
    "kcm = crop coefficient 'kc' at the mid-season stage.  In this stage the ckc value is constant and equal to kcm\n",
    "kce = crop coefficient 'kc' at the end-season stage. In this stege the ckc value varies linearly between kce and kcm. check equation 66 (page 132, FAO56). \n",
    "isodate = current date (optional)\n",
    "\n",
    "Outputs: \n",
    "* ckc : current crop coefficient, which is constant in the initial and mid-season stages and varies linearly in the development (increasing) and end-season (declining) stages. \n",
    "\n",
    "Some Examples:\n",
    "     Kc(plantation=\"2014-01-01\",Li=25,Ld=25,Lm=30,Le=20,Kci=0.15,Kcm=1.19,Kce=0.35,isodate=\"2014-01-20\")\n",
    "        >>> 0.15\n",
    "     \n",
    "     Kc(plantation=\"2014-01-01\",Li=25,Ld=25,Lm=30,Le=20,Kci=0.15,Kcm=1.19,Kce=0.35,isodate=\"2014-02-10\")\n",
    "        >>> 0.774\n",
    "     \n",
    "     Kc(plantation=\"2014-01-01\",Li=25,Ld=25,Lm=30,Le=20,Kci=0.15,Kcm=1.19,Kce=0.35,isodate=\"2014-03-12\")\n",
    "        >>> 1.19\n",
    "     \n",
    "     Kc(plantation=\"2014-01-01\",Li=25,Ld=25,Lm=30,Le=20,Kci=0.15,Kcm=1.19,Kce=0.35,isodate=\"2014-04-06\")\n",
    "        >>> 0.559\n",
    "    \n",
    "    \"\"\"\n",
    "#step 1: \n",
    "    \n",
    "    plantation = pd.to_datetime(plantation, format='%d/%m') #converting the plantation input info to data time\n",
    "    isodate = pd.to_datetime(isodate , format='%d/%m')  #converting the current date input info to data time\n",
    "    test = ((isodate-plantation).days)%365   #The difference in days between the current day and the plantation day.\n",
    "    \n",
    "    # Setting the plantation date and the current date (this is not used)\n",
    "    Jc = test   \n",
    "    Jp = 0\n",
    "    J = (Jc - Jp)%365  # %365 means the remaing days of the year\n",
    "    \n",
    "#Step 2: Calculating the day of the year when each crop stage ends placing the date in the number of days year betweem 0 (1/jan) and 365 (31/Jan)\n",
    "    JLi1 = Jp + Li1    #end of initial stage = plantation date + lenght of initial stage\n",
    "    JLi2 = JLi1 + Li2\n",
    "    JLd = JLi2 + Ld   #end of development stage = end of initial stage + length of development stage\n",
    "    JLm = JLd + Lm   #end of mid-season stage = end of development stage + length of mid-season stage\n",
    "    JLe = JLm + Le   #end of end-season stage = end of mid-season stage + length of end-season stage\n",
    "\n",
    "#step 3: calculating ckc based on the end of each stage date\n",
    "\n",
    "    if Jc > Jp and Jc < JLe:   #if the current date is greater than the plantation date and it is greater than the end of end-season stage\n",
    "        if J <= JLi1:    \n",
    "            ckc = kci1  #if the current date is before the end of initial stage then ckc = kci the coefficient of the initial stege\n",
    "        elif Jc > JLi1 and Jc <=JLi2: #New: to account for two init stages\n",
    "            ckc = kci2\n",
    "        elif Jc > JLi2 and Jc <=JLd:  #if the current date is betweeen the end of the intial stege and the end of the development stage, then ckc is computed based on equation 66 (page 132.FAO56)\n",
    "            ckc = kci2 + ((Jc-JLi2)/Ld * (kcm-kci2))\n",
    "        elif Jc > JLd and Jc <= JLm: \n",
    "            ckc = kcm\n",
    "        elif Jc > JLm and Jc <= JLe:\n",
    "            ckc = kcm + ((Jc-JLm)/Le * (kce-kcm))\n",
    "            \n",
    "    else:\n",
    "        ckc = 0\n",
    "    \n",
    "    return ckc\n",
    "\n"
   ]
  },
  {
   "cell_type": "code",
   "execution_count": 95,
   "metadata": {
    "scrolled": true
   },
   "outputs": [
    {
     "name": "stdout",
     "output_type": "stream",
     "text": [
      "Wall time: 1.28 s\n"
     ]
    }
   ],
   "source": [
    "%%time\n",
    "\n",
    "#calculate kc based on the growing stage (month - planting, growing, harvesting season/month)\n",
    "import math\n",
    "import dateutil     #dateutil module provides powerful extensions to the standard datetime module\n",
    "from dateutil import parser  #This module offers reads the given date in string and convert it to date format or timestamps,it represent a date and/or time from most known formats \n",
    "\n",
    "\n",
    "mode = pd.read_excel('Pilot_Crop_Calendar.xlsx')\n",
    "\n",
    "#Note: The code here is adjusted to avoid the end of year issue. In other cases, the init1 and init2 are one stage init:\n",
    "#pay attention to all changes, you may need to change this if the crop calendar change \n",
    "\n",
    "\n",
    "#Planting season: Initial Stage 1 (plant = init1+ init2 )\n",
    "init1_start = pd.to_datetime(mode['init1_start'], format='%d/%m') #defining the plant start date from excel and setting the correct month and days sequence to read.\n",
    "init1_end = pd.to_datetime(mode['init1_end'], format='%d/%m')\n",
    "mode['init1_start_month'] = init1_start.dt.month\n",
    "mode['init1_end_month'] = init1_end.dt.month\n",
    "mode['init1_days'] = abs(init1_end - init1_start).dt.days #Calculating the length of the planting season\n",
    "Li1 = abs(init1_end - init1_start).dt.days\n",
    "\n",
    "#Planting season: Initial Stage 2 (plant = init1+ init2 )\n",
    "init2_start = pd.to_datetime(mode['init2_start'], format='%d/%m') #defining the plant start date from excel and setting the correct month and days sequence to read.\n",
    "init2_end = pd.to_datetime(mode['init2_end'], format='%d/%m')\n",
    "mode['init2_start_month'] = init2_start.dt.month\n",
    "mode['init2_end_month'] = init2_end.dt.month\n",
    "mode['init2_days'] = abs(init2_end - init2_start).dt.days #Calculating the length of the planting season\n",
    "Li2 = abs(init2_end - init2_start).dt.days\n",
    "\n",
    "\n",
    "#growing 1: Development Stage (grow = dev)\n",
    "dev_start = pd.to_datetime(mode['dev_start'], format='%d/%m')\n",
    "dev_end = pd.to_datetime(mode['dev_end'], format='%d/%m')\n",
    "mode['dev_start_month'] = dev_start.dt.month\n",
    "mode['dev_end_month'] = dev_end.dt.month\n",
    "mode['dev_days'] = abs(dev_end - dev_start).dt.days\n",
    "Ld = abs(dev_end - dev_start).dt.days \n",
    " \n",
    "\n",
    "#growing 2: Mid stage ( add : mid)\n",
    "mid_start = pd.to_datetime(mode['mid_start'], format='%d/%m')\n",
    "mid_end = pd.to_datetime(mode['mid_end'], format='%d/%m')\n",
    "mode['mid_start_month'] = mid_start.dt.month\n",
    "mode['mid_end_month'] = mid_end.dt.month\n",
    "mode['mid_days'] = abs(mid_end - mid_start).dt.days\n",
    "Lm = abs(mid_end - mid_start).dt.days \n",
    "\n",
    "\n",
    "#Harvesting: Late stage (harv = late)\n",
    "late_start = pd.to_datetime(mode['late_start'], format='%d/%m') #defining the plant start date from excil and setting the correct month and days sequence to read.\n",
    "late_end = pd.to_datetime(mode['late_end'], format='%d/%m')\n",
    "mode['late_start_month'] = late_start.dt.month\n",
    "mode['late_end_month'] = late_end.dt.month\n",
    "mode['late_days'] = abs(late_end - late_start).dt.days #Calculating the length of the planting season\n",
    "Le = abs(late_end - late_start).dt.days\n",
    "\n",
    "#\n",
    "#\n",
    "#\n",
    "#\n",
    "\n",
    "\n",
    "\n",
    "#%%time\n",
    "#mode = pd.read_excel('NWSAS_CC.xls')\n",
    "for i in range(1,13):\n",
    "    mode['kc_{}'.format(i)]=0\n",
    "    \n",
    "for index,row in mode.iterrows():\n",
    "    for i in range(0,12):\n",
    "        init1_start = pd.to_datetime(mode['init1_start'].iloc[index], format='%d/%m') #read the plant start date from excel. \n",
    "        day_start= (init1_start.day+1-31)%31   #what does this represent??   \n",
    "        \n",
    "        if (init1_start.day-1==30):\n",
    "            month_start = (init1_start.month+1-12)%12  #next month\n",
    "        else:\n",
    "            month_start = (init1_start.month-12)%12  #the current month\n",
    "            \n",
    "        month_start = (month_start+i)%12\n",
    "        if (month_start==0):\n",
    "            month_start = 12\n",
    "        mode.loc[index,'kc_{}'.format(month_start)] = kc(mode['init1_start'].iloc[index],mode['init1_days'].iloc[index],mode['init2_days'].iloc[index],mode['dev_days'].iloc[index],mode['mid_days'].iloc[index],mode['late_days'].iloc[index],0.8,0.8,0.9,1,0.8,'{}/{}'.format(day_start,month_start))\n",
    "        #print (kc)\n",
    "        \n",
    "        # reacall that def kc(plantation,Li,Ld,Lm,Le,kci,kcd,kcm,kce,isodate): \n",
    "        #Assuming that :\n",
    "        #Li = plant_days\n",
    "        #Ld = dev_days\n",
    "        #lm = mid_days.\n",
    "        #le = late_days\n",
    "        #kci = 0.8 tabulated values FAO \n",
    "        #kcd = 0.9 tablated values FAO \n",
    "        #kcm = 1 tablated values FAO \n",
    "        #kce = 0.8 tabulated values FAO \n",
    "        #isodate = '{}/{}'.format(day_start,month_start) \n",
    "\n",
    "#\n",
    "#\n",
    "#\n",
    "#\n",
    "        \n",
    "#so far we worked with (df) dataframe which contains GIS outputs, then we created a (mode) dataframe. Here we mege them on into one new dataframe called (data) and we chose the merging to be on the 'Mode' column \n",
    "\n",
    "data = pd.merge(df,mode,on='Mode')  #merging the two dataframes on 'Mode' column\n",
    "\n",
    "# Calculating the annual precipitation: which is the sum of precipitation values\n",
    "\n",
    "data['precipitation_annual']=data.filter(like='prec_').sum(axis=1)  #Filter is used to specify the column of interest\n",
    "\n",
    "#\n",
    "#\n",
    "#\n",
    "#\n",
    "\n",
    "\n",
    "#Create a Pandas Excel writer using XlsxWriter as the engine.\n",
    "writer = pd.ExcelWriter('Pilot_Result_Part1.xlsx', engine='xlsxwriter')\n",
    "\n",
    "# Convert the dataframe to an XlsxWriter Excel object.\n",
    "data.to_excel(writer, sheet_name='Total_area_dateCC')\n",
    "\n",
    "# Close the Pandas Excel writer and output the Excel file.\n",
    "writer.save()"
   ]
  },
  {
   "cell_type": "code",
   "execution_count": 96,
   "metadata": {},
   "outputs": [],
   "source": [
    "##Not used in NWSAS calculation since we are dealing with ground water only\n",
    "#\n",
    "#%%time \n",
    "#for index,row in data.iterrows():\n",
    "#    for i in range(1,13):\n",
    "#        data['rech_{}'.format(i)].iloc[index]=row['prec_{}'.format(i)]/row['precipitation_annual']*row['aquifer_rech']"
   ]
  },
  {
   "cell_type": "code",
   "execution_count": 97,
   "metadata": {},
   "outputs": [],
   "source": [
    "#%%time\n",
    "#for index,row in data.iterrows():\n",
    "#    for i in range(1,13):\n",
    "#        data['max_rech_{}'.format(i)].iloc[index]=row['rech_{}'.format(i)]*10*row['aquifer_ha']"
   ]
  },
  {
   "cell_type": "code",
   "execution_count": null,
   "metadata": {},
   "outputs": [],
   "source": []
  }
 ],
 "metadata": {
  "anaconda-cloud": {},
  "kernelspec": {
   "display_name": "Python 3",
   "language": "python",
   "name": "python3"
  },
  "language_info": {
   "codemirror_mode": {
    "name": "ipython",
    "version": 3
   },
   "file_extension": ".py",
   "mimetype": "text/x-python",
   "name": "python",
   "nbconvert_exporter": "python",
   "pygments_lexer": "ipython3",
   "version": "3.7.3"
  }
 },
 "nbformat": 4,
 "nbformat_minor": 2
}
